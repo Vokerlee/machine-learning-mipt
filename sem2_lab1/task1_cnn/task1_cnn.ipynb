{
 "cells": [
  {
   "cell_type": "markdown",
   "metadata": {},
   "source": [
    "### Libraries"
   ]
  },
  {
   "cell_type": "code",
   "execution_count": 29,
   "metadata": {},
   "outputs": [],
   "source": [
    "from sklearn.model_selection import ParameterGrid\n",
    "from tqdm import tqdm\n",
    "import numpy as np\n",
    "\n",
    "from torch.utils.tensorboard import SummaryWriter\n",
    "from torchvision.datasets import FashionMNIST\n",
    "import torchvision\n",
    "import torch"
   ]
  },
  {
   "cell_type": "code",
   "execution_count": 4,
   "metadata": {},
   "outputs": [
    {
     "name": "stdout",
     "output_type": "stream",
     "text": [
      "Archive:  experiment.zip\n",
      "   creating: ./experiment/\n",
      "   creating: ./experiment/{'bn': True, 'dropout': 0.25, 'kernel_size': 5, 'layers': 2, 'pooling': True}/\n",
      "  inflating: ./experiment/{'bn': True, 'dropout': 0.25, 'kernel_size': 5, 'layers': 2, 'pooling': True}/events.out.tfevents.1711283788.VOKERLEE.22547.19  \n",
      "  inflating: ./experiment/{'bn': True, 'dropout': 0.25, 'kernel_size': 5, 'layers': 2, 'pooling': True}/events.out.tfevents.1709936094.VOKERLEE.29627.16  \n",
      "   creating: ./experiment/{'bn': False, 'dropout': 0.25, 'kernel_size': 3, 'layers': 3, 'pooling': False}/\n",
      "  inflating: ./experiment/{'bn': False, 'dropout': 0.25, 'kernel_size': 3, 'layers': 3, 'pooling': False}/events.out.tfevents.1711285710.VOKERLEE.22547.54  \n",
      "  inflating: ./experiment/{'bn': False, 'dropout': 0.25, 'kernel_size': 3, 'layers': 3, 'pooling': False}/events.out.tfevents.1709938256.VOKERLEE.29627.51  \n",
      "   creating: ./experiment/{'bn': True, 'dropout': 0.5, 'kernel_size': 5, 'layers': 2, 'pooling': False}/\n",
      "  inflating: ./experiment/{'bn': True, 'dropout': 0.5, 'kernel_size': 5, 'layers': 2, 'pooling': False}/events.out.tfevents.1711284458.VOKERLEE.22547.32  \n",
      "  inflating: ./experiment/{'bn': True, 'dropout': 0.5, 'kernel_size': 5, 'layers': 2, 'pooling': False}/events.out.tfevents.1709936931.VOKERLEE.29627.29  \n",
      "   creating: ./experiment/{'bn': False, 'dropout': 0.0, 'kernel_size': 7, 'layers': 3, 'pooling': False}/\n",
      "  inflating: ./experiment/{'bn': False, 'dropout': 0.0, 'kernel_size': 7, 'layers': 3, 'pooling': False}/events.out.tfevents.1709938041.VOKERLEE.29627.47  \n",
      "  inflating: ./experiment/{'bn': False, 'dropout': 0.0, 'kernel_size': 7, 'layers': 3, 'pooling': False}/events.out.tfevents.1711285492.VOKERLEE.22547.50  \n",
      "   creating: ./experiment/{'bn': False, 'dropout': 0.25, 'kernel_size': 5, 'layers': 3, 'pooling': True}/\n",
      "  inflating: ./experiment/{'bn': False, 'dropout': 0.25, 'kernel_size': 5, 'layers': 3, 'pooling': True}/events.out.tfevents.1711285902.VOKERLEE.22547.57  \n",
      "  inflating: ./experiment/{'bn': False, 'dropout': 0.25, 'kernel_size': 5, 'layers': 3, 'pooling': True}/events.out.tfevents.1709938434.VOKERLEE.29627.54  \n",
      "   creating: ./experiment/{'bn': True, 'dropout': 0.0, 'kernel_size': 3, 'layers': 3, 'pooling': False}/\n",
      "  inflating: ./experiment/{'bn': True, 'dropout': 0.0, 'kernel_size': 3, 'layers': 3, 'pooling': False}/events.out.tfevents.1709935333.VOKERLEE.29627.3  \n",
      "  inflating: ./experiment/{'bn': True, 'dropout': 0.0, 'kernel_size': 3, 'layers': 3, 'pooling': False}/events.out.tfevents.1711282962.VOKERLEE.22547.6  \n",
      "   creating: ./experiment/{'bn': False, 'dropout': 0.5, 'kernel_size': 5, 'layers': 2, 'pooling': True}/\n",
      "  inflating: ./experiment/{'bn': False, 'dropout': 0.5, 'kernel_size': 5, 'layers': 2, 'pooling': True}/events.out.tfevents.1711286533.VOKERLEE.22547.67  \n",
      "  inflating: ./experiment/{'bn': False, 'dropout': 0.5, 'kernel_size': 5, 'layers': 2, 'pooling': True}/events.out.tfevents.1709939044.VOKERLEE.29627.64  \n",
      "   creating: ./experiment/{'bn': False, 'dropout': 0.25, 'kernel_size': 7, 'layers': 3, 'pooling': True}/\n",
      "  inflating: ./experiment/{'bn': False, 'dropout': 0.25, 'kernel_size': 7, 'layers': 3, 'pooling': True}/events.out.tfevents.1709938689.VOKERLEE.29627.58  \n",
      "  inflating: ./experiment/{'bn': False, 'dropout': 0.25, 'kernel_size': 7, 'layers': 3, 'pooling': True}/events.out.tfevents.1711286161.VOKERLEE.22547.61  \n",
      "   creating: ./experiment/{'bn': False, 'dropout': 0.25, 'kernel_size': 3, 'layers': 2, 'pooling': True}/\n",
      "  inflating: ./experiment/{'bn': False, 'dropout': 0.25, 'kernel_size': 3, 'layers': 2, 'pooling': True}/events.out.tfevents.1711285554.VOKERLEE.22547.51  \n",
      "  inflating: ./experiment/{'bn': False, 'dropout': 0.25, 'kernel_size': 3, 'layers': 2, 'pooling': True}/events.out.tfevents.1709938092.VOKERLEE.29627.48  \n",
      "   creating: ./experiment/{'bn': False, 'dropout': 0.5, 'kernel_size': 5, 'layers': 3, 'pooling': False}/\n",
      "  inflating: ./experiment/{'bn': False, 'dropout': 0.5, 'kernel_size': 5, 'layers': 3, 'pooling': False}/events.out.tfevents.1711286682.VOKERLEE.22547.70  \n",
      "  inflating: ./experiment/{'bn': False, 'dropout': 0.5, 'kernel_size': 5, 'layers': 3, 'pooling': False}/events.out.tfevents.1709939235.VOKERLEE.29627.67  \n",
      "   creating: ./experiment/{'bn': False, 'dropout': 0.5, 'kernel_size': 5, 'layers': 3, 'pooling': True}/\n",
      "  inflating: ./experiment/{'bn': False, 'dropout': 0.5, 'kernel_size': 5, 'layers': 3, 'pooling': True}/events.out.tfevents.1709939162.VOKERLEE.29627.66  \n",
      "  inflating: ./experiment/{'bn': False, 'dropout': 0.5, 'kernel_size': 5, 'layers': 3, 'pooling': True}/events.out.tfevents.1711286630.VOKERLEE.22547.69  \n",
      "   creating: ./experiment/{'bn': True, 'dropout': 0.5, 'kernel_size': 7, 'layers': 3, 'pooling': True}/\n",
      "  inflating: ./experiment/{'bn': True, 'dropout': 0.5, 'kernel_size': 7, 'layers': 3, 'pooling': True}/events.out.tfevents.1711284733.VOKERLEE.22547.37  \n",
      "  inflating: ./experiment/{'bn': True, 'dropout': 0.5, 'kernel_size': 7, 'layers': 3, 'pooling': True}/events.out.tfevents.1709937263.VOKERLEE.29627.34  \n",
      "   creating: ./experiment/{'bn': True, 'dropout': 0.25, 'kernel_size': 5, 'layers': 2, 'pooling': False}/\n",
      "  inflating: ./experiment/{'bn': True, 'dropout': 0.25, 'kernel_size': 5, 'layers': 2, 'pooling': False}/events.out.tfevents.1709936152.VOKERLEE.29627.17  \n",
      "  inflating: ./experiment/{'bn': True, 'dropout': 0.25, 'kernel_size': 5, 'layers': 2, 'pooling': False}/events.out.tfevents.1711283840.VOKERLEE.22547.20  \n",
      "   creating: ./experiment/{'bn': True, 'dropout': 0.5, 'kernel_size': 3, 'layers': 2, 'pooling': True}/\n",
      "  inflating: ./experiment/{'bn': True, 'dropout': 0.5, 'kernel_size': 3, 'layers': 2, 'pooling': True}/events.out.tfevents.1711284210.VOKERLEE.22547.27  \n",
      "  inflating: ./experiment/{'bn': True, 'dropout': 0.5, 'kernel_size': 3, 'layers': 2, 'pooling': True}/events.out.tfevents.1709936615.VOKERLEE.29627.24  \n",
      "   creating: ./experiment/{'bn': True, 'dropout': 0.0, 'kernel_size': 7, 'layers': 2, 'pooling': False}/\n",
      "  inflating: ./experiment/{'bn': True, 'dropout': 0.0, 'kernel_size': 7, 'layers': 2, 'pooling': False}/events.out.tfevents.1711283340.VOKERLEE.22547.12  \n",
      "  inflating: ./experiment/{'bn': True, 'dropout': 0.0, 'kernel_size': 7, 'layers': 2, 'pooling': False}/events.out.tfevents.1709935682.VOKERLEE.29627.9  \n",
      "   creating: ./experiment/{'bn': True, 'dropout': 0.0, 'kernel_size': 5, 'layers': 3, 'pooling': False}/\n",
      "  inflating: ./experiment/{'bn': True, 'dropout': 0.0, 'kernel_size': 5, 'layers': 3, 'pooling': False}/events.out.tfevents.1709935574.VOKERLEE.29627.7  \n",
      "  inflating: ./experiment/{'bn': True, 'dropout': 0.0, 'kernel_size': 5, 'layers': 3, 'pooling': False}/events.out.tfevents.1711283181.VOKERLEE.22547.10  \n",
      "   creating: ./experiment/{'bn': True, 'dropout': 0.25, 'kernel_size': 7, 'layers': 2, 'pooling': False}/\n",
      "  inflating: ./experiment/{'bn': True, 'dropout': 0.25, 'kernel_size': 7, 'layers': 2, 'pooling': False}/events.out.tfevents.1709936422.VOKERLEE.29627.21  \n",
      "  inflating: ./experiment/{'bn': True, 'dropout': 0.25, 'kernel_size': 7, 'layers': 2, 'pooling': False}/events.out.tfevents.1711284044.VOKERLEE.22547.24  \n",
      "   creating: ./experiment/{'bn': True, 'dropout': 0.25, 'kernel_size': 7, 'layers': 3, 'pooling': True}/\n",
      "  inflating: ./experiment/{'bn': True, 'dropout': 0.25, 'kernel_size': 7, 'layers': 3, 'pooling': True}/events.out.tfevents.1709936491.VOKERLEE.29627.22  \n",
      "  inflating: ./experiment/{'bn': True, 'dropout': 0.25, 'kernel_size': 7, 'layers': 3, 'pooling': True}/events.out.tfevents.1711284093.VOKERLEE.22547.25  \n",
      "   creating: ./experiment/{'bn': True, 'dropout': 0.5, 'kernel_size': 7, 'layers': 3, 'pooling': False}/\n",
      "  inflating: ./experiment/{'bn': True, 'dropout': 0.5, 'kernel_size': 7, 'layers': 3, 'pooling': False}/events.out.tfevents.1711284799.VOKERLEE.22547.38  \n",
      "  inflating: ./experiment/{'bn': True, 'dropout': 0.5, 'kernel_size': 7, 'layers': 3, 'pooling': False}/events.out.tfevents.1709937332.VOKERLEE.29627.35  \n",
      "   creating: ./experiment/{'bn': False, 'dropout': 0.5, 'kernel_size': 7, 'layers': 3, 'pooling': True}/\n",
      "  inflating: ./experiment/{'bn': False, 'dropout': 0.5, 'kernel_size': 7, 'layers': 3, 'pooling': True}/events.out.tfevents.1711286833.VOKERLEE.22547.73  \n",
      "  inflating: ./experiment/{'bn': False, 'dropout': 0.5, 'kernel_size': 7, 'layers': 3, 'pooling': True}/events.out.tfevents.1709939431.VOKERLEE.29627.70  \n",
      "   creating: ./experiment/{'bn': False, 'dropout': 0.0, 'kernel_size': 5, 'layers': 3, 'pooling': False}/\n",
      "  inflating: ./experiment/{'bn': False, 'dropout': 0.0, 'kernel_size': 5, 'layers': 3, 'pooling': False}/events.out.tfevents.1711285238.VOKERLEE.22547.46  \n",
      "  inflating: ./experiment/{'bn': False, 'dropout': 0.0, 'kernel_size': 5, 'layers': 3, 'pooling': False}/events.out.tfevents.1709937790.VOKERLEE.29627.43  \n",
      "   creating: ./experiment/{'bn': True, 'dropout': 0.0, 'kernel_size': 7, 'layers': 2, 'pooling': True}/\n",
      "  inflating: ./experiment/{'bn': True, 'dropout': 0.0, 'kernel_size': 7, 'layers': 2, 'pooling': True}/events.out.tfevents.1711283292.VOKERLEE.22547.11  \n",
      "  inflating: ./experiment/{'bn': True, 'dropout': 0.0, 'kernel_size': 7, 'layers': 2, 'pooling': True}/events.out.tfevents.1709935625.VOKERLEE.29627.8  \n",
      "   creating: ./experiment/{'bn': True, 'dropout': 0.25, 'kernel_size': 7, 'layers': 3, 'pooling': False}/\n",
      "  inflating: ./experiment/{'bn': True, 'dropout': 0.25, 'kernel_size': 7, 'layers': 3, 'pooling': False}/events.out.tfevents.1711284149.VOKERLEE.22547.26  \n",
      "  inflating: ./experiment/{'bn': True, 'dropout': 0.25, 'kernel_size': 7, 'layers': 3, 'pooling': False}/events.out.tfevents.1709936559.VOKERLEE.29627.23  \n",
      "   creating: ./experiment/{'bn': True, 'dropout': 0.25, 'kernel_size': 3, 'layers': 2, 'pooling': False}/\n",
      "  inflating: ./experiment/{'bn': True, 'dropout': 0.25, 'kernel_size': 3, 'layers': 2, 'pooling': False}/events.out.tfevents.1709935922.VOKERLEE.29627.13  \n",
      "  inflating: ./experiment/{'bn': True, 'dropout': 0.25, 'kernel_size': 3, 'layers': 2, 'pooling': False}/events.out.tfevents.1711283615.VOKERLEE.22547.16  \n",
      "   creating: ./experiment/{'bn': False, 'dropout': 0.5, 'kernel_size': 3, 'layers': 3, 'pooling': False}/\n",
      "  inflating: ./experiment/{'bn': False, 'dropout': 0.5, 'kernel_size': 3, 'layers': 3, 'pooling': False}/events.out.tfevents.1711286477.VOKERLEE.22547.66  \n",
      "  inflating: ./experiment/{'bn': False, 'dropout': 0.5, 'kernel_size': 3, 'layers': 3, 'pooling': False}/events.out.tfevents.1709938977.VOKERLEE.29627.63  \n",
      "   creating: ./experiment/{'bn': True, 'dropout': 0.5, 'kernel_size': 3, 'layers': 3, 'pooling': False}/\n",
      "  inflating: ./experiment/{'bn': True, 'dropout': 0.5, 'kernel_size': 3, 'layers': 3, 'pooling': False}/events.out.tfevents.1711284360.VOKERLEE.22547.30  \n",
      "  inflating: ./experiment/{'bn': True, 'dropout': 0.5, 'kernel_size': 3, 'layers': 3, 'pooling': False}/events.out.tfevents.1709936801.VOKERLEE.29627.27  \n",
      "   creating: ./experiment/{'bn': False, 'dropout': 0.25, 'kernel_size': 3, 'layers': 3, 'pooling': True}/\n",
      "  inflating: ./experiment/{'bn': False, 'dropout': 0.25, 'kernel_size': 3, 'layers': 3, 'pooling': True}/events.out.tfevents.1709938199.VOKERLEE.29627.50  \n",
      "  inflating: ./experiment/{'bn': False, 'dropout': 0.25, 'kernel_size': 3, 'layers': 3, 'pooling': True}/events.out.tfevents.1711285653.VOKERLEE.22547.53  \n",
      "   creating: ./experiment/{'bn': False, 'dropout': 0.25, 'kernel_size': 7, 'layers': 2, 'pooling': False}/\n",
      "  inflating: ./experiment/{'bn': False, 'dropout': 0.25, 'kernel_size': 7, 'layers': 2, 'pooling': False}/events.out.tfevents.1711286080.VOKERLEE.22547.60  \n",
      "  inflating: ./experiment/{'bn': False, 'dropout': 0.25, 'kernel_size': 7, 'layers': 2, 'pooling': False}/events.out.tfevents.1709938620.VOKERLEE.29627.57  \n",
      "   creating: ./experiment/{'bn': False, 'dropout': 0.0, 'kernel_size': 7, 'layers': 3, 'pooling': True}/\n",
      "  inflating: ./experiment/{'bn': False, 'dropout': 0.0, 'kernel_size': 7, 'layers': 3, 'pooling': True}/events.out.tfevents.1709937979.VOKERLEE.29627.46  \n",
      "  inflating: ./experiment/{'bn': False, 'dropout': 0.0, 'kernel_size': 7, 'layers': 3, 'pooling': True}/events.out.tfevents.1711285420.VOKERLEE.22547.49  \n",
      "   creating: ./experiment/{'bn': True, 'dropout': 0.5, 'kernel_size': 7, 'layers': 2, 'pooling': False}/\n",
      "  inflating: ./experiment/{'bn': True, 'dropout': 0.5, 'kernel_size': 7, 'layers': 2, 'pooling': False}/events.out.tfevents.1709937194.VOKERLEE.29627.33  \n",
      "  inflating: ./experiment/{'bn': True, 'dropout': 0.5, 'kernel_size': 7, 'layers': 2, 'pooling': False}/events.out.tfevents.1711284667.VOKERLEE.22547.36  \n",
      "   creating: ./experiment/{'bn': True, 'dropout': 0.5, 'kernel_size': 3, 'layers': 3, 'pooling': True}/\n",
      "  inflating: ./experiment/{'bn': True, 'dropout': 0.5, 'kernel_size': 3, 'layers': 3, 'pooling': True}/events.out.tfevents.1709936737.VOKERLEE.29627.26  \n",
      "  inflating: ./experiment/{'bn': True, 'dropout': 0.5, 'kernel_size': 3, 'layers': 3, 'pooling': True}/events.out.tfevents.1711284307.VOKERLEE.22547.29  \n",
      "   creating: ./experiment/{'bn': False, 'dropout': 0.25, 'kernel_size': 7, 'layers': 3, 'pooling': False}/\n",
      "  inflating: ./experiment/{'bn': False, 'dropout': 0.25, 'kernel_size': 7, 'layers': 3, 'pooling': False}/events.out.tfevents.1711286214.VOKERLEE.22547.62  \n",
      "  inflating: ./experiment/{'bn': False, 'dropout': 0.25, 'kernel_size': 7, 'layers': 3, 'pooling': False}/events.out.tfevents.1709938753.VOKERLEE.29627.59  \n",
      "   creating: ./experiment/{'bn': True, 'dropout': 0.25, 'kernel_size': 5, 'layers': 3, 'pooling': True}/\n",
      "  inflating: ./experiment/{'bn': True, 'dropout': 0.25, 'kernel_size': 5, 'layers': 3, 'pooling': True}/events.out.tfevents.1709936219.VOKERLEE.29627.18  \n",
      "  inflating: ./experiment/{'bn': True, 'dropout': 0.25, 'kernel_size': 5, 'layers': 3, 'pooling': True}/events.out.tfevents.1711283889.VOKERLEE.22547.21  \n",
      "   creating: ./experiment/{'bn': True, 'dropout': 0.0, 'kernel_size': 3, 'layers': 3, 'pooling': True}/\n",
      "  inflating: ./experiment/{'bn': True, 'dropout': 0.0, 'kernel_size': 3, 'layers': 3, 'pooling': True}/events.out.tfevents.1711282887.VOKERLEE.22547.5  \n",
      "  inflating: ./experiment/{'bn': True, 'dropout': 0.0, 'kernel_size': 3, 'layers': 3, 'pooling': True}/events.out.tfevents.1709930157.VOKERLEE.7879.20  \n",
      "  inflating: ./experiment/{'bn': True, 'dropout': 0.0, 'kernel_size': 3, 'layers': 3, 'pooling': True}/events.out.tfevents.1709932531.VOKERLEE.20678.1  \n",
      "  inflating: ./experiment/{'bn': True, 'dropout': 0.0, 'kernel_size': 3, 'layers': 3, 'pooling': True}/events.out.tfevents.1709932609.VOKERLEE.21083.1  \n",
      "  inflating: ./experiment/{'bn': True, 'dropout': 0.0, 'kernel_size': 3, 'layers': 3, 'pooling': True}/events.out.tfevents.1709930222.VOKERLEE.7879.28  \n",
      "  inflating: ./experiment/{'bn': True, 'dropout': 0.0, 'kernel_size': 3, 'layers': 3, 'pooling': True}/events.out.tfevents.1709930444.VOKERLEE.13484.5  \n",
      "  inflating: ./experiment/{'bn': True, 'dropout': 0.0, 'kernel_size': 3, 'layers': 3, 'pooling': True}/events.out.tfevents.1709930289.VOKERLEE.13484.1  \n",
      "  inflating: ./experiment/{'bn': True, 'dropout': 0.0, 'kernel_size': 3, 'layers': 3, 'pooling': True}/events.out.tfevents.1709933039.VOKERLEE.22728.1  \n",
      "  inflating: ./experiment/{'bn': True, 'dropout': 0.0, 'kernel_size': 3, 'layers': 3, 'pooling': True}/events.out.tfevents.1709930107.VOKERLEE.7879.16  \n",
      "  inflating: ./experiment/{'bn': True, 'dropout': 0.0, 'kernel_size': 3, 'layers': 3, 'pooling': True}/events.out.tfevents.1709935271.VOKERLEE.29627.2  \n",
      "  inflating: ./experiment/{'bn': True, 'dropout': 0.0, 'kernel_size': 3, 'layers': 3, 'pooling': True}/events.out.tfevents.1709930180.VOKERLEE.7879.24  \n",
      "   creating: ./experiment/{'bn': False, 'dropout': 0.5, 'kernel_size': 7, 'layers': 2, 'pooling': False}/\n",
      "  inflating: ./experiment/{'bn': False, 'dropout': 0.5, 'kernel_size': 7, 'layers': 2, 'pooling': False}/events.out.tfevents.1709939363.VOKERLEE.29627.69  \n",
      "  inflating: ./experiment/{'bn': False, 'dropout': 0.5, 'kernel_size': 7, 'layers': 2, 'pooling': False}/events.out.tfevents.1711286782.VOKERLEE.22547.72  \n",
      "   creating: ./experiment/{'bn': False, 'dropout': 0.0, 'kernel_size': 3, 'layers': 3, 'pooling': True}/\n",
      "  inflating: ./experiment/{'bn': False, 'dropout': 0.0, 'kernel_size': 3, 'layers': 3, 'pooling': True}/events.out.tfevents.1711284962.VOKERLEE.22547.41  \n",
      "  inflating: ./experiment/{'bn': False, 'dropout': 0.0, 'kernel_size': 3, 'layers': 3, 'pooling': True}/events.out.tfevents.1709937490.VOKERLEE.29627.38  \n",
      "   creating: ./experiment/{'bn': False, 'dropout': 0.0, 'kernel_size': 5, 'layers': 2, 'pooling': False}/\n",
      "  inflating: ./experiment/{'bn': False, 'dropout': 0.0, 'kernel_size': 5, 'layers': 2, 'pooling': False}/events.out.tfevents.1711285140.VOKERLEE.22547.44  \n",
      "  inflating: ./experiment/{'bn': False, 'dropout': 0.0, 'kernel_size': 5, 'layers': 2, 'pooling': False}/events.out.tfevents.1709937667.VOKERLEE.29627.41  \n",
      "   creating: ./experiment/{'bn': False, 'dropout': 0.0, 'kernel_size': 7, 'layers': 2, 'pooling': True}/\n",
      "  inflating: ./experiment/{'bn': False, 'dropout': 0.0, 'kernel_size': 7, 'layers': 2, 'pooling': True}/events.out.tfevents.1709937860.VOKERLEE.29627.44  \n",
      "  inflating: ./experiment/{'bn': False, 'dropout': 0.0, 'kernel_size': 7, 'layers': 2, 'pooling': True}/events.out.tfevents.1711285293.VOKERLEE.22547.47  \n",
      "   creating: ./experiment/{'bn': False, 'dropout': 0.5, 'kernel_size': 5, 'layers': 2, 'pooling': False}/\n",
      "  inflating: ./experiment/{'bn': False, 'dropout': 0.5, 'kernel_size': 5, 'layers': 2, 'pooling': False}/events.out.tfevents.1711286582.VOKERLEE.22547.68  \n",
      "  inflating: ./experiment/{'bn': False, 'dropout': 0.5, 'kernel_size': 5, 'layers': 2, 'pooling': False}/events.out.tfevents.1709939102.VOKERLEE.29627.65  \n",
      "   creating: ./experiment/{'bn': False, 'dropout': 0.5, 'kernel_size': 3, 'layers': 3, 'pooling': True}/\n",
      "  inflating: ./experiment/{'bn': False, 'dropout': 0.5, 'kernel_size': 3, 'layers': 3, 'pooling': True}/events.out.tfevents.1709938914.VOKERLEE.29627.62  \n",
      "  inflating: ./experiment/{'bn': False, 'dropout': 0.5, 'kernel_size': 3, 'layers': 3, 'pooling': True}/events.out.tfevents.1711286377.VOKERLEE.22547.65  \n",
      "   creating: ./experiment/{'bn': False, 'dropout': 0.25, 'kernel_size': 3, 'layers': 2, 'pooling': False}/\n",
      "  inflating: ./experiment/{'bn': False, 'dropout': 0.25, 'kernel_size': 3, 'layers': 2, 'pooling': False}/events.out.tfevents.1711285606.VOKERLEE.22547.52  \n",
      "  inflating: ./experiment/{'bn': False, 'dropout': 0.25, 'kernel_size': 3, 'layers': 2, 'pooling': False}/events.out.tfevents.1709938143.VOKERLEE.29627.49  \n",
      "   creating: ./experiment/{'bn': False, 'dropout': 0.0, 'kernel_size': 3, 'layers': 2, 'pooling': True}/\n",
      "  inflating: ./experiment/{'bn': False, 'dropout': 0.0, 'kernel_size': 3, 'layers': 2, 'pooling': True}/events.out.tfevents.1711284852.VOKERLEE.22547.39  \n",
      "  inflating: ./experiment/{'bn': False, 'dropout': 0.0, 'kernel_size': 3, 'layers': 2, 'pooling': True}/events.out.tfevents.1709937385.VOKERLEE.29627.36  \n",
      "   creating: ./experiment/{'bn': True, 'dropout': 0.0, 'kernel_size': 3, 'layers': 2, 'pooling': False}/\n",
      "  inflating: ./experiment/{'bn': True, 'dropout': 0.0, 'kernel_size': 3, 'layers': 2, 'pooling': False}/events.out.tfevents.1711282816.VOKERLEE.22547.4  \n",
      "  inflating: ./experiment/{'bn': True, 'dropout': 0.0, 'kernel_size': 3, 'layers': 2, 'pooling': False}/events.out.tfevents.1709935213.VOKERLEE.29627.1  \n",
      "   creating: ./experiment/{'bn': True, 'dropout': 0.25, 'kernel_size': 3, 'layers': 2, 'pooling': True}/\n",
      "  inflating: ./experiment/{'bn': True, 'dropout': 0.25, 'kernel_size': 3, 'layers': 2, 'pooling': True}/events.out.tfevents.1709935868.VOKERLEE.29627.12  \n",
      "  inflating: ./experiment/{'bn': True, 'dropout': 0.25, 'kernel_size': 3, 'layers': 2, 'pooling': True}/events.out.tfevents.1711283520.VOKERLEE.22547.15  \n",
      "   creating: ./experiment/{'bn': True, 'dropout': 0.0, 'kernel_size': 3, 'layers': 2, 'pooling': True}/\n",
      "  inflating: ./experiment/{'bn': True, 'dropout': 0.0, 'kernel_size': 3, 'layers': 2, 'pooling': True}/events.out.tfevents.1711282765.VOKERLEE.22547.3  \n",
      "  inflating: ./experiment/{'bn': True, 'dropout': 0.0, 'kernel_size': 3, 'layers': 2, 'pooling': True}/events.out.tfevents.1709932383.VOKERLEE.13484.9  \n",
      "  inflating: ./experiment/{'bn': True, 'dropout': 0.0, 'kernel_size': 3, 'layers': 2, 'pooling': True}/events.out.tfevents.1709930279.VOKERLEE.7879.31  \n",
      "  inflating: ./experiment/{'bn': True, 'dropout': 0.0, 'kernel_size': 3, 'layers': 2, 'pooling': True}/events.out.tfevents.1709932960.VOKERLEE.22498.0  \n",
      "  inflating: ./experiment/{'bn': True, 'dropout': 0.0, 'kernel_size': 3, 'layers': 2, 'pooling': True}/events.out.tfevents.1709930217.VOKERLEE.7879.27  \n",
      "  inflating: ./experiment/{'bn': True, 'dropout': 0.0, 'kernel_size': 3, 'layers': 2, 'pooling': True}/events.out.tfevents.1709932420.VOKERLEE.20210.0  \n",
      "  inflating: ./experiment/{'bn': True, 'dropout': 0.0, 'kernel_size': 3, 'layers': 2, 'pooling': True}/events.out.tfevents.1709930102.VOKERLEE.7879.15  \n",
      "  inflating: ./experiment/{'bn': True, 'dropout': 0.0, 'kernel_size': 3, 'layers': 2, 'pooling': True}/events.out.tfevents.1709932524.VOKERLEE.20678.0  \n",
      "  inflating: ./experiment/{'bn': True, 'dropout': 0.0, 'kernel_size': 3, 'layers': 2, 'pooling': True}/events.out.tfevents.1709932374.VOKERLEE.13484.8  \n",
      "  inflating: ./experiment/{'bn': True, 'dropout': 0.0, 'kernel_size': 3, 'layers': 2, 'pooling': True}/events.out.tfevents.1709930153.VOKERLEE.7879.19  \n",
      "  inflating: ./experiment/{'bn': True, 'dropout': 0.0, 'kernel_size': 3, 'layers': 2, 'pooling': True}/events.out.tfevents.1709930285.VOKERLEE.13484.0  \n",
      "  inflating: ./experiment/{'bn': True, 'dropout': 0.0, 'kernel_size': 3, 'layers': 2, 'pooling': True}/events.out.tfevents.1710073644.VOKERLEE.10242.0  \n",
      "  inflating: ./experiment/{'bn': True, 'dropout': 0.0, 'kernel_size': 3, 'layers': 2, 'pooling': True}/events.out.tfevents.1709930439.VOKERLEE.13484.4  \n",
      "  inflating: ./experiment/{'bn': True, 'dropout': 0.0, 'kernel_size': 3, 'layers': 2, 'pooling': True}/events.out.tfevents.1709935161.VOKERLEE.29627.0  \n",
      "  inflating: ./experiment/{'bn': True, 'dropout': 0.0, 'kernel_size': 3, 'layers': 2, 'pooling': True}/events.out.tfevents.1709930175.VOKERLEE.7879.23  \n",
      "  inflating: ./experiment/{'bn': True, 'dropout': 0.0, 'kernel_size': 3, 'layers': 2, 'pooling': True}/events.out.tfevents.1709932728.VOKERLEE.21654.0  \n",
      "  inflating: ./experiment/{'bn': True, 'dropout': 0.0, 'kernel_size': 3, 'layers': 2, 'pooling': True}/events.out.tfevents.1709932602.VOKERLEE.21083.0  \n",
      "  inflating: ./experiment/{'bn': True, 'dropout': 0.0, 'kernel_size': 3, 'layers': 2, 'pooling': True}/events.out.tfevents.1709932984.VOKERLEE.22728.0  \n",
      "   creating: ./experiment/{'bn': False, 'dropout': 0.25, 'kernel_size': 5, 'layers': 2, 'pooling': True}/\n",
      "  inflating: ./experiment/{'bn': False, 'dropout': 0.25, 'kernel_size': 5, 'layers': 2, 'pooling': True}/events.out.tfevents.1709938320.VOKERLEE.29627.52  \n",
      "  inflating: ./experiment/{'bn': False, 'dropout': 0.25, 'kernel_size': 5, 'layers': 2, 'pooling': True}/events.out.tfevents.1711285806.VOKERLEE.22547.55  \n",
      "   creating: ./experiment/{'bn': True, 'dropout': 0.5, 'kernel_size': 7, 'layers': 2, 'pooling': True}/\n",
      "  inflating: ./experiment/{'bn': True, 'dropout': 0.5, 'kernel_size': 7, 'layers': 2, 'pooling': True}/events.out.tfevents.1709937136.VOKERLEE.29627.32  \n",
      "  inflating: ./experiment/{'bn': True, 'dropout': 0.5, 'kernel_size': 7, 'layers': 2, 'pooling': True}/events.out.tfevents.1711284612.VOKERLEE.22547.35  \n",
      "   creating: ./experiment/{'bn': False, 'dropout': 0.25, 'kernel_size': 5, 'layers': 2, 'pooling': False}/\n",
      "  inflating: ./experiment/{'bn': False, 'dropout': 0.25, 'kernel_size': 5, 'layers': 2, 'pooling': False}/events.out.tfevents.1709938375.VOKERLEE.29627.53  \n",
      "  inflating: ./experiment/{'bn': False, 'dropout': 0.25, 'kernel_size': 5, 'layers': 2, 'pooling': False}/events.out.tfevents.1711285852.VOKERLEE.22547.56  \n",
      "   creating: ./experiment/{'bn': False, 'dropout': 0.25, 'kernel_size': 7, 'layers': 2, 'pooling': True}/\n",
      "  inflating: ./experiment/{'bn': False, 'dropout': 0.25, 'kernel_size': 7, 'layers': 2, 'pooling': True}/events.out.tfevents.1709938563.VOKERLEE.29627.56  \n",
      "  inflating: ./experiment/{'bn': False, 'dropout': 0.25, 'kernel_size': 7, 'layers': 2, 'pooling': True}/events.out.tfevents.1711286010.VOKERLEE.22547.59  \n",
      "   creating: ./experiment/{'bn': True, 'dropout': 0.5, 'kernel_size': 5, 'layers': 3, 'pooling': False}/\n",
      "  inflating: ./experiment/{'bn': True, 'dropout': 0.5, 'kernel_size': 5, 'layers': 3, 'pooling': False}/events.out.tfevents.1711284557.VOKERLEE.22547.34  \n",
      "  inflating: ./experiment/{'bn': True, 'dropout': 0.5, 'kernel_size': 5, 'layers': 3, 'pooling': False}/events.out.tfevents.1709937062.VOKERLEE.29627.31  \n",
      "   creating: ./experiment/{'bn': False, 'dropout': 0.5, 'kernel_size': 7, 'layers': 2, 'pooling': True}/\n",
      "  inflating: ./experiment/{'bn': False, 'dropout': 0.5, 'kernel_size': 7, 'layers': 2, 'pooling': True}/events.out.tfevents.1711286737.VOKERLEE.22547.71  \n",
      "  inflating: ./experiment/{'bn': False, 'dropout': 0.5, 'kernel_size': 7, 'layers': 2, 'pooling': True}/events.out.tfevents.1709939305.VOKERLEE.29627.68  \n",
      "   creating: ./experiment/{'bn': True, 'dropout': 0.5, 'kernel_size': 5, 'layers': 3, 'pooling': True}/\n",
      "  inflating: ./experiment/{'bn': True, 'dropout': 0.5, 'kernel_size': 5, 'layers': 3, 'pooling': True}/events.out.tfevents.1711284505.VOKERLEE.22547.33  \n",
      "  inflating: ./experiment/{'bn': True, 'dropout': 0.5, 'kernel_size': 5, 'layers': 3, 'pooling': True}/events.out.tfevents.1709936995.VOKERLEE.29627.30  \n",
      "   creating: ./experiment/{'bn': True, 'dropout': 0.5, 'kernel_size': 5, 'layers': 2, 'pooling': True}/\n",
      "  inflating: ./experiment/{'bn': True, 'dropout': 0.5, 'kernel_size': 5, 'layers': 2, 'pooling': True}/events.out.tfevents.1711284410.VOKERLEE.22547.31  \n",
      "  inflating: ./experiment/{'bn': True, 'dropout': 0.5, 'kernel_size': 5, 'layers': 2, 'pooling': True}/events.out.tfevents.1709936871.VOKERLEE.29627.28  \n",
      "   creating: ./experiment/{'bn': True, 'dropout': 0.25, 'kernel_size': 3, 'layers': 3, 'pooling': True}/\n",
      "  inflating: ./experiment/{'bn': True, 'dropout': 0.25, 'kernel_size': 3, 'layers': 3, 'pooling': True}/events.out.tfevents.1711283678.VOKERLEE.22547.17  \n",
      "  inflating: ./experiment/{'bn': True, 'dropout': 0.25, 'kernel_size': 3, 'layers': 3, 'pooling': True}/events.out.tfevents.1709935982.VOKERLEE.29627.14  \n",
      "   creating: ./experiment/{'bn': False, 'dropout': 0.0, 'kernel_size': 5, 'layers': 3, 'pooling': True}/\n",
      "  inflating: ./experiment/{'bn': False, 'dropout': 0.0, 'kernel_size': 5, 'layers': 3, 'pooling': True}/events.out.tfevents.1709937726.VOKERLEE.29627.42  \n",
      "  inflating: ./experiment/{'bn': False, 'dropout': 0.0, 'kernel_size': 5, 'layers': 3, 'pooling': True}/events.out.tfevents.1711285185.VOKERLEE.22547.45  \n",
      "   creating: ./experiment/{'bn': True, 'dropout': 0.0, 'kernel_size': 5, 'layers': 2, 'pooling': False}/\n",
      "  inflating: ./experiment/{'bn': True, 'dropout': 0.0, 'kernel_size': 5, 'layers': 2, 'pooling': False}/events.out.tfevents.1711283071.VOKERLEE.22547.8  \n",
      "  inflating: ./experiment/{'bn': True, 'dropout': 0.0, 'kernel_size': 5, 'layers': 2, 'pooling': False}/events.out.tfevents.1709935445.VOKERLEE.29627.5  \n",
      "   creating: ./experiment/{'bn': True, 'dropout': 0.5, 'kernel_size': 3, 'layers': 2, 'pooling': False}/\n",
      "  inflating: ./experiment/{'bn': True, 'dropout': 0.5, 'kernel_size': 3, 'layers': 2, 'pooling': False}/events.out.tfevents.1709936675.VOKERLEE.29627.25  \n",
      "  inflating: ./experiment/{'bn': True, 'dropout': 0.5, 'kernel_size': 3, 'layers': 2, 'pooling': False}/events.out.tfevents.1711284258.VOKERLEE.22547.28  \n",
      "   creating: ./experiment/{'bn': True, 'dropout': 0.0, 'kernel_size': 7, 'layers': 3, 'pooling': False}/\n",
      "  inflating: ./experiment/{'bn': True, 'dropout': 0.0, 'kernel_size': 7, 'layers': 3, 'pooling': False}/events.out.tfevents.1711283454.VOKERLEE.22547.14  \n",
      "  inflating: ./experiment/{'bn': True, 'dropout': 0.0, 'kernel_size': 7, 'layers': 3, 'pooling': False}/events.out.tfevents.1709935814.VOKERLEE.29627.11  \n",
      "   creating: ./experiment/{'bn': False, 'dropout': 0.0, 'kernel_size': 3, 'layers': 2, 'pooling': False}/\n",
      "  inflating: ./experiment/{'bn': False, 'dropout': 0.0, 'kernel_size': 3, 'layers': 2, 'pooling': False}/events.out.tfevents.1711284906.VOKERLEE.22547.40  \n",
      "  inflating: ./experiment/{'bn': False, 'dropout': 0.0, 'kernel_size': 3, 'layers': 2, 'pooling': False}/events.out.tfevents.1709937436.VOKERLEE.29627.37  \n",
      "   creating: ./experiment/{'bn': True, 'dropout': 0.0, 'kernel_size': 5, 'layers': 3, 'pooling': True}/\n",
      "  inflating: ./experiment/{'bn': True, 'dropout': 0.0, 'kernel_size': 5, 'layers': 3, 'pooling': True}/events.out.tfevents.1709935507.VOKERLEE.29627.6  \n",
      "  inflating: ./experiment/{'bn': True, 'dropout': 0.0, 'kernel_size': 5, 'layers': 3, 'pooling': True}/events.out.tfevents.1709932625.VOKERLEE.21083.3  \n",
      "  inflating: ./experiment/{'bn': True, 'dropout': 0.0, 'kernel_size': 5, 'layers': 3, 'pooling': True}/events.out.tfevents.1709930189.VOKERLEE.7879.26  \n",
      "  inflating: ./experiment/{'bn': True, 'dropout': 0.0, 'kernel_size': 5, 'layers': 3, 'pooling': True}/events.out.tfevents.1709932547.VOKERLEE.20678.3  \n",
      "  inflating: ./experiment/{'bn': True, 'dropout': 0.0, 'kernel_size': 5, 'layers': 3, 'pooling': True}/events.out.tfevents.1709930116.VOKERLEE.7879.18  \n",
      "  inflating: ./experiment/{'bn': True, 'dropout': 0.0, 'kernel_size': 5, 'layers': 3, 'pooling': True}/events.out.tfevents.1709930297.VOKERLEE.13484.3  \n",
      "  inflating: ./experiment/{'bn': True, 'dropout': 0.0, 'kernel_size': 5, 'layers': 3, 'pooling': True}/events.out.tfevents.1709930232.VOKERLEE.7879.30  \n",
      "  inflating: ./experiment/{'bn': True, 'dropout': 0.0, 'kernel_size': 5, 'layers': 3, 'pooling': True}/events.out.tfevents.1709933160.VOKERLEE.22728.3  \n",
      "  inflating: ./experiment/{'bn': True, 'dropout': 0.0, 'kernel_size': 5, 'layers': 3, 'pooling': True}/events.out.tfevents.1709930453.VOKERLEE.13484.7  \n",
      "  inflating: ./experiment/{'bn': True, 'dropout': 0.0, 'kernel_size': 5, 'layers': 3, 'pooling': True}/events.out.tfevents.1709930168.VOKERLEE.7879.22  \n",
      "  inflating: ./experiment/{'bn': True, 'dropout': 0.0, 'kernel_size': 5, 'layers': 3, 'pooling': True}/events.out.tfevents.1711283123.VOKERLEE.22547.9  \n",
      "   creating: ./experiment/{'bn': False, 'dropout': 0.25, 'kernel_size': 5, 'layers': 3, 'pooling': False}/\n",
      "  inflating: ./experiment/{'bn': False, 'dropout': 0.25, 'kernel_size': 5, 'layers': 3, 'pooling': False}/events.out.tfevents.1711285957.VOKERLEE.22547.58  \n",
      "  inflating: ./experiment/{'bn': False, 'dropout': 0.25, 'kernel_size': 5, 'layers': 3, 'pooling': False}/events.out.tfevents.1709938497.VOKERLEE.29627.55  \n",
      "   creating: ./experiment/{'bn': True, 'dropout': 0.25, 'kernel_size': 5, 'layers': 3, 'pooling': False}/\n",
      "  inflating: ./experiment/{'bn': True, 'dropout': 0.25, 'kernel_size': 5, 'layers': 3, 'pooling': False}/events.out.tfevents.1709936288.VOKERLEE.29627.19  \n",
      "  inflating: ./experiment/{'bn': True, 'dropout': 0.25, 'kernel_size': 5, 'layers': 3, 'pooling': False}/events.out.tfevents.1711283941.VOKERLEE.22547.22  \n",
      "   creating: ./experiment/{'bn': True, 'dropout': 0.25, 'kernel_size': 3, 'layers': 3, 'pooling': False}/\n",
      "  inflating: ./experiment/{'bn': True, 'dropout': 0.25, 'kernel_size': 3, 'layers': 3, 'pooling': False}/events.out.tfevents.1711283733.VOKERLEE.22547.18  \n",
      "  inflating: ./experiment/{'bn': True, 'dropout': 0.25, 'kernel_size': 3, 'layers': 3, 'pooling': False}/events.out.tfevents.1709936044.VOKERLEE.29627.15  \n",
      "   creating: ./experiment/{'bn': False, 'dropout': 0.0, 'kernel_size': 5, 'layers': 2, 'pooling': True}/\n",
      "  inflating: ./experiment/{'bn': False, 'dropout': 0.0, 'kernel_size': 5, 'layers': 2, 'pooling': True}/events.out.tfevents.1709937612.VOKERLEE.29627.40  \n",
      "  inflating: ./experiment/{'bn': False, 'dropout': 0.0, 'kernel_size': 5, 'layers': 2, 'pooling': True}/events.out.tfevents.1711285085.VOKERLEE.22547.43  \n",
      "   creating: ./experiment/{'bn': False, 'dropout': 0.5, 'kernel_size': 3, 'layers': 2, 'pooling': False}/\n",
      "  inflating: ./experiment/{'bn': False, 'dropout': 0.5, 'kernel_size': 3, 'layers': 2, 'pooling': False}/events.out.tfevents.1711286330.VOKERLEE.22547.64  \n",
      "  inflating: ./experiment/{'bn': False, 'dropout': 0.5, 'kernel_size': 3, 'layers': 2, 'pooling': False}/events.out.tfevents.1709938856.VOKERLEE.29627.61  \n",
      "   creating: ./experiment/{'bn': True, 'dropout': 0.0, 'kernel_size': 5, 'layers': 2, 'pooling': True}/\n",
      "  inflating: ./experiment/{'bn': True, 'dropout': 0.0, 'kernel_size': 5, 'layers': 2, 'pooling': True}/events.out.tfevents.1709930227.VOKERLEE.7879.29  \n",
      "  inflating: ./experiment/{'bn': True, 'dropout': 0.0, 'kernel_size': 5, 'layers': 2, 'pooling': True}/events.out.tfevents.1709930163.VOKERLEE.7879.21  \n",
      "  inflating: ./experiment/{'bn': True, 'dropout': 0.0, 'kernel_size': 5, 'layers': 2, 'pooling': True}/events.out.tfevents.1709932539.VOKERLEE.20678.2  \n",
      "  inflating: ./experiment/{'bn': True, 'dropout': 0.0, 'kernel_size': 5, 'layers': 2, 'pooling': True}/events.out.tfevents.1711283012.VOKERLEE.22547.7  \n",
      "  inflating: ./experiment/{'bn': True, 'dropout': 0.0, 'kernel_size': 5, 'layers': 2, 'pooling': True}/events.out.tfevents.1709932618.VOKERLEE.21083.2  \n",
      "  inflating: ./experiment/{'bn': True, 'dropout': 0.0, 'kernel_size': 5, 'layers': 2, 'pooling': True}/events.out.tfevents.1709935387.VOKERLEE.29627.4  \n",
      "  inflating: ./experiment/{'bn': True, 'dropout': 0.0, 'kernel_size': 5, 'layers': 2, 'pooling': True}/events.out.tfevents.1709933102.VOKERLEE.22728.2  \n",
      "  inflating: ./experiment/{'bn': True, 'dropout': 0.0, 'kernel_size': 5, 'layers': 2, 'pooling': True}/events.out.tfevents.1709930293.VOKERLEE.13484.2  \n",
      "  inflating: ./experiment/{'bn': True, 'dropout': 0.0, 'kernel_size': 5, 'layers': 2, 'pooling': True}/events.out.tfevents.1709930449.VOKERLEE.13484.6  \n",
      "  inflating: ./experiment/{'bn': True, 'dropout': 0.0, 'kernel_size': 5, 'layers': 2, 'pooling': True}/events.out.tfevents.1709930112.VOKERLEE.7879.17  \n",
      "  inflating: ./experiment/{'bn': True, 'dropout': 0.0, 'kernel_size': 5, 'layers': 2, 'pooling': True}/events.out.tfevents.1709930184.VOKERLEE.7879.25  \n",
      "   creating: ./experiment/{'bn': True, 'dropout': 0.25, 'kernel_size': 7, 'layers': 2, 'pooling': True}/\n",
      "  inflating: ./experiment/{'bn': True, 'dropout': 0.25, 'kernel_size': 7, 'layers': 2, 'pooling': True}/events.out.tfevents.1709936361.VOKERLEE.29627.20  \n",
      "  inflating: ./experiment/{'bn': True, 'dropout': 0.25, 'kernel_size': 7, 'layers': 2, 'pooling': True}/events.out.tfevents.1711283997.VOKERLEE.22547.23  \n",
      "   creating: ./experiment/{'bn': False, 'dropout': 0.0, 'kernel_size': 3, 'layers': 3, 'pooling': False}/\n",
      "  inflating: ./experiment/{'bn': False, 'dropout': 0.0, 'kernel_size': 3, 'layers': 3, 'pooling': False}/events.out.tfevents.1711285019.VOKERLEE.22547.42  \n",
      "  inflating: ./experiment/{'bn': False, 'dropout': 0.0, 'kernel_size': 3, 'layers': 3, 'pooling': False}/events.out.tfevents.1709937547.VOKERLEE.29627.39  \n",
      "   creating: ./experiment/{'bn': False, 'dropout': 0.5, 'kernel_size': 3, 'layers': 2, 'pooling': True}/\n",
      "  inflating: ./experiment/{'bn': False, 'dropout': 0.5, 'kernel_size': 3, 'layers': 2, 'pooling': True}/events.out.tfevents.1709938804.VOKERLEE.29627.60  \n",
      "  inflating: ./experiment/{'bn': False, 'dropout': 0.5, 'kernel_size': 3, 'layers': 2, 'pooling': True}/events.out.tfevents.1711286281.VOKERLEE.22547.63  \n",
      "   creating: ./experiment/{'bn': False, 'dropout': 0.5, 'kernel_size': 7, 'layers': 3, 'pooling': False}/\n",
      "  inflating: ./experiment/{'bn': False, 'dropout': 0.5, 'kernel_size': 7, 'layers': 3, 'pooling': False}/events.out.tfevents.1709939494.VOKERLEE.29627.71  \n",
      "   creating: ./experiment/{'bn': False, 'dropout': 0.0, 'kernel_size': 7, 'layers': 2, 'pooling': False}/\n",
      "  inflating: ./experiment/{'bn': False, 'dropout': 0.0, 'kernel_size': 7, 'layers': 2, 'pooling': False}/events.out.tfevents.1711285341.VOKERLEE.22547.48  \n",
      "  inflating: ./experiment/{'bn': False, 'dropout': 0.0, 'kernel_size': 7, 'layers': 2, 'pooling': False}/events.out.tfevents.1709937916.VOKERLEE.29627.45  \n",
      "   creating: ./experiment/{'bn': True, 'dropout': 0.0, 'kernel_size': 7, 'layers': 3, 'pooling': True}/\n",
      "  inflating: ./experiment/{'bn': True, 'dropout': 0.0, 'kernel_size': 7, 'layers': 3, 'pooling': True}/events.out.tfevents.1709935748.VOKERLEE.29627.10  \n",
      "  inflating: ./experiment/{'bn': True, 'dropout': 0.0, 'kernel_size': 7, 'layers': 3, 'pooling': True}/events.out.tfevents.1711283392.VOKERLEE.22547.13  \n",
      "The tensorboard extension is already loaded. To reload it, use:\n",
      "  %reload_ext tensorboard\n"
     ]
    },
    {
     "data": {
      "text/plain": [
       "Reusing TensorBoard on port 6006 (pid 25549), started 0:03:15 ago. (Use '!kill 25549' to kill it.)"
      ]
     },
     "metadata": {},
     "output_type": "display_data"
    },
    {
     "data": {
      "text/html": [
       "\n",
       "      <iframe id=\"tensorboard-frame-fc84ea782dd9e332\" width=\"100%\" height=\"800\" frameborder=\"0\">\n",
       "      </iframe>\n",
       "      <script>\n",
       "        (function() {\n",
       "          const frame = document.getElementById(\"tensorboard-frame-fc84ea782dd9e332\");\n",
       "          const url = new URL(\"http://localhost\");\n",
       "          const port = 6006;\n",
       "          if (port) {\n",
       "            url.port = port;\n",
       "          }\n",
       "          frame.src = url;\n",
       "        })();\n",
       "      </script>\n",
       "    "
      ],
      "text/plain": [
       "<IPython.core.display.HTML object>"
      ]
     },
     "metadata": {},
     "output_type": "display_data"
    }
   ],
   "source": [
    "# !unzip experiment.zip -d .\n",
    "%load_ext tensorboard\n",
    "%tensorboard --logdir ./experiment/"
   ]
  },
  {
   "cell_type": "code",
   "execution_count": 31,
   "metadata": {},
   "outputs": [
    {
     "data": {
      "text/plain": [
       "device(type='cuda')"
      ]
     },
     "execution_count": 31,
     "metadata": {},
     "output_type": "execute_result"
    }
   ],
   "source": [
    "device = torch.device('cuda' if torch.cuda.is_available() else 'cpu')\n",
    "device"
   ]
  },
  {
   "cell_type": "markdown",
   "metadata": {},
   "source": [
    "### Dataset & general parameters"
   ]
  },
  {
   "cell_type": "markdown",
   "metadata": {},
   "source": [
    "Используем `FashionMNIST` dataset."
   ]
  },
  {
   "cell_type": "code",
   "execution_count": 32,
   "metadata": {},
   "outputs": [],
   "source": [
    "random_seed = 61\n",
    "torch.manual_seed(random_seed)\n",
    "batch_size_train = 64\n",
    "batch_size_test = 64"
   ]
  },
  {
   "cell_type": "code",
   "execution_count": 33,
   "metadata": {},
   "outputs": [
    {
     "name": "stdout",
     "output_type": "stream",
     "text": [
      "Dataset FashionMNIST\n",
      "    Number of datapoints: 60000\n",
      "    Root location: .\n",
      "    Split: Train\n",
      "    StandardTransform\n",
      "Transform: Compose(\n",
      "               ToTensor()\n",
      "               Normalize(mean=(0.1307,), std=(0.3081,))\n",
      "           )\n"
     ]
    }
   ],
   "source": [
    "# 0.1307 and 0.3081 are just mean and std values for normalization\n",
    "\n",
    "train_dataset = FashionMNIST('.', train=True, download=True,\n",
    "                            transform=torchvision.transforms.Compose([\n",
    "                                torchvision.transforms.ToTensor(),\n",
    "                                torchvision.transforms.Normalize(\n",
    "                                    (0.1307,), (0.3081,))\n",
    "                            ]))\n",
    "test_dataset = FashionMNIST('.', train=False, download=True,\n",
    "                            transform=torchvision.transforms.Compose([\n",
    "                                torchvision.transforms.ToTensor(),\n",
    "                                torchvision.transforms.Normalize(\n",
    "                                    (0.1307,), (0.3081,))\n",
    "                            ]))\n",
    "\n",
    "print(train_dataset)"
   ]
  },
  {
   "cell_type": "code",
   "execution_count": 34,
   "metadata": {},
   "outputs": [
    {
     "name": "stdout",
     "output_type": "stream",
     "text": [
      "45000 15000 10000\n"
     ]
    }
   ],
   "source": [
    "train_dataset, val_dataset = torch.utils.data.random_split(train_dataset, [45000, 15000])\n",
    "print(len(train_dataset), len(val_dataset), len(test_dataset))"
   ]
  },
  {
   "cell_type": "markdown",
   "metadata": {},
   "source": [
    "### General training code"
   ]
  },
  {
   "cell_type": "markdown",
   "metadata": {},
   "source": [
    "Самый обычный код для обучения, взятый с семинаров."
   ]
  },
  {
   "cell_type": "code",
   "execution_count": 35,
   "metadata": {},
   "outputs": [],
   "source": [
    "def train_on_batch(model, x_batch, y_batch, optimizer, loss_function):\n",
    "    model.train()\n",
    "    model.zero_grad()\n",
    "\n",
    "    output = model(x_batch.to(device))\n",
    "\n",
    "    loss = loss_function(output, y_batch.to(device))\n",
    "    loss.backward()\n",
    "\n",
    "    optimizer.step()\n",
    "    return loss.cpu().item()"
   ]
  },
  {
   "cell_type": "code",
   "execution_count": 36,
   "metadata": {},
   "outputs": [],
   "source": [
    "def train_epoch(train_generator, model, loss_function, optimizer, callback=None):\n",
    "    epoch_loss = 0\n",
    "    total = 0\n",
    "\n",
    "    for it, (batch_of_x, batch_of_y) in enumerate(train_generator):\n",
    "        batch_loss = train_on_batch(model, batch_of_x.to(device), batch_of_y.to(device), optimizer, loss_function)\n",
    "\n",
    "        if callback is not None:\n",
    "            callback(model, batch_loss)\n",
    "\n",
    "        epoch_loss += batch_loss * len(batch_of_x)\n",
    "        total += len(batch_of_x)\n",
    "\n",
    "    return epoch_loss / total"
   ]
  },
  {
   "cell_type": "code",
   "execution_count": 37,
   "metadata": {},
   "outputs": [],
   "source": [
    "def trainer(count_of_epoch,\n",
    "            batch_size,\n",
    "            dataset,\n",
    "            model,\n",
    "            loss_function,\n",
    "            optimizer,\n",
    "            lr=0.001,\n",
    "            callback=None):\n",
    "\n",
    "    optima = optimizer(model.parameters(), lr=lr)\n",
    "\n",
    "    iterations = range(count_of_epoch)\n",
    "    for it in iterations:\n",
    "        batch_generator = torch.utils.data.DataLoader(dataset=dataset,\n",
    "                                                      batch_size=batch_size,\n",
    "                                                      shuffle=True)\n",
    "\n",
    "        epoch_loss = train_epoch(train_generator=batch_generator,\n",
    "                    model=model,\n",
    "                    loss_function=loss_function,\n",
    "                    optimizer=optima,\n",
    "                    callback=callback)"
   ]
  },
  {
   "cell_type": "code",
   "execution_count": 38,
   "metadata": {},
   "outputs": [],
   "source": [
    "def quality_of_train(batch_size,\n",
    "                     dataset,\n",
    "                     model,\n",
    "                     loss_function):\n",
    "\n",
    "    batch_generator = torch.utils.data.DataLoader(dataset=dataset,\n",
    "                                                  batch_size=batch_size)\n",
    "\n",
    "    pred = []\n",
    "    real = []\n",
    "    test_loss = 0\n",
    "\n",
    "    for it, (x_batch, y_batch) in enumerate(batch_generator):\n",
    "        x_batch = x_batch.to(device)\n",
    "        y_batch = y_batch.to(device)\n",
    "\n",
    "        output = model(x_batch)\n",
    "\n",
    "        test_loss += loss_function(output, y_batch).cpu().item() * len(x_batch)\n",
    "\n",
    "        pred.extend(torch.argmax(output, dim=-1).cpu().numpy().tolist())\n",
    "        real.extend(y_batch.cpu().numpy().tolist())\n",
    "\n",
    "    test_loss /= len(dataset)\n",
    "\n",
    "    return test_loss, pred, real"
   ]
  },
  {
   "cell_type": "markdown",
   "metadata": {},
   "source": [
    "### CNN model"
   ]
  },
  {
   "cell_type": "code",
   "execution_count": 39,
   "metadata": {},
   "outputs": [],
   "source": [
    "class CNN(torch.nn.Module):\n",
    "    @property\n",
    "    def device(self):\n",
    "        for p in self.parameters():\n",
    "            return p.device\n",
    "\n",
    "    def __init__(self, n_layers=1, kernel_size=5, pooling=False, batch_norm=False, dropout=0.0):\n",
    "        super().__init__()\n",
    "\n",
    "        self.n_channels = 1\n",
    "        self.layers = torch.nn.Sequential()\n",
    "\n",
    "        for layer in range(n_layers):\n",
    "            self.layers.add_module('conv' + str(layer),\n",
    "                torch.nn.Conv2d(self.n_channels, self.n_channels * 4,\n",
    "                                kernel_size=kernel_size, padding=(kernel_size - 1) // 2))\n",
    "            self.n_channels *= 4\n",
    "\n",
    "            if batch_norm:\n",
    "                self.layers.add_module('bn' + str(layer), torch.nn.BatchNorm2d(self.n_channels))\n",
    "\n",
    "            self.layers.add_module('relu' + str(layer), torch.nn.ReLU())\n",
    "\n",
    "            if pooling:\n",
    "                self.layers.add_module('pool' + str(layer), torch.nn.MaxPool2d(kernel_size=2))\n",
    "\n",
    "        self.layers.add_module('flatten', torch.nn.Flatten(start_dim=1))\n",
    "        self.layers.add_module('dropout1', torch.nn.Dropout(dropout))\n",
    "        self.layers.add_module('linear1',\n",
    "            torch.nn.Linear(int(self.n_channels * (28 // 2 ** n_layers if pooling else 28) ** 2), 10))\n",
    "\n",
    "    def forward(self, input):\n",
    "        return self.layers(input)"
   ]
  },
  {
   "cell_type": "markdown",
   "metadata": {},
   "source": [
    "### Tensorboard training tracking"
   ]
  },
  {
   "cell_type": "code",
   "execution_count": 40,
   "metadata": {},
   "outputs": [],
   "source": [
    "class callback():\n",
    "    def __init__(self, writer, dataset, loss_function, delimeter=100, batch_size=64):\n",
    "        self.step = 0\n",
    "        self.writer = writer\n",
    "        self.delimeter = delimeter\n",
    "        self.loss_function = loss_function\n",
    "        self.batch_size = batch_size\n",
    "\n",
    "        self.dataset = dataset\n",
    "\n",
    "    def forward(self, model, loss):\n",
    "        self.step += 1\n",
    "        self.writer.add_scalar('LOSS/train', loss, self.step)\n",
    "\n",
    "        if self.step % self.delimeter == 0:\n",
    "\n",
    "            self.writer.add_graph(model, self.dataset[0][0].view(1, 1, 28, 28).to(model.device))\n",
    "\n",
    "            test_loss, pred, real = quality_of_train(batch_size=self.batch_size, dataset=self.dataset,\n",
    "                                                     model=model, loss_function=self.loss_function)\n",
    "            self.writer.add_scalar('LOSS/test', test_loss, self.step)\n",
    "\n",
    "    def __call__(self, model, loss):\n",
    "        return self.forward(model, loss)"
   ]
  },
  {
   "cell_type": "markdown",
   "metadata": {},
   "source": [
    "### Code for CNN training"
   ]
  },
  {
   "cell_type": "code",
   "execution_count": 41,
   "metadata": {},
   "outputs": [],
   "source": [
    "loss_function = torch.nn.CrossEntropyLoss()\n",
    "optimizer = torch.optim.Adam"
   ]
  },
  {
   "cell_type": "code",
   "execution_count": 42,
   "metadata": {},
   "outputs": [
    {
     "name": "stderr",
     "output_type": "stream",
     "text": [
      "  0%|          | 0/72 [00:00<?, ?it/s]"
     ]
    },
    {
     "name": "stdout",
     "output_type": "stream",
     "text": [
      "{'bn': True, 'dropout': 0.0, 'kernel_size': 3, 'layers': 2, 'pooling': True}\n"
     ]
    },
    {
     "name": "stderr",
     "output_type": "stream",
     "text": [
      "  1%|▏         | 1/72 [00:51<1:00:51, 51.43s/it]"
     ]
    },
    {
     "name": "stdout",
     "output_type": "stream",
     "text": [
      "{'bn': True, 'dropout': 0.0, 'kernel_size': 3, 'layers': 2, 'pooling': False}\n"
     ]
    },
    {
     "name": "stderr",
     "output_type": "stream",
     "text": [
      "  3%|▎         | 2/72 [02:02<1:13:15, 62.80s/it]"
     ]
    },
    {
     "name": "stdout",
     "output_type": "stream",
     "text": [
      "{'bn': True, 'dropout': 0.0, 'kernel_size': 3, 'layers': 3, 'pooling': True}\n"
     ]
    },
    {
     "name": "stderr",
     "output_type": "stream",
     "text": [
      "  4%|▍         | 3/72 [03:17<1:18:42, 68.45s/it]"
     ]
    },
    {
     "name": "stdout",
     "output_type": "stream",
     "text": [
      "{'bn': True, 'dropout': 0.0, 'kernel_size': 3, 'layers': 3, 'pooling': False}\n"
     ]
    },
    {
     "name": "stderr",
     "output_type": "stream",
     "text": [
      "  6%|▌         | 4/72 [04:07<1:09:30, 61.33s/it]"
     ]
    },
    {
     "name": "stdout",
     "output_type": "stream",
     "text": [
      "{'bn': True, 'dropout': 0.0, 'kernel_size': 5, 'layers': 2, 'pooling': True}\n"
     ]
    },
    {
     "name": "stderr",
     "output_type": "stream",
     "text": [
      "  7%|▋         | 5/72 [05:05<1:07:13, 60.20s/it]"
     ]
    },
    {
     "name": "stdout",
     "output_type": "stream",
     "text": [
      "{'bn': True, 'dropout': 0.0, 'kernel_size': 5, 'layers': 2, 'pooling': False}\n"
     ]
    },
    {
     "name": "stderr",
     "output_type": "stream",
     "text": [
      "  8%|▊         | 6/72 [05:58<1:03:27, 57.69s/it]"
     ]
    },
    {
     "name": "stdout",
     "output_type": "stream",
     "text": [
      "{'bn': True, 'dropout': 0.0, 'kernel_size': 5, 'layers': 3, 'pooling': True}\n"
     ]
    },
    {
     "name": "stderr",
     "output_type": "stream",
     "text": [
      " 10%|▉         | 7/72 [06:56<1:02:26, 57.64s/it]"
     ]
    },
    {
     "name": "stdout",
     "output_type": "stream",
     "text": [
      "{'bn': True, 'dropout': 0.0, 'kernel_size': 5, 'layers': 3, 'pooling': False}\n"
     ]
    },
    {
     "name": "stderr",
     "output_type": "stream",
     "text": [
      " 11%|█         | 8/72 [08:47<1:19:34, 74.60s/it]"
     ]
    },
    {
     "name": "stdout",
     "output_type": "stream",
     "text": [
      "{'bn': True, 'dropout': 0.0, 'kernel_size': 7, 'layers': 2, 'pooling': True}\n"
     ]
    },
    {
     "name": "stderr",
     "output_type": "stream",
     "text": [
      " 12%|█▎        | 9/72 [09:35<1:09:34, 66.26s/it]"
     ]
    },
    {
     "name": "stdout",
     "output_type": "stream",
     "text": [
      "{'bn': True, 'dropout': 0.0, 'kernel_size': 7, 'layers': 2, 'pooling': False}\n"
     ]
    },
    {
     "name": "stderr",
     "output_type": "stream",
     "text": [
      " 14%|█▍        | 10/72 [10:27<1:03:58, 61.90s/it]"
     ]
    },
    {
     "name": "stdout",
     "output_type": "stream",
     "text": [
      "{'bn': True, 'dropout': 0.0, 'kernel_size': 7, 'layers': 3, 'pooling': True}\n"
     ]
    },
    {
     "name": "stderr",
     "output_type": "stream",
     "text": [
      " 15%|█▌        | 11/72 [11:29<1:02:56, 61.90s/it]"
     ]
    },
    {
     "name": "stdout",
     "output_type": "stream",
     "text": [
      "{'bn': True, 'dropout': 0.0, 'kernel_size': 7, 'layers': 3, 'pooling': False}\n"
     ]
    },
    {
     "name": "stderr",
     "output_type": "stream",
     "text": [
      " 17%|█▋        | 12/72 [12:35<1:03:07, 63.12s/it]"
     ]
    },
    {
     "name": "stdout",
     "output_type": "stream",
     "text": [
      "{'bn': True, 'dropout': 0.25, 'kernel_size': 3, 'layers': 2, 'pooling': True}\n"
     ]
    },
    {
     "name": "stderr",
     "output_type": "stream",
     "text": [
      " 18%|█▊        | 13/72 [14:10<1:11:46, 72.99s/it]"
     ]
    },
    {
     "name": "stdout",
     "output_type": "stream",
     "text": [
      "{'bn': True, 'dropout': 0.25, 'kernel_size': 3, 'layers': 2, 'pooling': False}\n"
     ]
    },
    {
     "name": "stderr",
     "output_type": "stream",
     "text": [
      " 19%|█▉        | 14/72 [15:13<1:07:34, 69.91s/it]"
     ]
    },
    {
     "name": "stdout",
     "output_type": "stream",
     "text": [
      "{'bn': True, 'dropout': 0.25, 'kernel_size': 3, 'layers': 3, 'pooling': True}\n"
     ]
    },
    {
     "name": "stderr",
     "output_type": "stream",
     "text": [
      " 21%|██        | 15/72 [16:08<1:02:02, 65.30s/it]"
     ]
    },
    {
     "name": "stdout",
     "output_type": "stream",
     "text": [
      "{'bn': True, 'dropout': 0.25, 'kernel_size': 3, 'layers': 3, 'pooling': False}\n"
     ]
    },
    {
     "name": "stderr",
     "output_type": "stream",
     "text": [
      " 22%|██▏       | 16/72 [17:03<58:07, 62.28s/it]  "
     ]
    },
    {
     "name": "stdout",
     "output_type": "stream",
     "text": [
      "{'bn': True, 'dropout': 0.25, 'kernel_size': 5, 'layers': 2, 'pooling': True}\n"
     ]
    },
    {
     "name": "stderr",
     "output_type": "stream",
     "text": [
      " 24%|██▎       | 17/72 [17:55<54:14, 59.17s/it]"
     ]
    },
    {
     "name": "stdout",
     "output_type": "stream",
     "text": [
      "{'bn': True, 'dropout': 0.25, 'kernel_size': 5, 'layers': 2, 'pooling': False}\n"
     ]
    },
    {
     "name": "stderr",
     "output_type": "stream",
     "text": [
      " 25%|██▌       | 18/72 [18:44<50:26, 56.05s/it]"
     ]
    },
    {
     "name": "stdout",
     "output_type": "stream",
     "text": [
      "{'bn': True, 'dropout': 0.25, 'kernel_size': 5, 'layers': 3, 'pooling': True}\n"
     ]
    },
    {
     "name": "stderr",
     "output_type": "stream",
     "text": [
      " 26%|██▋       | 19/72 [19:36<48:25, 54.83s/it]"
     ]
    },
    {
     "name": "stdout",
     "output_type": "stream",
     "text": [
      "{'bn': True, 'dropout': 0.25, 'kernel_size': 5, 'layers': 3, 'pooling': False}\n"
     ]
    },
    {
     "name": "stderr",
     "output_type": "stream",
     "text": [
      " 28%|██▊       | 20/72 [20:32<47:58, 55.36s/it]"
     ]
    },
    {
     "name": "stdout",
     "output_type": "stream",
     "text": [
      "{'bn': True, 'dropout': 0.25, 'kernel_size': 7, 'layers': 2, 'pooling': True}\n"
     ]
    },
    {
     "name": "stderr",
     "output_type": "stream",
     "text": [
      " 29%|██▉       | 21/72 [21:19<44:49, 52.74s/it]"
     ]
    },
    {
     "name": "stdout",
     "output_type": "stream",
     "text": [
      "{'bn': True, 'dropout': 0.25, 'kernel_size': 7, 'layers': 2, 'pooling': False}\n"
     ]
    },
    {
     "name": "stderr",
     "output_type": "stream",
     "text": [
      " 31%|███       | 22/72 [22:07<42:54, 51.49s/it]"
     ]
    },
    {
     "name": "stdout",
     "output_type": "stream",
     "text": [
      "{'bn': True, 'dropout': 0.25, 'kernel_size': 7, 'layers': 3, 'pooling': True}\n"
     ]
    },
    {
     "name": "stderr",
     "output_type": "stream",
     "text": [
      " 32%|███▏      | 23/72 [23:04<43:16, 52.99s/it]"
     ]
    },
    {
     "name": "stdout",
     "output_type": "stream",
     "text": [
      "{'bn': True, 'dropout': 0.25, 'kernel_size': 7, 'layers': 3, 'pooling': False}\n"
     ]
    },
    {
     "name": "stderr",
     "output_type": "stream",
     "text": [
      " 33%|███▎      | 24/72 [24:05<44:13, 55.29s/it]"
     ]
    },
    {
     "name": "stdout",
     "output_type": "stream",
     "text": [
      "{'bn': True, 'dropout': 0.5, 'kernel_size': 3, 'layers': 2, 'pooling': True}\n"
     ]
    },
    {
     "name": "stderr",
     "output_type": "stream",
     "text": [
      " 35%|███▍      | 25/72 [24:53<41:38, 53.16s/it]"
     ]
    },
    {
     "name": "stdout",
     "output_type": "stream",
     "text": [
      "{'bn': True, 'dropout': 0.5, 'kernel_size': 3, 'layers': 2, 'pooling': False}\n"
     ]
    },
    {
     "name": "stderr",
     "output_type": "stream",
     "text": [
      " 36%|███▌      | 26/72 [25:41<39:43, 51.81s/it]"
     ]
    },
    {
     "name": "stdout",
     "output_type": "stream",
     "text": [
      "{'bn': True, 'dropout': 0.5, 'kernel_size': 3, 'layers': 3, 'pooling': True}\n"
     ]
    },
    {
     "name": "stderr",
     "output_type": "stream",
     "text": [
      " 38%|███▊      | 27/72 [26:35<39:08, 52.18s/it]"
     ]
    },
    {
     "name": "stdout",
     "output_type": "stream",
     "text": [
      "{'bn': True, 'dropout': 0.5, 'kernel_size': 3, 'layers': 3, 'pooling': False}\n"
     ]
    },
    {
     "name": "stderr",
     "output_type": "stream",
     "text": [
      " 39%|███▉      | 28/72 [27:25<37:54, 51.70s/it]"
     ]
    },
    {
     "name": "stdout",
     "output_type": "stream",
     "text": [
      "{'bn': True, 'dropout': 0.5, 'kernel_size': 5, 'layers': 2, 'pooling': True}\n"
     ]
    },
    {
     "name": "stderr",
     "output_type": "stream",
     "text": [
      " 40%|████      | 29/72 [28:13<36:13, 50.55s/it]"
     ]
    },
    {
     "name": "stdout",
     "output_type": "stream",
     "text": [
      "{'bn': True, 'dropout': 0.5, 'kernel_size': 5, 'layers': 2, 'pooling': False}\n"
     ]
    },
    {
     "name": "stderr",
     "output_type": "stream",
     "text": [
      " 42%|████▏     | 30/72 [29:00<34:39, 49.51s/it]"
     ]
    },
    {
     "name": "stdout",
     "output_type": "stream",
     "text": [
      "{'bn': True, 'dropout': 0.5, 'kernel_size': 5, 'layers': 3, 'pooling': True}\n"
     ]
    },
    {
     "name": "stderr",
     "output_type": "stream",
     "text": [
      " 43%|████▎     | 31/72 [29:52<34:14, 50.10s/it]"
     ]
    },
    {
     "name": "stdout",
     "output_type": "stream",
     "text": [
      "{'bn': True, 'dropout': 0.5, 'kernel_size': 5, 'layers': 3, 'pooling': False}\n"
     ]
    },
    {
     "name": "stderr",
     "output_type": "stream",
     "text": [
      " 44%|████▍     | 32/72 [30:47<34:32, 51.81s/it]"
     ]
    },
    {
     "name": "stdout",
     "output_type": "stream",
     "text": [
      "{'bn': True, 'dropout': 0.5, 'kernel_size': 7, 'layers': 2, 'pooling': True}\n"
     ]
    },
    {
     "name": "stderr",
     "output_type": "stream",
     "text": [
      " 46%|████▌     | 33/72 [31:42<34:11, 52.59s/it]"
     ]
    },
    {
     "name": "stdout",
     "output_type": "stream",
     "text": [
      "{'bn': True, 'dropout': 0.5, 'kernel_size': 7, 'layers': 2, 'pooling': False}\n"
     ]
    },
    {
     "name": "stderr",
     "output_type": "stream",
     "text": [
      " 47%|████▋     | 34/72 [32:48<35:52, 56.65s/it]"
     ]
    },
    {
     "name": "stdout",
     "output_type": "stream",
     "text": [
      "{'bn': True, 'dropout': 0.5, 'kernel_size': 7, 'layers': 3, 'pooling': True}\n"
     ]
    },
    {
     "name": "stderr",
     "output_type": "stream",
     "text": [
      " 49%|████▊     | 35/72 [33:54<36:46, 59.62s/it]"
     ]
    },
    {
     "name": "stdout",
     "output_type": "stream",
     "text": [
      "{'bn': True, 'dropout': 0.5, 'kernel_size': 7, 'layers': 3, 'pooling': False}\n"
     ]
    },
    {
     "name": "stderr",
     "output_type": "stream",
     "text": [
      " 50%|█████     | 36/72 [34:47<34:29, 57.50s/it]"
     ]
    },
    {
     "name": "stdout",
     "output_type": "stream",
     "text": [
      "{'bn': False, 'dropout': 0.0, 'kernel_size': 3, 'layers': 2, 'pooling': True}\n"
     ]
    },
    {
     "name": "stderr",
     "output_type": "stream",
     "text": [
      " 51%|█████▏    | 37/72 [35:41<32:54, 56.40s/it]"
     ]
    },
    {
     "name": "stdout",
     "output_type": "stream",
     "text": [
      "{'bn': False, 'dropout': 0.0, 'kernel_size': 3, 'layers': 2, 'pooling': False}\n"
     ]
    },
    {
     "name": "stderr",
     "output_type": "stream",
     "text": [
      " 53%|█████▎    | 38/72 [36:37<31:53, 56.29s/it]"
     ]
    },
    {
     "name": "stdout",
     "output_type": "stream",
     "text": [
      "{'bn': False, 'dropout': 0.0, 'kernel_size': 3, 'layers': 3, 'pooling': True}\n"
     ]
    },
    {
     "name": "stderr",
     "output_type": "stream",
     "text": [
      " 54%|█████▍    | 39/72 [37:34<31:07, 56.61s/it]"
     ]
    },
    {
     "name": "stdout",
     "output_type": "stream",
     "text": [
      "{'bn': False, 'dropout': 0.0, 'kernel_size': 3, 'layers': 3, 'pooling': False}\n"
     ]
    },
    {
     "name": "stderr",
     "output_type": "stream",
     "text": [
      " 56%|█████▌    | 40/72 [38:40<31:43, 59.48s/it]"
     ]
    },
    {
     "name": "stdout",
     "output_type": "stream",
     "text": [
      "{'bn': False, 'dropout': 0.0, 'kernel_size': 5, 'layers': 2, 'pooling': True}\n"
     ]
    },
    {
     "name": "stderr",
     "output_type": "stream",
     "text": [
      " 57%|█████▋    | 41/72 [39:35<29:54, 57.88s/it]"
     ]
    },
    {
     "name": "stdout",
     "output_type": "stream",
     "text": [
      "{'bn': False, 'dropout': 0.0, 'kernel_size': 5, 'layers': 2, 'pooling': False}\n"
     ]
    },
    {
     "name": "stderr",
     "output_type": "stream",
     "text": [
      " 58%|█████▊    | 42/72 [40:20<27:03, 54.11s/it]"
     ]
    },
    {
     "name": "stdout",
     "output_type": "stream",
     "text": [
      "{'bn': False, 'dropout': 0.0, 'kernel_size': 5, 'layers': 3, 'pooling': True}\n"
     ]
    },
    {
     "name": "stderr",
     "output_type": "stream",
     "text": [
      " 60%|█████▉    | 43/72 [41:13<25:59, 53.77s/it]"
     ]
    },
    {
     "name": "stdout",
     "output_type": "stream",
     "text": [
      "{'bn': False, 'dropout': 0.0, 'kernel_size': 5, 'layers': 3, 'pooling': False}\n"
     ]
    },
    {
     "name": "stderr",
     "output_type": "stream",
     "text": [
      " 61%|██████    | 44/72 [42:08<25:16, 54.16s/it]"
     ]
    },
    {
     "name": "stdout",
     "output_type": "stream",
     "text": [
      "{'bn': False, 'dropout': 0.0, 'kernel_size': 7, 'layers': 2, 'pooling': True}\n"
     ]
    },
    {
     "name": "stderr",
     "output_type": "stream",
     "text": [
      " 62%|██████▎   | 45/72 [42:56<23:34, 52.38s/it]"
     ]
    },
    {
     "name": "stdout",
     "output_type": "stream",
     "text": [
      "{'bn': False, 'dropout': 0.0, 'kernel_size': 7, 'layers': 2, 'pooling': False}\n"
     ]
    },
    {
     "name": "stderr",
     "output_type": "stream",
     "text": [
      " 64%|██████▍   | 46/72 [44:15<26:10, 60.39s/it]"
     ]
    },
    {
     "name": "stdout",
     "output_type": "stream",
     "text": [
      "{'bn': False, 'dropout': 0.0, 'kernel_size': 7, 'layers': 3, 'pooling': True}\n"
     ]
    },
    {
     "name": "stderr",
     "output_type": "stream",
     "text": [
      " 65%|██████▌   | 47/72 [45:27<26:34, 63.77s/it]"
     ]
    },
    {
     "name": "stdout",
     "output_type": "stream",
     "text": [
      "{'bn': False, 'dropout': 0.0, 'kernel_size': 7, 'layers': 3, 'pooling': False}\n"
     ]
    },
    {
     "name": "stderr",
     "output_type": "stream",
     "text": [
      " 67%|██████▋   | 48/72 [46:29<25:18, 63.29s/it]"
     ]
    },
    {
     "name": "stdout",
     "output_type": "stream",
     "text": [
      "{'bn': False, 'dropout': 0.25, 'kernel_size': 3, 'layers': 2, 'pooling': True}\n"
     ]
    },
    {
     "name": "stderr",
     "output_type": "stream",
     "text": [
      " 68%|██████▊   | 49/72 [47:21<22:58, 59.93s/it]"
     ]
    },
    {
     "name": "stdout",
     "output_type": "stream",
     "text": [
      "{'bn': False, 'dropout': 0.25, 'kernel_size': 3, 'layers': 2, 'pooling': False}\n"
     ]
    },
    {
     "name": "stderr",
     "output_type": "stream",
     "text": [
      " 69%|██████▉   | 50/72 [48:08<20:32, 56.03s/it]"
     ]
    },
    {
     "name": "stdout",
     "output_type": "stream",
     "text": [
      "{'bn': False, 'dropout': 0.25, 'kernel_size': 3, 'layers': 3, 'pooling': True}\n"
     ]
    },
    {
     "name": "stderr",
     "output_type": "stream",
     "text": [
      " 71%|███████   | 51/72 [49:05<19:45, 56.44s/it]"
     ]
    },
    {
     "name": "stdout",
     "output_type": "stream",
     "text": [
      "{'bn': False, 'dropout': 0.25, 'kernel_size': 3, 'layers': 3, 'pooling': False}\n"
     ]
    },
    {
     "name": "stderr",
     "output_type": "stream",
     "text": [
      " 72%|███████▏  | 52/72 [50:40<22:40, 68.02s/it]"
     ]
    },
    {
     "name": "stdout",
     "output_type": "stream",
     "text": [
      "{'bn': False, 'dropout': 0.25, 'kernel_size': 5, 'layers': 2, 'pooling': True}\n"
     ]
    },
    {
     "name": "stderr",
     "output_type": "stream",
     "text": [
      " 74%|███████▎  | 53/72 [51:27<19:31, 61.67s/it]"
     ]
    },
    {
     "name": "stdout",
     "output_type": "stream",
     "text": [
      "{'bn': False, 'dropout': 0.25, 'kernel_size': 5, 'layers': 2, 'pooling': False}\n"
     ]
    },
    {
     "name": "stderr",
     "output_type": "stream",
     "text": [
      " 75%|███████▌  | 54/72 [52:17<17:25, 58.07s/it]"
     ]
    },
    {
     "name": "stdout",
     "output_type": "stream",
     "text": [
      "{'bn': False, 'dropout': 0.25, 'kernel_size': 5, 'layers': 3, 'pooling': True}\n"
     ]
    },
    {
     "name": "stderr",
     "output_type": "stream",
     "text": [
      " 76%|███████▋  | 55/72 [53:12<16:11, 57.13s/it]"
     ]
    },
    {
     "name": "stdout",
     "output_type": "stream",
     "text": [
      "{'bn': False, 'dropout': 0.25, 'kernel_size': 5, 'layers': 3, 'pooling': False}\n"
     ]
    },
    {
     "name": "stderr",
     "output_type": "stream",
     "text": [
      " 78%|███████▊  | 56/72 [54:05<14:52, 55.78s/it]"
     ]
    },
    {
     "name": "stdout",
     "output_type": "stream",
     "text": [
      "{'bn': False, 'dropout': 0.25, 'kernel_size': 7, 'layers': 2, 'pooling': True}\n"
     ]
    },
    {
     "name": "stderr",
     "output_type": "stream",
     "text": [
      " 79%|███████▉  | 57/72 [55:15<15:03, 60.24s/it]"
     ]
    },
    {
     "name": "stdout",
     "output_type": "stream",
     "text": [
      "{'bn': False, 'dropout': 0.25, 'kernel_size': 7, 'layers': 2, 'pooling': False}\n"
     ]
    },
    {
     "name": "stderr",
     "output_type": "stream",
     "text": [
      " 81%|████████  | 58/72 [56:36<15:30, 66.44s/it]"
     ]
    },
    {
     "name": "stdout",
     "output_type": "stream",
     "text": [
      "{'bn': False, 'dropout': 0.25, 'kernel_size': 7, 'layers': 3, 'pooling': True}\n"
     ]
    },
    {
     "name": "stderr",
     "output_type": "stream",
     "text": [
      " 82%|████████▏ | 59/72 [57:29<13:32, 62.46s/it]"
     ]
    },
    {
     "name": "stdout",
     "output_type": "stream",
     "text": [
      "{'bn': False, 'dropout': 0.25, 'kernel_size': 7, 'layers': 3, 'pooling': False}\n"
     ]
    },
    {
     "name": "stderr",
     "output_type": "stream",
     "text": [
      " 83%|████████▎ | 60/72 [58:36<12:43, 63.65s/it]"
     ]
    },
    {
     "name": "stdout",
     "output_type": "stream",
     "text": [
      "{'bn': False, 'dropout': 0.5, 'kernel_size': 3, 'layers': 2, 'pooling': True}\n"
     ]
    },
    {
     "name": "stderr",
     "output_type": "stream",
     "text": [
      " 85%|████████▍ | 61/72 [59:25<10:52, 59.31s/it]"
     ]
    },
    {
     "name": "stdout",
     "output_type": "stream",
     "text": [
      "{'bn': False, 'dropout': 0.5, 'kernel_size': 3, 'layers': 2, 'pooling': False}\n"
     ]
    },
    {
     "name": "stderr",
     "output_type": "stream",
     "text": [
      " 86%|████████▌ | 62/72 [1:00:12<09:16, 55.67s/it]"
     ]
    },
    {
     "name": "stdout",
     "output_type": "stream",
     "text": [
      "{'bn': False, 'dropout': 0.5, 'kernel_size': 3, 'layers': 3, 'pooling': True}\n"
     ]
    },
    {
     "name": "stderr",
     "output_type": "stream",
     "text": [
      " 88%|████████▊ | 63/72 [1:01:52<10:20, 68.92s/it]"
     ]
    },
    {
     "name": "stdout",
     "output_type": "stream",
     "text": [
      "{'bn': False, 'dropout': 0.5, 'kernel_size': 3, 'layers': 3, 'pooling': False}\n"
     ]
    },
    {
     "name": "stderr",
     "output_type": "stream",
     "text": [
      " 89%|████████▉ | 64/72 [1:02:48<08:40, 65.00s/it]"
     ]
    },
    {
     "name": "stdout",
     "output_type": "stream",
     "text": [
      "{'bn': False, 'dropout': 0.5, 'kernel_size': 5, 'layers': 2, 'pooling': True}\n"
     ]
    },
    {
     "name": "stderr",
     "output_type": "stream",
     "text": [
      " 90%|█████████ | 65/72 [1:03:37<07:02, 60.31s/it]"
     ]
    },
    {
     "name": "stdout",
     "output_type": "stream",
     "text": [
      "{'bn': False, 'dropout': 0.5, 'kernel_size': 5, 'layers': 2, 'pooling': False}\n"
     ]
    },
    {
     "name": "stderr",
     "output_type": "stream",
     "text": [
      " 92%|█████████▏| 66/72 [1:04:25<05:38, 56.46s/it]"
     ]
    },
    {
     "name": "stdout",
     "output_type": "stream",
     "text": [
      "{'bn': False, 'dropout': 0.5, 'kernel_size': 5, 'layers': 3, 'pooling': True}\n"
     ]
    },
    {
     "name": "stderr",
     "output_type": "stream",
     "text": [
      " 93%|█████████▎| 67/72 [1:05:17<04:35, 55.18s/it]"
     ]
    },
    {
     "name": "stdout",
     "output_type": "stream",
     "text": [
      "{'bn': False, 'dropout': 0.5, 'kernel_size': 5, 'layers': 3, 'pooling': False}\n"
     ]
    },
    {
     "name": "stderr",
     "output_type": "stream",
     "text": [
      " 94%|█████████▍| 68/72 [1:06:12<03:40, 55.05s/it]"
     ]
    },
    {
     "name": "stdout",
     "output_type": "stream",
     "text": [
      "{'bn': False, 'dropout': 0.5, 'kernel_size': 7, 'layers': 2, 'pooling': True}\n"
     ]
    },
    {
     "name": "stderr",
     "output_type": "stream",
     "text": [
      " 96%|█████████▌| 69/72 [1:06:57<02:36, 52.26s/it]"
     ]
    },
    {
     "name": "stdout",
     "output_type": "stream",
     "text": [
      "{'bn': False, 'dropout': 0.5, 'kernel_size': 7, 'layers': 2, 'pooling': False}\n"
     ]
    },
    {
     "name": "stderr",
     "output_type": "stream",
     "text": [
      " 97%|█████████▋| 70/72 [1:07:48<01:43, 51.82s/it]"
     ]
    },
    {
     "name": "stdout",
     "output_type": "stream",
     "text": [
      "{'bn': False, 'dropout': 0.5, 'kernel_size': 7, 'layers': 3, 'pooling': True}\n"
     ]
    },
    {
     "ename": "",
     "evalue": "",
     "output_type": "error",
     "traceback": [
      "\u001b[1;31mThe Kernel crashed while executing code in the current cell or a previous cell. \n",
      "\u001b[1;31mPlease review the code in the cell(s) to identify a possible cause of the failure. \n",
      "\u001b[1;31mClick <a href='https://aka.ms/vscodeJupyterKernelCrash'>here</a> for more info. \n",
      "\u001b[1;31mView Jupyter <a href='command:jupyter.viewOutput'>log</a> for further details."
     ]
    }
   ],
   "source": [
    "grid = ParameterGrid({\n",
    "    'layers': [2, 3],\n",
    "    'kernel_size': [3, 5, 7],\n",
    "    'bn': [True, False],\n",
    "    'pooling': [True, False],\n",
    "    'dropout': [0.0, 0.25, 0.5],\n",
    "})\n",
    "\n",
    "scores = dict()\n",
    "\n",
    "for item in tqdm(grid):\n",
    "    print(str(item))\n",
    "\n",
    "    model = CNN(\n",
    "        n_layers=item['layers'],\n",
    "        kernel_size=item['kernel_size'],\n",
    "        pooling=item['pooling'],\n",
    "        batch_norm=item['bn'],\n",
    "        dropout=item['dropout']\n",
    "    )\n",
    "\n",
    "    writer = SummaryWriter('experiment/' + str(item))\n",
    "\n",
    "    model.float().to(device)\n",
    "\n",
    "    call = callback(writer, test_dataset, loss_function, batch_size=batch_size_test, delimeter=10)\n",
    "\n",
    "    trainer(count_of_epoch=1,\n",
    "            batch_size=batch_size_train,\n",
    "            dataset=train_dataset,\n",
    "            model=model,\n",
    "            loss_function=loss_function,\n",
    "            optimizer=optimizer,\n",
    "            lr=0.001,\n",
    "            callback=call)"
   ]
  },
  {
   "cell_type": "markdown",
   "metadata": {},
   "source": [
    "### Conclusions"
   ]
  },
  {
   "cell_type": "markdown",
   "metadata": {},
   "source": [
    "Была реализована модель CNN и проведён grid-search по параметрам:\n",
    "* В среднем лучше качество у моделей с 2мя слоями, а не 3мя, что неожиданно (видимо, сеть получилась слишком богатой), но при большем размере ядра (а это можно было ожидать, больше размер ядра $→$ больше рецептивное поле).\n",
    "* Dropout практически не повлиял на результаты, что менее ожидаемо (учитывая его диапазон вариации при grid-search'е).\n",
    "* Неожиданно, что лучший score вышел у модели без pooling слоёв.\n",
    "* Batch normalization ожидаемо ускорила сходимость."
   ]
  }
 ],
 "metadata": {
  "kernelspec": {
   "display_name": "Python 3",
   "language": "python",
   "name": "python3"
  },
  "language_info": {
   "codemirror_mode": {
    "name": "ipython",
    "version": 3
   },
   "file_extension": ".py",
   "mimetype": "text/x-python",
   "name": "python",
   "nbconvert_exporter": "python",
   "pygments_lexer": "ipython3",
   "version": "3.11.8"
  }
 },
 "nbformat": 4,
 "nbformat_minor": 2
}
