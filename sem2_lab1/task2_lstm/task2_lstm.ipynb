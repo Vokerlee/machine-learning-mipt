{
 "cells": [
  {
   "cell_type": "markdown",
   "metadata": {},
   "source": [
    "### Libraries"
   ]
  },
  {
   "cell_type": "code",
   "execution_count": 35,
   "metadata": {},
   "outputs": [],
   "source": [
    "from sklearn.metrics import classification_report, accuracy_score\n",
    "from sklearn.model_selection import ParameterGrid\n",
    "import matplotlib.pyplot as plt\n",
    "from matplotlib import gridspec\n",
    "from tqdm import tqdm\n",
    "import numpy as np\n",
    "\n",
    "from torch.utils.tensorboard import SummaryWriter\n",
    "from torchvision.datasets import FashionMNIST\n",
    "from torchvision import datasets, transforms\n",
    "import torchvision\n",
    "import torch\n",
    "\n",
    "import warnings\n",
    "warnings.filterwarnings(\"ignore\")"
   ]
  },
  {
   "cell_type": "code",
   "execution_count": 40,
   "metadata": {},
   "outputs": [
    {
     "name": "stdout",
     "output_type": "stream",
     "text": [
      "The tensorboard extension is already loaded. To reload it, use:\n",
      "  %reload_ext tensorboard\n"
     ]
    },
    {
     "data": {
      "text/plain": [
       "Reusing TensorBoard on port 6006 (pid 31418), started 4:53:23 ago. (Use '!kill 31418' to kill it.)"
      ]
     },
     "metadata": {},
     "output_type": "display_data"
    },
    {
     "data": {
      "text/html": [
       "\n",
       "      <iframe id=\"tensorboard-frame-89073b9263db4cb0\" width=\"100%\" height=\"800\" frameborder=\"0\">\n",
       "      </iframe>\n",
       "      <script>\n",
       "        (function() {\n",
       "          const frame = document.getElementById(\"tensorboard-frame-89073b9263db4cb0\");\n",
       "          const url = new URL(\"http://localhost\");\n",
       "          const port = 6006;\n",
       "          if (port) {\n",
       "            url.port = port;\n",
       "          }\n",
       "          frame.src = url;\n",
       "        })();\n",
       "      </script>\n",
       "    "
      ],
      "text/plain": [
       "<IPython.core.display.HTML object>"
      ]
     },
     "metadata": {},
     "output_type": "display_data"
    }
   ],
   "source": [
    "# !unzip experiment.zip -d .\n",
    "%load_ext tensorboard\n",
    "%tensorboard --logdir ./experiment/"
   ]
  },
  {
   "cell_type": "code",
   "execution_count": 5,
   "metadata": {},
   "outputs": [
    {
     "data": {
      "text/plain": [
       "device(type='cuda')"
      ]
     },
     "execution_count": 5,
     "metadata": {},
     "output_type": "execute_result"
    }
   ],
   "source": [
    "device = torch.device('cuda' if torch.cuda.is_available() else 'cpu')\n",
    "device"
   ]
  },
  {
   "cell_type": "markdown",
   "metadata": {},
   "source": [
    "### Dataset & general parameters"
   ]
  },
  {
   "cell_type": "markdown",
   "metadata": {},
   "source": [
    "Скачаем dataset для восстановления Part-of-Speech (POS) тегов для токенов в предложениях.\n",
    "\n",
    "Общий алгоритм подготовки данных прост и понятен: извлекаем слова в предложениях (токены) и их теги, строим отображение токенов и тегов в индексы (т.е. преобразуем их в последовательности чисел); далее создайм кастомный dataset и добавляем возможность padding'а через проброс кастомного `collate_fn` в `DataLoader`. "
   ]
  },
  {
   "cell_type": "code",
   "execution_count": 6,
   "metadata": {},
   "outputs": [],
   "source": [
    "# Uncomment string below to download dataset\n",
    "# !wget https://storage.yandexcloud.net/natasha-nerus/data/nerus_lenta.conllu.gz"
   ]
  },
  {
   "cell_type": "code",
   "execution_count": 7,
   "metadata": {},
   "outputs": [
    {
     "name": "stderr",
     "output_type": "stream",
     "text": [
      "5000it [00:02, 1895.01it/s]\n"
     ]
    }
   ],
   "source": [
    "from nerus import load_nerus\n",
    "docs = load_nerus('nerus_lenta.conllu.gz')\n",
    "special_tokens = ['<UNK>', '<PAD>']\n",
    "special_tags = ['<PAD>']\n",
    "\n",
    "sentences = []\n",
    "tags = []\n",
    "\n",
    "cnt = 0\n",
    "n_docs_max = 5000\n",
    "\n",
    "for doc in tqdm(docs):\n",
    "    cnt += 1\n",
    "    for sent in doc.sents:\n",
    "        sent_ = []\n",
    "        tag_ = []\n",
    "\n",
    "        for word in sent.tokens:\n",
    "            tag_.append(word.pos)\n",
    "            sent_.append(word.text)\n",
    "\n",
    "        sentences.append(sent_)\n",
    "        tags.append(tag_)\n",
    "\n",
    "    if cnt > n_docs_max:\n",
    "        break"
   ]
  },
  {
   "cell_type": "code",
   "execution_count": 8,
   "metadata": {},
   "outputs": [],
   "source": [
    "set_tokens = {word for sent in sentences for word in sent}\n",
    "set_tokens.difference_update(special_tokens)\n",
    "list_tokens = special_tokens + list(set_tokens)\n",
    "\n",
    "set_tags = {tag for t in tags for tag in t}\n",
    "set_tags.difference_update(special_tags)\n",
    "list_tags = special_tags + list(set_tags)\n",
    "\n",
    "token_to_idx = dict(zip(list_tokens, np.arange(len(list_tokens))))\n",
    "tag_to_idx = dict(zip(list_tags, np.arange(len(list_tags))))"
   ]
  },
  {
   "cell_type": "code",
   "execution_count": 9,
   "metadata": {},
   "outputs": [
    {
     "name": "stdout",
     "output_type": "stream",
     "text": [
      "53112 5902\n"
     ]
    }
   ],
   "source": [
    "train_test_boundary = int(len(sentences) * 0.9)\n",
    "\n",
    "train_sentences = sentences[:train_test_boundary]\n",
    "train_tags = tags[:train_test_boundary]\n",
    "test_sentences = sentences[train_test_boundary:]\n",
    "test_tags = tags[train_test_boundary:]\n",
    "\n",
    "print(len(train_sentences), len(test_sentences))"
   ]
  },
  {
   "cell_type": "code",
   "execution_count": 10,
   "metadata": {},
   "outputs": [],
   "source": [
    "class TaggingDataset(torch.utils.data.Dataset):\n",
    "    def __init__(self, sentences, tags, token_to_idx, tag_to_idx):\n",
    "        super().__init__()\n",
    "\n",
    "        self.sentences = sentences\n",
    "        self.tags = tags\n",
    "        self.token_to_idx = token_to_idx\n",
    "        self.tag_to_idx = tag_to_idx\n",
    "\n",
    "        sent_index = []\n",
    "        tags_index = []\n",
    "\n",
    "        for sent in sentences:\n",
    "            sequence = []\n",
    "\n",
    "            for token in sent:\n",
    "                if token in self.token_to_idx:\n",
    "                    sequence.append(token_to_idx[token])\n",
    "                else:\n",
    "                    sequence.append(0)\n",
    "\n",
    "            sent_index.append(sequence)\n",
    "\n",
    "        for sent_tags in tags:\n",
    "            tgs = []\n",
    "\n",
    "            for tag in sent_tags:\n",
    "                tgs.append(tag_to_idx[tag])\n",
    "\n",
    "            tags_index.append(tgs)\n",
    "\n",
    "        self.sent_index = sent_index\n",
    "        self.tags_index = tags_index\n",
    "\n",
    "    def __getitem__(self, idx):\n",
    "        return torch.tensor(self.sent_index[idx]), torch.tensor(self.tags_index[idx])\n",
    "\n",
    "    def __len__(self):\n",
    "        return len(self.sent_index)"
   ]
  },
  {
   "cell_type": "code",
   "execution_count": 11,
   "metadata": {},
   "outputs": [],
   "source": [
    "train_dataset = TaggingDataset(train_sentences, train_tags, token_to_idx, tag_to_idx)\n",
    "test_dataset = TaggingDataset(test_sentences, test_tags, token_to_idx, tag_to_idx)"
   ]
  },
  {
   "cell_type": "code",
   "execution_count": 12,
   "metadata": {},
   "outputs": [],
   "source": [
    "class PaddingCollator:\n",
    "    def __init__(self, pad_token_id, pad_tag_id):\n",
    "        self.pad_token_idx = pad_token_id\n",
    "        self.pad_tag_id = pad_tag_id\n",
    "\n",
    "    def __call__(self, batch):\n",
    "\n",
    "        max_len = 0\n",
    "        for elem in batch:\n",
    "            if (len(elem[0]) > max_len):\n",
    "                max_len = len(elem[0])\n",
    "\n",
    "        new_sentences = []\n",
    "        new_tags = []\n",
    "\n",
    "        for elem in batch:\n",
    "            new_sentences.append(torch.nn.functional.pad(elem[0], (0, max_len - len(elem[0])), \"constant\", self.pad_token_idx))\n",
    "            new_tags.append(torch.nn.functional.pad(elem[1], (0, max_len - len(elem[1])), \"constant\", self.pad_tag_id))\n",
    "\n",
    "        return torch.stack(new_sentences), torch.stack(new_tags)"
   ]
  },
  {
   "cell_type": "code",
   "execution_count": 13,
   "metadata": {},
   "outputs": [],
   "source": [
    "train_dataloader = torch.utils.data.DataLoader(\n",
    "    train_dataset,\n",
    "    batch_size=64,\n",
    "    shuffle=False,\n",
    "    drop_last=False,\n",
    "    collate_fn=PaddingCollator(\n",
    "        pad_token_id=token_to_idx['<PAD>'],\n",
    "        pad_tag_id=tag_to_idx['<PAD>'],\n",
    "    )\n",
    ")\n",
    "\n",
    "test_dataloader = torch.utils.data.DataLoader(\n",
    "    test_dataset,\n",
    "    batch_size=64,\n",
    "    shuffle=False,\n",
    "    drop_last=False,\n",
    "    collate_fn=PaddingCollator(\n",
    "        pad_token_id=token_to_idx['<PAD>'],\n",
    "        pad_tag_id=tag_to_idx['<PAD>'],\n",
    "    )\n",
    ")"
   ]
  },
  {
   "cell_type": "markdown",
   "metadata": {},
   "source": [
    "### General training code"
   ]
  },
  {
   "cell_type": "markdown",
   "metadata": {},
   "source": [
    "Код для обучения, формат которого взят с семинаров."
   ]
  },
  {
   "cell_type": "code",
   "execution_count": 14,
   "metadata": {},
   "outputs": [],
   "source": [
    "def train_on_batch(model, x_batch, y_batch, optimizer, loss_function):\n",
    "    model.train()\n",
    "    model.zero_grad()\n",
    "\n",
    "    x_batch = x_batch.to(device)\n",
    "    y_batch = y_batch.to(device)\n",
    "\n",
    "    output = model(x_batch)\n",
    "    output = torch.transpose(output, 1, 2)\n",
    "    loss = loss_function(output, y_batch)\n",
    "\n",
    "    loss.backward()\n",
    "    optimizer.step()\n",
    "\n",
    "    return loss.cpu().item()"
   ]
  },
  {
   "cell_type": "code",
   "execution_count": 15,
   "metadata": {},
   "outputs": [],
   "source": [
    "def train_epoch(train_generator, model, loss_function, optimizer, callback):\n",
    "    epoch_loss = 0\n",
    "    total = 0\n",
    "\n",
    "    for it, (batch_of_x, batch_of_y) in enumerate(train_generator):\n",
    "        batch_loss = train_on_batch(\n",
    "            model, batch_of_x.to(device), batch_of_y.to(device), optimizer, loss_function)\n",
    "\n",
    "        if callback is not None:\n",
    "            callback(model, batch_loss)\n",
    "\n",
    "        epoch_loss += batch_loss * len(batch_of_x)\n",
    "        total += len(batch_of_x)\n",
    "\n",
    "    return epoch_loss / total"
   ]
  },
  {
   "cell_type": "code",
   "execution_count": 16,
   "metadata": {},
   "outputs": [],
   "source": [
    "def trainer(count_of_epoch,\n",
    "            model,\n",
    "            dataset_loader,\n",
    "            loss_function,\n",
    "            optimizer,\n",
    "            lr=0.001,\n",
    "            callback=None):\n",
    "    optima = optimizer(model.parameters(), lr=lr, weight_decay=1e-5)\n",
    "\n",
    "    iterations = tqdm(range(count_of_epoch))\n",
    "\n",
    "    for it in iterations:\n",
    "        epoch_loss = train_epoch(\n",
    "            train_generator=dataset_loader, model=model,\n",
    "            loss_function=loss_function,\n",
    "            optimizer=optima,\n",
    "            callback=callback)\n",
    "\n",
    "        iterations.set_postfix({'train epoch loss': epoch_loss})"
   ]
  },
  {
   "cell_type": "code",
   "execution_count": 24,
   "metadata": {},
   "outputs": [],
   "source": [
    "def quality_of_train(dataset_loader,\n",
    "                     model,\n",
    "                     loss_function):\n",
    "    pred = []\n",
    "    real = []\n",
    "    test_loss = 0\n",
    "    total = 0\n",
    "\n",
    "    for it, (sentences, tags) in enumerate(dataset_loader):\n",
    "        sentences = sentences.to(device)\n",
    "        tags = tags.to(device)\n",
    "\n",
    "        output = model(sentences)\n",
    "\n",
    "        pred.extend(torch.argmax(output, dim=2).cpu().numpy().flatten().tolist())\n",
    "        real.extend(tags.cpu().numpy().flatten().tolist())\n",
    "\n",
    "        output = torch.transpose(output, 1, 2)\n",
    "        test_loss += loss_function(output, tags).cpu().item() * len(sentences)\n",
    "        total += len(sentences)\n",
    "\n",
    "    test_loss /= total\n",
    "\n",
    "    return test_loss, pred, real"
   ]
  },
  {
   "cell_type": "markdown",
   "metadata": {},
   "source": [
    "### LSTM model"
   ]
  },
  {
   "cell_type": "code",
   "execution_count": 18,
   "metadata": {},
   "outputs": [],
   "source": [
    "class LSTMTagger(torch.nn.Module):\n",
    "    @property\n",
    "    def device(self):\n",
    "        return next(self.parameters()).device\n",
    "\n",
    "    def __init__(self, embedding_dim, hidden_dim, vocab_size, tagset_size, dropout=0.0):\n",
    "        super(LSTMTagger, self).__init__()\n",
    "\n",
    "        self.word_embeddings = torch.nn.Embedding(vocab_size, embedding_dim)\n",
    "        self.lstm = torch.nn.LSTM(embedding_dim, hidden_dim, batch_first=True, dropout=dropout)\n",
    "        self.linear = torch.nn.Linear(hidden_dim, tagset_size)\n",
    "\n",
    "    def forward(self, x_batch):\n",
    "        embeddings = self.word_embeddings(x_batch)\n",
    "\n",
    "        d_n, (h_n, c_n) = self.lstm(embeddings)\n",
    "        return self.linear(d_n)"
   ]
  },
  {
   "cell_type": "markdown",
   "metadata": {},
   "source": [
    "### Tensorboard training tracking"
   ]
  },
  {
   "cell_type": "code",
   "execution_count": 38,
   "metadata": {},
   "outputs": [],
   "source": [
    "class callback():\n",
    "    def __init__(self, writer, dataset_loader, loss_function, delimeter=100):\n",
    "        self.step = 0\n",
    "        self.writer = writer\n",
    "        self.delimeter = delimeter\n",
    "        self.loss_function = loss_function\n",
    "\n",
    "        self.dataset_loader = dataset_loader\n",
    "\n",
    "    def forward(self, model, loss):\n",
    "        self.step += 1\n",
    "        self.writer.add_scalar('LOSS/train', loss, self.step)\n",
    "        model.eval()\n",
    "\n",
    "        if self.step % self.delimeter == 0:\n",
    "            test_loss, pred, real = quality_of_train(dataset_loader=self.dataset_loader,\n",
    "                                                     model=model, loss_function=self.loss_function)\n",
    "            self.writer.add_scalar('LOSS/test', test_loss, self.step)\n",
    "\n",
    "            indices = (real != tag_to_idx['<PAD>']).nonzero()\n",
    "\n",
    "            real = np.array(real)[indices]\n",
    "            pred = np.array(pred)[indices]\n",
    "\n",
    "            self.writer.add_scalar('Valid/acc', accuracy_score(real, pred), self.step)\n",
    "            self.writer.add_text('Valid/report', str(classification_report(real, pred)), self.step)\n",
    "\n",
    "    def __call__(self, model, loss):\n",
    "        return self.forward(model, loss)"
   ]
  },
  {
   "cell_type": "markdown",
   "metadata": {},
   "source": [
    "### LSTM training"
   ]
  },
  {
   "cell_type": "code",
   "execution_count": 20,
   "metadata": {},
   "outputs": [],
   "source": [
    "loss_function = torch.nn.CrossEntropyLoss(ignore_index=tag_to_idx['<PAD>'])\n",
    "optimizer = torch.optim.Adam"
   ]
  },
  {
   "cell_type": "code",
   "execution_count": 39,
   "metadata": {},
   "outputs": [
    {
     "name": "stderr",
     "output_type": "stream",
     "text": [
      "  0%|          | 0/64 [00:00<?, ?it/s]"
     ]
    },
    {
     "name": "stdout",
     "output_type": "stream",
     "text": [
      "{'dropout': 0.0, 'embedding_dim': 150, 'hidden_dim': 150}\n"
     ]
    },
    {
     "name": "stderr",
     "output_type": "stream",
     "text": [
      "100%|██████████| 2/2 [01:09<00:00, 34.54s/it, train epoch loss=0.338]\n",
      "  2%|▏         | 1/64 [01:09<1:12:39, 69.19s/it]"
     ]
    },
    {
     "name": "stdout",
     "output_type": "stream",
     "text": [
      "{'dropout': 0.0, 'embedding_dim': 150, 'hidden_dim': 290}\n"
     ]
    },
    {
     "name": "stderr",
     "output_type": "stream",
     "text": [
      "100%|██████████| 2/2 [01:18<00:00, 39.46s/it, train epoch loss=0.328]\n",
      "  3%|▎         | 2/64 [02:28<1:17:27, 74.96s/it]"
     ]
    },
    {
     "name": "stdout",
     "output_type": "stream",
     "text": [
      "{'dropout': 0.0, 'embedding_dim': 150, 'hidden_dim': 430}\n"
     ]
    },
    {
     "name": "stderr",
     "output_type": "stream",
     "text": [
      "100%|██████████| 2/2 [01:20<00:00, 40.48s/it, train epoch loss=0.324]\n",
      "  5%|▍         | 3/64 [03:49<1:19:01, 77.74s/it]"
     ]
    },
    {
     "name": "stdout",
     "output_type": "stream",
     "text": [
      "{'dropout': 0.0, 'embedding_dim': 150, 'hidden_dim': 600}\n"
     ]
    },
    {
     "name": "stderr",
     "output_type": "stream",
     "text": [
      "100%|██████████| 2/2 [01:18<00:00, 39.25s/it, train epoch loss=0.319]\n",
      "  6%|▋         | 4/64 [05:07<1:18:03, 78.07s/it]"
     ]
    },
    {
     "name": "stdout",
     "output_type": "stream",
     "text": [
      "{'dropout': 0.0, 'embedding_dim': 290, 'hidden_dim': 150}\n"
     ]
    },
    {
     "name": "stderr",
     "output_type": "stream",
     "text": [
      "100%|██████████| 2/2 [01:14<00:00, 37.46s/it, train epoch loss=0.298]\n",
      "  8%|▊         | 5/64 [06:22<1:15:41, 76.98s/it]"
     ]
    },
    {
     "name": "stdout",
     "output_type": "stream",
     "text": [
      "{'dropout': 0.0, 'embedding_dim': 290, 'hidden_dim': 290}\n"
     ]
    },
    {
     "name": "stderr",
     "output_type": "stream",
     "text": [
      "100%|██████████| 2/2 [01:28<00:00, 44.46s/it, train epoch loss=0.287]\n",
      "  9%|▉         | 6/64 [07:51<1:18:22, 81.08s/it]"
     ]
    },
    {
     "name": "stdout",
     "output_type": "stream",
     "text": [
      "{'dropout': 0.0, 'embedding_dim': 290, 'hidden_dim': 430}\n"
     ]
    },
    {
     "name": "stderr",
     "output_type": "stream",
     "text": [
      "100%|██████████| 2/2 [01:30<00:00, 45.37s/it, train epoch loss=0.282]\n",
      " 11%|█         | 7/64 [09:22<1:20:04, 84.29s/it]"
     ]
    },
    {
     "name": "stdout",
     "output_type": "stream",
     "text": [
      "{'dropout': 0.0, 'embedding_dim': 290, 'hidden_dim': 600}\n"
     ]
    },
    {
     "name": "stderr",
     "output_type": "stream",
     "text": [
      "100%|██████████| 2/2 [01:28<00:00, 44.34s/it, train epoch loss=0.278]\n",
      " 12%|█▎        | 8/64 [10:51<1:20:00, 85.73s/it]"
     ]
    },
    {
     "name": "stdout",
     "output_type": "stream",
     "text": [
      "{'dropout': 0.0, 'embedding_dim': 430, 'hidden_dim': 150}\n"
     ]
    },
    {
     "name": "stderr",
     "output_type": "stream",
     "text": [
      "100%|██████████| 2/2 [01:23<00:00, 41.80s/it, train epoch loss=0.276]\n",
      " 14%|█▍        | 9/64 [12:15<1:18:03, 85.16s/it]"
     ]
    },
    {
     "name": "stdout",
     "output_type": "stream",
     "text": [
      "{'dropout': 0.0, 'embedding_dim': 430, 'hidden_dim': 290}\n"
     ]
    },
    {
     "name": "stderr",
     "output_type": "stream",
     "text": [
      "100%|██████████| 2/2 [01:34<00:00, 47.28s/it, train epoch loss=0.263]\n",
      " 16%|█▌        | 10/64 [13:50<1:19:18, 88.12s/it]"
     ]
    },
    {
     "name": "stdout",
     "output_type": "stream",
     "text": [
      "{'dropout': 0.0, 'embedding_dim': 430, 'hidden_dim': 430}\n"
     ]
    },
    {
     "name": "stderr",
     "output_type": "stream",
     "text": [
      "100%|██████████| 2/2 [01:37<00:00, 48.70s/it, train epoch loss=0.259]\n",
      " 17%|█▋        | 11/64 [15:27<1:20:24, 91.02s/it]"
     ]
    },
    {
     "name": "stdout",
     "output_type": "stream",
     "text": [
      "{'dropout': 0.0, 'embedding_dim': 430, 'hidden_dim': 600}\n"
     ]
    },
    {
     "name": "stderr",
     "output_type": "stream",
     "text": [
      "100%|██████████| 2/2 [01:35<00:00, 47.85s/it, train epoch loss=0.254]\n",
      " 19%|█▉        | 12/64 [17:03<1:20:10, 92.51s/it]"
     ]
    },
    {
     "name": "stdout",
     "output_type": "stream",
     "text": [
      "{'dropout': 0.0, 'embedding_dim': 600, 'hidden_dim': 150}\n"
     ]
    },
    {
     "name": "stderr",
     "output_type": "stream",
     "text": [
      "100%|██████████| 2/2 [01:31<00:00, 45.51s/it, train epoch loss=0.254]\n",
      " 20%|██        | 13/64 [18:35<1:18:20, 92.17s/it]"
     ]
    },
    {
     "name": "stdout",
     "output_type": "stream",
     "text": [
      "{'dropout': 0.0, 'embedding_dim': 600, 'hidden_dim': 290}\n"
     ]
    },
    {
     "name": "stderr",
     "output_type": "stream",
     "text": [
      "100%|██████████| 2/2 [01:41<00:00, 50.69s/it, train epoch loss=0.244]\n",
      " 22%|██▏       | 14/64 [20:16<1:19:11, 95.04s/it]"
     ]
    },
    {
     "name": "stdout",
     "output_type": "stream",
     "text": [
      "{'dropout': 0.0, 'embedding_dim': 600, 'hidden_dim': 430}\n"
     ]
    },
    {
     "name": "stderr",
     "output_type": "stream",
     "text": [
      "100%|██████████| 2/2 [01:43<00:00, 51.53s/it, train epoch loss=0.238]\n",
      " 23%|██▎       | 15/64 [22:00<1:19:39, 97.54s/it]"
     ]
    },
    {
     "name": "stdout",
     "output_type": "stream",
     "text": [
      "{'dropout': 0.0, 'embedding_dim': 600, 'hidden_dim': 600}\n"
     ]
    },
    {
     "name": "stderr",
     "output_type": "stream",
     "text": [
      "100%|██████████| 2/2 [01:40<00:00, 50.21s/it, train epoch loss=0.231]\n",
      " 25%|██▌       | 16/64 [23:40<1:18:47, 98.49s/it]"
     ]
    },
    {
     "name": "stdout",
     "output_type": "stream",
     "text": [
      "{'dropout': 0.18, 'embedding_dim': 150, 'hidden_dim': 150}\n"
     ]
    },
    {
     "name": "stderr",
     "output_type": "stream",
     "text": [
      "100%|██████████| 2/2 [01:08<00:00, 34.22s/it, train epoch loss=0.338]\n",
      " 27%|██▋       | 17/64 [24:49<1:10:05, 89.48s/it]"
     ]
    },
    {
     "name": "stdout",
     "output_type": "stream",
     "text": [
      "{'dropout': 0.18, 'embedding_dim': 150, 'hidden_dim': 290}\n"
     ]
    },
    {
     "name": "stderr",
     "output_type": "stream",
     "text": [
      "100%|██████████| 2/2 [01:19<00:00, 39.52s/it, train epoch loss=0.331]\n",
      " 28%|██▊       | 18/64 [26:08<1:06:12, 86.37s/it]"
     ]
    },
    {
     "name": "stdout",
     "output_type": "stream",
     "text": [
      "{'dropout': 0.18, 'embedding_dim': 150, 'hidden_dim': 430}\n"
     ]
    },
    {
     "name": "stderr",
     "output_type": "stream",
     "text": [
      "100%|██████████| 2/2 [01:20<00:00, 40.34s/it, train epoch loss=0.326]\n",
      " 30%|██▉       | 19/64 [27:29<1:03:30, 84.68s/it]"
     ]
    },
    {
     "name": "stdout",
     "output_type": "stream",
     "text": [
      "{'dropout': 0.18, 'embedding_dim': 150, 'hidden_dim': 600}\n"
     ]
    },
    {
     "name": "stderr",
     "output_type": "stream",
     "text": [
      "100%|██████████| 2/2 [01:17<00:00, 38.76s/it, train epoch loss=0.32]\n",
      " 31%|███▏      | 20/64 [28:46<1:00:32, 82.55s/it]"
     ]
    },
    {
     "name": "stdout",
     "output_type": "stream",
     "text": [
      "{'dropout': 0.18, 'embedding_dim': 290, 'hidden_dim': 150}\n"
     ]
    },
    {
     "name": "stderr",
     "output_type": "stream",
     "text": [
      "100%|██████████| 2/2 [01:14<00:00, 37.40s/it, train epoch loss=0.297]\n",
      " 33%|███▎      | 21/64 [30:01<57:31, 80.27s/it]  "
     ]
    },
    {
     "name": "stdout",
     "output_type": "stream",
     "text": [
      "{'dropout': 0.18, 'embedding_dim': 290, 'hidden_dim': 290}\n"
     ]
    },
    {
     "name": "stderr",
     "output_type": "stream",
     "text": [
      "100%|██████████| 2/2 [01:25<00:00, 42.91s/it, train epoch loss=0.286]\n",
      " 34%|███▍      | 22/64 [31:27<57:22, 81.97s/it]"
     ]
    },
    {
     "name": "stdout",
     "output_type": "stream",
     "text": [
      "{'dropout': 0.18, 'embedding_dim': 290, 'hidden_dim': 430}\n"
     ]
    },
    {
     "name": "stderr",
     "output_type": "stream",
     "text": [
      "100%|██████████| 2/2 [01:27<00:00, 43.97s/it, train epoch loss=0.283]\n",
      " 36%|███▌      | 23/64 [32:55<57:16, 83.81s/it]"
     ]
    },
    {
     "name": "stdout",
     "output_type": "stream",
     "text": [
      "{'dropout': 0.18, 'embedding_dim': 290, 'hidden_dim': 600}\n"
     ]
    },
    {
     "name": "stderr",
     "output_type": "stream",
     "text": [
      "100%|██████████| 2/2 [01:24<00:00, 42.36s/it, train epoch loss=0.278]\n",
      " 38%|███▊      | 24/64 [34:20<56:05, 84.13s/it]"
     ]
    },
    {
     "name": "stdout",
     "output_type": "stream",
     "text": [
      "{'dropout': 0.18, 'embedding_dim': 430, 'hidden_dim': 150}\n"
     ]
    },
    {
     "name": "stderr",
     "output_type": "stream",
     "text": [
      "100%|██████████| 2/2 [01:20<00:00, 40.10s/it, train epoch loss=0.273]\n",
      " 39%|███▉      | 25/64 [35:41<53:57, 83.01s/it]"
     ]
    },
    {
     "name": "stdout",
     "output_type": "stream",
     "text": [
      "{'dropout': 0.18, 'embedding_dim': 430, 'hidden_dim': 290}\n"
     ]
    },
    {
     "name": "stderr",
     "output_type": "stream",
     "text": [
      "100%|██████████| 2/2 [01:32<00:00, 46.09s/it, train epoch loss=0.264]\n",
      " 41%|████      | 26/64 [37:13<54:21, 85.82s/it]"
     ]
    },
    {
     "name": "stdout",
     "output_type": "stream",
     "text": [
      "{'dropout': 0.18, 'embedding_dim': 430, 'hidden_dim': 430}\n"
     ]
    },
    {
     "name": "stderr",
     "output_type": "stream",
     "text": [
      "100%|██████████| 2/2 [01:35<00:00, 47.90s/it, train epoch loss=0.258]\n",
      " 42%|████▏     | 27/64 [38:49<54:48, 88.87s/it]"
     ]
    },
    {
     "name": "stdout",
     "output_type": "stream",
     "text": [
      "{'dropout': 0.18, 'embedding_dim': 430, 'hidden_dim': 600}\n"
     ]
    },
    {
     "name": "stderr",
     "output_type": "stream",
     "text": [
      "100%|██████████| 2/2 [01:34<00:00, 47.28s/it, train epoch loss=0.254]\n",
      " 44%|████▍     | 28/64 [40:24<54:23, 90.64s/it]"
     ]
    },
    {
     "name": "stdout",
     "output_type": "stream",
     "text": [
      "{'dropout': 0.18, 'embedding_dim': 600, 'hidden_dim': 150}\n"
     ]
    },
    {
     "name": "stderr",
     "output_type": "stream",
     "text": [
      "100%|██████████| 2/2 [01:29<00:00, 44.63s/it, train epoch loss=0.255]\n",
      " 45%|████▌     | 29/64 [41:53<52:41, 90.34s/it]"
     ]
    },
    {
     "name": "stdout",
     "output_type": "stream",
     "text": [
      "{'dropout': 0.18, 'embedding_dim': 600, 'hidden_dim': 290}\n"
     ]
    },
    {
     "name": "stderr",
     "output_type": "stream",
     "text": [
      "100%|██████████| 2/2 [01:40<00:00, 50.29s/it, train epoch loss=0.244]\n",
      " 47%|████▋     | 30/64 [43:34<52:59, 93.50s/it]"
     ]
    },
    {
     "name": "stdout",
     "output_type": "stream",
     "text": [
      "{'dropout': 0.18, 'embedding_dim': 600, 'hidden_dim': 430}\n"
     ]
    },
    {
     "name": "stderr",
     "output_type": "stream",
     "text": [
      "100%|██████████| 2/2 [01:43<00:00, 51.64s/it, train epoch loss=0.236]\n",
      " 48%|████▊     | 31/64 [45:18<53:05, 96.53s/it]"
     ]
    },
    {
     "name": "stdout",
     "output_type": "stream",
     "text": [
      "{'dropout': 0.18, 'embedding_dim': 600, 'hidden_dim': 600}\n"
     ]
    },
    {
     "name": "stderr",
     "output_type": "stream",
     "text": [
      "100%|██████████| 2/2 [01:42<00:00, 51.34s/it, train epoch loss=0.231]\n",
      " 50%|█████     | 32/64 [47:01<52:30, 98.46s/it]"
     ]
    },
    {
     "name": "stdout",
     "output_type": "stream",
     "text": [
      "{'dropout': 0.36, 'embedding_dim': 150, 'hidden_dim': 150}\n"
     ]
    },
    {
     "name": "stderr",
     "output_type": "stream",
     "text": [
      "100%|██████████| 2/2 [01:12<00:00, 36.07s/it, train epoch loss=0.336]\n",
      " 52%|█████▏    | 33/64 [48:13<46:48, 90.59s/it]"
     ]
    },
    {
     "name": "stdout",
     "output_type": "stream",
     "text": [
      "{'dropout': 0.36, 'embedding_dim': 150, 'hidden_dim': 290}\n"
     ]
    },
    {
     "name": "stderr",
     "output_type": "stream",
     "text": [
      "100%|██████████| 2/2 [01:21<00:00, 40.84s/it, train epoch loss=0.327]\n",
      " 53%|█████▎    | 34/64 [49:35<43:58, 87.94s/it]"
     ]
    },
    {
     "name": "stdout",
     "output_type": "stream",
     "text": [
      "{'dropout': 0.36, 'embedding_dim': 150, 'hidden_dim': 430}\n"
     ]
    },
    {
     "name": "stderr",
     "output_type": "stream",
     "text": [
      "100%|██████████| 2/2 [01:23<00:00, 41.57s/it, train epoch loss=0.324]\n",
      " 55%|█████▍    | 35/64 [50:58<41:49, 86.52s/it]"
     ]
    },
    {
     "name": "stdout",
     "output_type": "stream",
     "text": [
      "{'dropout': 0.36, 'embedding_dim': 150, 'hidden_dim': 600}\n"
     ]
    },
    {
     "name": "stderr",
     "output_type": "stream",
     "text": [
      "100%|██████████| 2/2 [01:20<00:00, 40.10s/it, train epoch loss=0.321]\n",
      " 56%|█████▋    | 36/64 [52:18<39:30, 84.65s/it]"
     ]
    },
    {
     "name": "stdout",
     "output_type": "stream",
     "text": [
      "{'dropout': 0.36, 'embedding_dim': 290, 'hidden_dim': 150}\n"
     ]
    },
    {
     "name": "stderr",
     "output_type": "stream",
     "text": [
      "100%|██████████| 2/2 [01:16<00:00, 38.38s/it, train epoch loss=0.298]\n",
      " 58%|█████▊    | 37/64 [53:35<37:02, 82.32s/it]"
     ]
    },
    {
     "name": "stdout",
     "output_type": "stream",
     "text": [
      "{'dropout': 0.36, 'embedding_dim': 290, 'hidden_dim': 290}\n"
     ]
    },
    {
     "name": "stderr",
     "output_type": "stream",
     "text": [
      "100%|██████████| 2/2 [01:28<00:00, 44.15s/it, train epoch loss=0.288]\n",
      " 59%|█████▉    | 38/64 [55:04<36:28, 84.16s/it]"
     ]
    },
    {
     "name": "stdout",
     "output_type": "stream",
     "text": [
      "{'dropout': 0.36, 'embedding_dim': 290, 'hidden_dim': 430}\n"
     ]
    },
    {
     "name": "stderr",
     "output_type": "stream",
     "text": [
      "100%|██████████| 2/2 [01:28<00:00, 44.05s/it, train epoch loss=0.282]\n",
      " 61%|██████    | 39/64 [56:32<35:34, 85.39s/it]"
     ]
    },
    {
     "name": "stdout",
     "output_type": "stream",
     "text": [
      "{'dropout': 0.36, 'embedding_dim': 290, 'hidden_dim': 600}\n"
     ]
    },
    {
     "name": "stderr",
     "output_type": "stream",
     "text": [
      "100%|██████████| 2/2 [01:25<00:00, 42.89s/it, train epoch loss=0.277]\n",
      " 62%|██████▎   | 40/64 [57:58<34:13, 85.55s/it]"
     ]
    },
    {
     "name": "stdout",
     "output_type": "stream",
     "text": [
      "{'dropout': 0.36, 'embedding_dim': 430, 'hidden_dim': 150}\n"
     ]
    },
    {
     "name": "stderr",
     "output_type": "stream",
     "text": [
      "100%|██████████| 2/2 [01:20<00:00, 40.12s/it, train epoch loss=0.275]\n",
      " 64%|██████▍   | 41/64 [59:18<32:12, 84.04s/it]"
     ]
    },
    {
     "name": "stdout",
     "output_type": "stream",
     "text": [
      "{'dropout': 0.36, 'embedding_dim': 430, 'hidden_dim': 290}\n"
     ]
    },
    {
     "name": "stderr",
     "output_type": "stream",
     "text": [
      "100%|██████████| 2/2 [01:32<00:00, 46.42s/it, train epoch loss=0.264]\n",
      " 66%|██████▌   | 42/64 [1:00:51<31:48, 86.74s/it]"
     ]
    },
    {
     "name": "stdout",
     "output_type": "stream",
     "text": [
      "{'dropout': 0.36, 'embedding_dim': 430, 'hidden_dim': 430}\n"
     ]
    },
    {
     "name": "stderr",
     "output_type": "stream",
     "text": [
      "100%|██████████| 2/2 [01:33<00:00, 46.94s/it, train epoch loss=0.258]\n",
      " 67%|██████▋   | 43/64 [1:02:26<31:08, 88.96s/it]"
     ]
    },
    {
     "name": "stdout",
     "output_type": "stream",
     "text": [
      "{'dropout': 0.36, 'embedding_dim': 430, 'hidden_dim': 600}\n"
     ]
    },
    {
     "name": "stderr",
     "output_type": "stream",
     "text": [
      "100%|██████████| 2/2 [01:32<00:00, 46.11s/it, train epoch loss=0.252]\n",
      " 69%|██████▉   | 44/64 [1:03:58<29:59, 90.00s/it]"
     ]
    },
    {
     "name": "stdout",
     "output_type": "stream",
     "text": [
      "{'dropout': 0.36, 'embedding_dim': 600, 'hidden_dim': 150}\n"
     ]
    },
    {
     "name": "stderr",
     "output_type": "stream",
     "text": [
      "100%|██████████| 2/2 [01:26<00:00, 43.13s/it, train epoch loss=0.254]\n",
      " 70%|███████   | 45/64 [1:05:25<28:10, 89.00s/it]"
     ]
    },
    {
     "name": "stdout",
     "output_type": "stream",
     "text": [
      "{'dropout': 0.36, 'embedding_dim': 600, 'hidden_dim': 290}\n"
     ]
    },
    {
     "name": "stderr",
     "output_type": "stream",
     "text": [
      "100%|██████████| 2/2 [01:38<00:00, 49.47s/it, train epoch loss=0.243]\n",
      " 72%|███████▏  | 46/64 [1:07:04<27:37, 92.07s/it]"
     ]
    },
    {
     "name": "stdout",
     "output_type": "stream",
     "text": [
      "{'dropout': 0.36, 'embedding_dim': 600, 'hidden_dim': 430}\n"
     ]
    },
    {
     "name": "stderr",
     "output_type": "stream",
     "text": [
      "100%|██████████| 2/2 [01:41<00:00, 50.60s/it, train epoch loss=0.238]\n",
      " 73%|███████▎  | 47/64 [1:08:45<26:53, 94.93s/it]"
     ]
    },
    {
     "name": "stdout",
     "output_type": "stream",
     "text": [
      "{'dropout': 0.36, 'embedding_dim': 600, 'hidden_dim': 600}\n"
     ]
    },
    {
     "name": "stderr",
     "output_type": "stream",
     "text": [
      "100%|██████████| 2/2 [01:39<00:00, 49.98s/it, train epoch loss=0.231]\n",
      " 75%|███████▌  | 48/64 [1:10:26<25:44, 96.54s/it]"
     ]
    },
    {
     "name": "stdout",
     "output_type": "stream",
     "text": [
      "{'dropout': 0.54, 'embedding_dim': 150, 'hidden_dim': 150}\n"
     ]
    },
    {
     "name": "stderr",
     "output_type": "stream",
     "text": [
      "100%|██████████| 2/2 [01:08<00:00, 34.43s/it, train epoch loss=0.339]\n",
      " 77%|███████▋  | 49/64 [1:11:35<22:03, 88.26s/it]"
     ]
    },
    {
     "name": "stdout",
     "output_type": "stream",
     "text": [
      "{'dropout': 0.54, 'embedding_dim': 150, 'hidden_dim': 290}\n"
     ]
    },
    {
     "name": "stderr",
     "output_type": "stream",
     "text": [
      "100%|██████████| 2/2 [01:21<00:00, 40.53s/it, train epoch loss=0.329]\n",
      " 78%|███████▊  | 50/64 [1:12:56<20:05, 86.12s/it]"
     ]
    },
    {
     "name": "stdout",
     "output_type": "stream",
     "text": [
      "{'dropout': 0.54, 'embedding_dim': 150, 'hidden_dim': 430}\n"
     ]
    },
    {
     "name": "stderr",
     "output_type": "stream",
     "text": [
      "100%|██████████| 2/2 [01:21<00:00, 40.76s/it, train epoch loss=0.323]\n",
      " 80%|███████▉  | 51/64 [1:14:17<18:21, 84.77s/it]"
     ]
    },
    {
     "name": "stdout",
     "output_type": "stream",
     "text": [
      "{'dropout': 0.54, 'embedding_dim': 150, 'hidden_dim': 600}\n"
     ]
    },
    {
     "name": "stderr",
     "output_type": "stream",
     "text": [
      "100%|██████████| 2/2 [01:18<00:00, 39.32s/it, train epoch loss=0.32]\n",
      " 81%|████████▏ | 52/64 [1:15:36<16:35, 82.96s/it]"
     ]
    },
    {
     "name": "stdout",
     "output_type": "stream",
     "text": [
      "{'dropout': 0.54, 'embedding_dim': 290, 'hidden_dim': 150}\n"
     ]
    },
    {
     "name": "stderr",
     "output_type": "stream",
     "text": [
      "100%|██████████| 2/2 [01:13<00:00, 36.69s/it, train epoch loss=0.297]\n",
      " 83%|████████▎ | 53/64 [1:16:50<14:41, 80.13s/it]"
     ]
    },
    {
     "name": "stdout",
     "output_type": "stream",
     "text": [
      "{'dropout': 0.54, 'embedding_dim': 290, 'hidden_dim': 290}\n"
     ]
    },
    {
     "name": "stderr",
     "output_type": "stream",
     "text": [
      "100%|██████████| 2/2 [01:27<00:00, 43.99s/it, train epoch loss=0.288]\n",
      " 84%|████████▍ | 54/64 [1:18:18<13:45, 82.53s/it]"
     ]
    },
    {
     "name": "stdout",
     "output_type": "stream",
     "text": [
      "{'dropout': 0.54, 'embedding_dim': 290, 'hidden_dim': 430}\n"
     ]
    },
    {
     "name": "stderr",
     "output_type": "stream",
     "text": [
      "100%|██████████| 2/2 [01:28<00:00, 44.02s/it, train epoch loss=0.283]\n",
      " 86%|████████▌ | 55/64 [1:19:46<12:38, 84.22s/it]"
     ]
    },
    {
     "name": "stdout",
     "output_type": "stream",
     "text": [
      "{'dropout': 0.54, 'embedding_dim': 290, 'hidden_dim': 600}\n"
     ]
    },
    {
     "name": "stderr",
     "output_type": "stream",
     "text": [
      "100%|██████████| 2/2 [01:25<00:00, 42.57s/it, train epoch loss=0.278]\n",
      " 88%|████████▊ | 56/64 [1:21:11<11:16, 84.54s/it]"
     ]
    },
    {
     "name": "stdout",
     "output_type": "stream",
     "text": [
      "{'dropout': 0.54, 'embedding_dim': 430, 'hidden_dim': 150}\n"
     ]
    },
    {
     "name": "stderr",
     "output_type": "stream",
     "text": [
      "100%|██████████| 2/2 [01:19<00:00, 39.76s/it, train epoch loss=0.274]\n",
      " 89%|████████▉ | 57/64 [1:22:31<09:41, 83.11s/it]"
     ]
    },
    {
     "name": "stdout",
     "output_type": "stream",
     "text": [
      "{'dropout': 0.54, 'embedding_dim': 430, 'hidden_dim': 290}\n"
     ]
    },
    {
     "name": "stderr",
     "output_type": "stream",
     "text": [
      "100%|██████████| 2/2 [01:32<00:00, 46.38s/it, train epoch loss=0.264]\n",
      " 91%|█████████ | 58/64 [1:24:04<08:36, 86.08s/it]"
     ]
    },
    {
     "name": "stdout",
     "output_type": "stream",
     "text": [
      "{'dropout': 0.54, 'embedding_dim': 430, 'hidden_dim': 430}\n"
     ]
    },
    {
     "name": "stderr",
     "output_type": "stream",
     "text": [
      "100%|██████████| 2/2 [01:34<00:00, 47.34s/it, train epoch loss=0.259]\n",
      " 92%|█████████▏| 59/64 [1:25:39<07:23, 88.72s/it]"
     ]
    },
    {
     "name": "stdout",
     "output_type": "stream",
     "text": [
      "{'dropout': 0.54, 'embedding_dim': 430, 'hidden_dim': 600}\n"
     ]
    },
    {
     "name": "stderr",
     "output_type": "stream",
     "text": [
      "100%|██████████| 2/2 [01:32<00:00, 46.07s/it, train epoch loss=0.253]\n",
      " 94%|█████████▍| 60/64 [1:27:11<05:59, 89.82s/it]"
     ]
    },
    {
     "name": "stdout",
     "output_type": "stream",
     "text": [
      "{'dropout': 0.54, 'embedding_dim': 600, 'hidden_dim': 150}\n"
     ]
    },
    {
     "name": "stderr",
     "output_type": "stream",
     "text": [
      "100%|██████████| 2/2 [01:26<00:00, 43.08s/it, train epoch loss=0.254]\n",
      " 95%|█████████▌| 61/64 [1:28:38<04:26, 88.85s/it]"
     ]
    },
    {
     "name": "stdout",
     "output_type": "stream",
     "text": [
      "{'dropout': 0.54, 'embedding_dim': 600, 'hidden_dim': 290}\n"
     ]
    },
    {
     "name": "stderr",
     "output_type": "stream",
     "text": [
      "100%|██████████| 2/2 [01:40<00:00, 50.07s/it, train epoch loss=0.243]\n",
      " 97%|█████████▋| 62/64 [1:30:18<03:04, 92.34s/it]"
     ]
    },
    {
     "name": "stdout",
     "output_type": "stream",
     "text": [
      "{'dropout': 0.54, 'embedding_dim': 600, 'hidden_dim': 430}\n"
     ]
    },
    {
     "name": "stderr",
     "output_type": "stream",
     "text": [
      "100%|██████████| 2/2 [01:41<00:00, 50.70s/it, train epoch loss=0.236]\n",
      " 98%|█████████▊| 63/64 [1:32:00<01:35, 95.16s/it]"
     ]
    },
    {
     "name": "stdout",
     "output_type": "stream",
     "text": [
      "{'dropout': 0.54, 'embedding_dim': 600, 'hidden_dim': 600}\n"
     ]
    },
    {
     "name": "stderr",
     "output_type": "stream",
     "text": [
      "100%|██████████| 2/2 [01:40<00:00, 50.10s/it, train epoch loss=0.229]\n",
      "100%|██████████| 64/64 [1:33:41<00:00, 87.83s/it]\n"
     ]
    }
   ],
   "source": [
    "grid = ParameterGrid({\n",
    "    'embedding_dim': [150, 290, 430, 600],\n",
    "    'hidden_dim': [150, 290, 430, 600],\n",
    "    'dropout': [0.0, 0.18, 0.36, 0.54],\n",
    "})\n",
    "\n",
    "scores = dict()\n",
    "\n",
    "for item in tqdm(grid):\n",
    "    print(str(item))\n",
    "\n",
    "    model = LSTMTagger(\n",
    "        embedding_dim=item['embedding_dim'],\n",
    "        hidden_dim=item['hidden_dim'],\n",
    "        vocab_size=len(token_to_idx),\n",
    "        tagset_size=len(tag_to_idx),\n",
    "        dropout=item['dropout']\n",
    "    )\n",
    "\n",
    "    writer = SummaryWriter('experiment/' + str(item))\n",
    "\n",
    "    model.float().to(device)\n",
    "\n",
    "    call = callback(writer, test_dataloader, loss_function, delimeter=10)\n",
    "\n",
    "    trainer(count_of_epoch=2,\n",
    "        dataset_loader=train_dataloader,\n",
    "        model=model,\n",
    "        loss_function=loss_function,\n",
    "        optimizer=optimizer,\n",
    "        lr=0.001,\n",
    "        callback=call)"
   ]
  },
  {
   "cell_type": "markdown",
   "metadata": {},
   "source": [
    "### Conclusions"
   ]
  },
  {
   "cell_type": "markdown",
   "metadata": {},
   "source": [
    "Результаты получились следующие:\n",
    "* Dropout не сильно влияет на точность модели, что более-менее ожидаемо.\n",
    "* Чем больше размерность embedding слоя, тем больше точность (не особо сильно), что ожидаемо.\n",
    "* Чем больше размерность hidden слоя, тем больше точность (не особо сильно), что ожидаемо.\n",
    "* Наибольший score набрала модель с максимальной размерностью embedding слоя и hidden слоя, что подтверждает наблюдения выше.\n",
    "* В целом модель хорошо справилась со своей задачей: accuracy модели превышает 0.9 на определённых наборах параметров. \n"
   ]
  }
 ],
 "metadata": {
  "kernelspec": {
   "display_name": "Python 3",
   "language": "python",
   "name": "python3"
  },
  "language_info": {
   "codemirror_mode": {
    "name": "ipython",
    "version": 3
   },
   "file_extension": ".py",
   "mimetype": "text/x-python",
   "name": "python",
   "nbconvert_exporter": "python",
   "pygments_lexer": "ipython3",
   "version": "3.11.8"
  }
 },
 "nbformat": 4,
 "nbformat_minor": 2
}
