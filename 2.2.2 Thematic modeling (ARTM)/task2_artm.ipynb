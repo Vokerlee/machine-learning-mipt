{
  "cells": [
    {
      "cell_type": "markdown",
      "metadata": {
        "id": "HcSLdH21qYAg"
      },
      "source": [
        "### Libraries"
      ]
    },
    {
      "cell_type": "code",
      "execution_count": 1,
      "metadata": {
        "id": "hgi7azBbqCwP"
      },
      "outputs": [],
      "source": [
        "from sklearn.metrics import classification_report, accuracy_score\n",
        "from catboost import CatBoostClassifier\n",
        "from sklearn.utils import shuffle\n",
        "import matplotlib.pyplot as plt\n",
        "from bisect import bisect_left\n",
        "from itertools import chain\n",
        "from tqdm import tqdm\n",
        "import pandas as pd\n",
        "import numpy as np\n",
        "import torch\n",
        "import artm\n",
        "import csv\n",
        "import re"
      ]
    },
    {
      "cell_type": "code",
      "execution_count": 2,
      "metadata": {
        "colab": {
          "base_uri": "https://localhost:8080/"
        },
        "id": "k9wGSZnbqAEy",
        "outputId": "e3c1d7e3-4105-4273-8bd0-5e7a07b46b19"
      },
      "outputs": [
        {
          "data": {
            "text/plain": [
              "device(type='cuda')"
            ]
          },
          "execution_count": 2,
          "metadata": {},
          "output_type": "execute_result"
        }
      ],
      "source": [
        "device = torch.device('cuda' if torch.cuda.is_available() else 'cpu')\n",
        "device"
      ]
    },
    {
      "cell_type": "markdown",
      "metadata": {
        "id": "jRWfqkvHQ7vG"
      },
      "source": [
        "Скопируем в локальные директории данные по ссылке https://disk.yandex.ru/d/bwUVH8hR1MRNrg."
      ]
    },
    {
      "cell_type": "markdown",
      "metadata": {
        "id": "-pijtoPqQZh3"
      },
      "source": [
        "### Dataset & general parameters + Bigartm"
      ]
    },
    {
      "cell_type": "markdown",
      "metadata": {
        "id": "egMx-jjexDyc"
      },
      "source": [
        "Используем заранее преобразованные токены из семинара по тематическому моделированию."
      ]
    },
    {
      "cell_type": "code",
      "execution_count": 3,
      "metadata": {
        "colab": {
          "base_uri": "https://localhost:8080/"
        },
        "id": "FN6w7ADp5ZWO",
        "outputId": "560d7557-bd43-4413-cb92-52e56a0c336b"
      },
      "outputs": [
        {
          "name": "stdout",
          "output_type": "stream",
          "text": [
            "                                                     text      tags   len  \\\n",
            "0       1 сентябрь весь территория россия вводиться но...       Все  1654   \n",
            "1       сведение миссия оон , передаваемый риа \" новос...       Все  1086   \n",
            "2       15 представитель национал - большевистский пар...       Все  1219   \n",
            "3       наметить сегодняшний день церемония вступление...       Все  3094   \n",
            "4       юг киргизия , именно баткенский чон - алайском...       Все  1354   \n",
            "...                                                   ...       ...   ...   \n",
            "863280  популярный место среди турист мурманский облас...    Россия  1231   \n",
            "863281  рейтинг международный рейтинговый агентство s ...            1425   \n",
            "863282  российский учёный найти якутия новый подвид ар...   События  1299   \n",
            "863283  указание коронавирус причина смерть человек не...  Общество  2061   \n",
            "863284  президент сша дональд трамп стать посредник но...  Политика  1020   \n",
            "\n",
            "              date  month  year  \n",
            "0       31-08-1999      8  1999  \n",
            "1       31-08-1999      8  1999  \n",
            "2       31-08-1999      8  1999  \n",
            "3       31-08-1999      8  1999  \n",
            "4       31-08-1999      8  1999  \n",
            "...            ...    ...   ...  \n",
            "863280  11-09-2020      9  2020  \n",
            "863281  11-09-2020      9  2020  \n",
            "863282  11-09-2020      9  2020  \n",
            "863283  11-09-2020      9  2020  \n",
            "863284  11-09-2020      9  2020  \n",
            "\n",
            "[863285 rows x 6 columns] [1999, 2000, 2001, 2002, 2003, 2004, 2005, 2006, 2007, 2008, 2009, 2010, 2011, 2012, 2013, 2014, 2015, 2016, 2017, 2018, 2019, 2020]\n"
          ]
        }
      ],
      "source": [
        "with open('topicmodeling/lenta-ru-proccess.csv', 'r', encoding='utf-8') as file:\n",
        "    reader = csv.DictReader(file)\n",
        "    data = pd.DataFrame(reader)\n",
        "\n",
        "data['month'] = data.apply(lambda row: int(row['date'].split('-')[1]), axis=1)\n",
        "data['year'] = data.apply(lambda row: int(row['date'].split('-')[2]), axis=1)\n",
        "\n",
        "all_years = sorted(data['year'].unique())[1:]\n",
        "all_years_lables = list(map(str, all_years))\n",
        "print(data, all_years)"
      ]
    },
    {
      "cell_type": "markdown",
      "metadata": {
        "id": "CNUIagBExmnj"
      },
      "source": [
        "Генерируем выборки для тестов и обучения, заодно отсекая мелкие тексты и приводя данные к виду, необходимому для `bigartm`.\n",
        "\n",
        "Модальности будем добавлять по одной по-очерёдно, чтобы не пришлось проверять все возможные комбинации. Используем тег и год как 2 различные модальности."
      ]
    },
    {
      "cell_type": "code",
      "execution_count": 5,
      "metadata": {
        "colab": {
          "base_uri": "https://localhost:8080/"
        },
        "id": "5q4jboq_QaI-",
        "outputId": "8bec0d71-9499-46d8-b681-610a85679386"
      },
      "outputs": [],
      "source": [
        "def get_modalities_str(data, modalities: list):\n",
        "    name = \"\"\n",
        "    if modalities != None:\n",
        "        for mod in modalities:\n",
        "            if mod != None:\n",
        "                name += f\"|@{mod} class_{data[mod]} \"\n",
        "\n",
        "    return name"
      ]
    },
    {
      "cell_type": "code",
      "execution_count": 4,
      "metadata": {
        "id": "RHrfgE-8sUyE"
      },
      "outputs": [],
      "source": [
        "def get_years(data, train_mask):\n",
        "    year_train = []\n",
        "    year_test = []\n",
        "\n",
        "    for i in tqdm(range(len(data))):\n",
        "        text = data.loc[i]['text']\n",
        "        text = (split_regexp.sub(' ', text).strip()).split()\n",
        "\n",
        "        # Drop small texts\n",
        "        if len(text) < 90:\n",
        "            continue\n",
        "\n",
        "        text = ' '.join(text)\n",
        "        year = data.loc[i]['year']\n",
        "\n",
        "        if train_mask[i]:\n",
        "            year_train.append(year)\n",
        "        else:\n",
        "            year_test.append(year)\n",
        "\n",
        "    return year_train, year_test"
      ]
    },
    {
      "cell_type": "code",
      "execution_count": 13,
      "metadata": {
        "id": "cJtNrVIxOZEs"
      },
      "outputs": [],
      "source": [
        "def create_bigartm_format_files(data, file_train, file_test, train_mask, modalities=None):\n",
        "    years_train = 0\n",
        "    years_test = 0\n",
        "\n",
        "    with open(file_train, 'w') as ftrain, open(file_test, 'w') as ftest:\n",
        "        for i in tqdm(range(len(data))):\n",
        "            text = data.loc[i]['text']\n",
        "            text = (split_regexp.sub(' ', text).strip()).split()\n",
        "\n",
        "            # Drop small texts\n",
        "            if len(text) < 90:\n",
        "                continue\n",
        "\n",
        "            text = ' '.join(text)\n",
        "\n",
        "            if train_mask[i]:\n",
        "                sample_name = f'doc_{years_train} {text} ' + get_modalities_str(data.loc[i], modalities)\n",
        "                ftrain.write(sample_name + '\\n')\n",
        "                years_train += 1\n",
        "            else:\n",
        "                sample_name = f'doc_{years_test} {text} ' + get_modalities_str(data.loc[i], modalities)\n",
        "                ftest.write(sample_name + '\\n')\n",
        "                years_test += 1"
      ]
    },
    {
      "cell_type": "code",
      "execution_count": 28,
      "metadata": {
        "colab": {
          "base_uri": "https://localhost:8080/"
        },
        "id": "E4S_dyMkruZA",
        "outputId": "8dfd963f-83d6-49c8-b75c-2a59ca31e519"
      },
      "outputs": [
        {
          "name": "stderr",
          "output_type": "stream",
          "text": [
            "100%|██████████| 863285/863285 [01:07<00:00, 12799.65it/s]"
          ]
        },
        {
          "name": "stdout",
          "output_type": "stream",
          "text": [
            "622314 109888\n"
          ]
        },
        {
          "name": "stderr",
          "output_type": "stream",
          "text": [
            "\n"
          ]
        }
      ],
      "source": [
        "train_mask = np.random.default_rng(1).random(len(data)) < 0.85\n",
        "split_regexp = re.compile(r'\\W+')\n",
        "\n",
        "year_train, year_test = get_years(data, train_mask)\n",
        "print(len(year_train), len(year_test))"
      ]
    },
    {
      "cell_type": "code",
      "execution_count": 6,
      "metadata": {},
      "outputs": [],
      "source": [
        "modalities_list = [None, \"year\", \"tags\"]"
      ]
    },
    {
      "cell_type": "code",
      "execution_count": 16,
      "metadata": {
        "colab": {
          "base_uri": "https://localhost:8080/"
        },
        "id": "tA_CyDq5Q0mi",
        "outputId": "20c82d56-0254-4cdb-c68a-9ac64351a156"
      },
      "outputs": [
        {
          "name": "stderr",
          "output_type": "stream",
          "text": [
            "100%|██████████| 863285/863285 [01:14<00:00, 11516.57it/s]\n",
            "100%|██████████| 863285/863285 [01:16<00:00, 11230.71it/s]\n",
            "100%|██████████| 863285/863285 [01:16<00:00, 11350.58it/s]\n"
          ]
        }
      ],
      "source": [
        "for mod in modalities_list:\n",
        "    if mod == None:\n",
        "        mod_name = \"nomod\"\n",
        "    else:\n",
        "        mod_name = mod\n",
        "\n",
        "    create_bigartm_format_files(data,\n",
        "        file_train='topicmodeling/vw_data/texts_train_' + mod_name + '.vw.txt',\n",
        "        file_test='topicmodeling/vw_data/texts_test_' + mod_name + '.vw.txt',\n",
        "        train_mask=train_mask, modalities=[mod])"
      ]
    },
    {
      "cell_type": "markdown",
      "metadata": {
        "id": "HRKbqazhWyu6"
      },
      "source": [
        "Формируем/грузим батчи в формате, используемом библиотекой `bigartm`."
      ]
    },
    {
      "cell_type": "code",
      "execution_count": 17,
      "metadata": {
        "id": "sJPT4PSISIuG"
      },
      "outputs": [],
      "source": [
        "# Create batches files from train/test files\n",
        "\n",
        "for mod in modalities_list:\n",
        "    if mod == None:\n",
        "        mod_name = \"nomod\"\n",
        "    else:\n",
        "        mod_name = mod\n",
        "\n",
        "    _ = artm.BatchVectorizer(data_path='topicmodeling/vw_data/texts_train_' + mod_name + '.vw.txt',\n",
        "                             data_format='vowpal_wabbit', batch_size=10000,\n",
        "                             target_folder='topicmodeling/batches_train_' + mod_name)\n",
        "\n",
        "    _ = artm.BatchVectorizer(data_path='topicmodeling/vw_data/texts_test_' + mod_name + '.vw.txt',\n",
        "                             data_format='vowpal_wabbit', batch_size=10000,\n",
        "                             target_folder='topicmodeling/batches_test_' + mod_name)"
      ]
    },
    {
      "cell_type": "markdown",
      "metadata": {
        "id": "xup1PPAuZjHZ"
      },
      "source": [
        "### Bigartm models"
      ]
    },
    {
      "cell_type": "markdown",
      "metadata": {
        "id": "TItn4I_ozCDl"
      },
      "source": [
        "Обучим модели для каждого из регулиризаторов (и без них) параллельно с введением дополнительных модальностей."
      ]
    },
    {
      "cell_type": "code",
      "execution_count": 7,
      "metadata": {
        "id": "mx7XT3-BeDUx"
      },
      "outputs": [],
      "source": [
        "regul_list = [\n",
        "    [None, 'noreg'],\n",
        "    [artm.DecorrelatorPhiRegularizer(name='DecorrelatorPhi', tau=1.5e+5), 'decor_phi'],\n",
        "    [artm.SmoothSparsePhiRegularizer(name='SparsePhi', tau=15), 'sm_sp_phi'],\n",
        "    [artm.ImproveCoherencePhiRegularizer(name='ImproveCoherencePhi', tau=20), 'impr_coh_phi']\n",
        "]"
      ]
    },
    {
      "cell_type": "code",
      "execution_count": 10,
      "metadata": {
        "colab": {
          "base_uri": "https://localhost:8080/"
        },
        "id": "Cpt15AHuXz3F",
        "outputId": "f717c84c-0783-414e-c384-83b74f614573"
      },
      "outputs": [
        {
          "name": "stderr",
          "output_type": "stream",
          "text": [
            "100%|██████████| 13/13 [07:15<00:00, 33.52s/it, perplexity=558, sparsity=0.959]    \n",
            "100%|██████████| 13/13 [08:31<00:00, 39.31s/it, perplexity=691, sparsity=0.999]   \n",
            "100%|██████████| 13/13 [07:52<00:00, 36.34s/it, perplexity=1.96e+3, sparsity=0]\n",
            "100%|██████████| 13/13 [07:11<00:00, 33.17s/it, perplexity=558, sparsity=0.959]    \n"
          ]
        }
      ],
      "source": [
        "# Code below was used bacause of crashed kernel\n",
        "# modalities_list = [\"tags\"]\n",
        "\n",
        "for mod in modalities_list:\n",
        "    if mod == None:\n",
        "        mod_name = \"nomod\"\n",
        "    else:\n",
        "        mod_name = mod\n",
        "\n",
        "    bv_train = artm.BatchVectorizer(data_path='topicmodeling/batches_train_' + mod_name,\n",
        "                                    data_format='batches')\n",
        "    dictionary = artm.Dictionary()\n",
        "    dictionary.gather(data_path='topicmodeling/batches_train_' + mod_name)\n",
        "\n",
        "    for reg in regul_list:\n",
        "\n",
        "        if mod != None:\n",
        "            model = artm.ARTM(num_topics=178, dictionary=dictionary,\n",
        "                              class_ids={'@default_class': 1.0, f'@{mod_name}': 27.0})\n",
        "        else:\n",
        "            model = artm.ARTM(num_topics=178, dictionary=dictionary,\n",
        "                              class_ids={'@default_class': 1.0})\n",
        "\n",
        "        model_name = f'{mod_name}_{reg[1]}'\n",
        "\n",
        "        model.scores.add(artm.PerplexityScore(name='perplexity', dictionary=dictionary))\n",
        "        model.scores.add(artm.TopTokensScore(name='top-tokens', num_tokens=10))\n",
        "        if mod != None:\n",
        "            model.scores.add(artm.SparsityPhiScore(name='sparsity', class_id=f'@{mod_name}'))\n",
        "\n",
        "        if reg[0] != None:\n",
        "            model.regularizers.add(reg[0])\n",
        "\n",
        "        iterator = tqdm(range(13))\n",
        "        for i in iterator:\n",
        "            model.fit_offline(bv_train, num_collection_passes=1)\n",
        "            if mod == None:\n",
        "                iterator.set_postfix({'perplexity': model.score_tracker['perplexity'].value[-1]})\n",
        "            else:\n",
        "                iterator.set_postfix({'perplexity': model.score_tracker['perplexity'].value[-1],\n",
        "                                      'sparsity': model.score_tracker['sparsity'].value[-1]})\n",
        "\n",
        "        #model.dump_artm_model(f'/content/drive/MyDrive/Colab Notebooks/topicmodeling/model/{model_name}')\n",
        "        model.dump_artm_model(f'topicmodeling/model/{model_name}')"
      ]
    },
    {
      "cell_type": "markdown",
      "metadata": {
        "id": "Z56BvJjFxY4a"
      },
      "source": [
        "### Year as modality (classification analyses)"
      ]
    },
    {
      "cell_type": "code",
      "execution_count": 29,
      "metadata": {
        "colab": {
          "base_uri": "https://localhost:8080/"
        },
        "id": "dA1sGc67sIXS",
        "outputId": "b5f0cab0-9cb4-4707-8cd9-097bc6da4be7"
      },
      "outputs": [],
      "source": [
        "model = artm.load_artm_model(f'topicmodeling/model/year_noreg')\n",
        "dictionary = artm.Dictionary()\n",
        "dictionary.gather(data_path='topicmodeling/batches_train_year')\n",
        "\n",
        "model.scores.add(artm.PerplexityScore(name='perplexity', dictionary=dictionary), overwrite=True)\n",
        "model.scores.add(artm.TopTokensScore(name='top-tokens', num_tokens=10), overwrite=True)\n",
        "model.scores.add(artm.SparsityPhiScore(name='sparsity', class_id=f'@year'), overwrite=True)"
      ]
    },
    {
      "cell_type": "code",
      "execution_count": 10,
      "metadata": {
        "colab": {
          "base_uri": "https://localhost:8080/",
          "height": 465
        },
        "id": "t_gOp0KUxRm6",
        "outputId": "ae22a95e-a4c9-405b-b444-5d1f4b352714"
      },
      "outputs": [
        {
          "data": {
            "image/png": "[encoded data removed]",
            "text/plain": [
              "<Figure size 640x480 with 1 Axes>"
            ]
          },
          "metadata": {},
          "output_type": "display_data"
        }
      ],
      "source": [
        "plt.plot(model.score_tracker['perplexity'].value, label = 'perplexity')\n",
        "\n",
        "plt.legend(loc = 'best')\n",
        "\n",
        "plt.xlabel('iteration')\n",
        "plt.ylabel('score')\n",
        "plt.show()"
      ]
    },
    {
      "cell_type": "code",
      "execution_count": 11,
      "metadata": {
        "colab": {
          "base_uri": "https://localhost:8080/",
          "height": 449
        },
        "id": "TIE3dJdFxR_c",
        "outputId": "7cf4e39d-324e-4f18-de64-c2082134038b"
      },
      "outputs": [
        {
          "data": {
            "image/png": "[encoded data removed]",
            "text/plain": [
              "<Figure size 640x480 with 1 Axes>"
            ]
          },
          "metadata": {},
          "output_type": "display_data"
        }
      ],
      "source": [
        "plt.plot(model.score_tracker['sparsity'].value, label = 'sparsity')\n",
        "\n",
        "plt.legend(loc = 'best')\n",
        "\n",
        "plt.xlabel('iteration')\n",
        "plt.ylabel('score')\n",
        "plt.show()"
      ]
    },
    {
      "cell_type": "markdown",
      "metadata": {
        "id": "ZjmpiS1-y39f"
      },
      "source": [
        "### Topic modeling (texts -> topic vectors)"
      ]
    },
    {
      "cell_type": "code",
      "execution_count": 15,
      "metadata": {
        "id": "JK4oB9HnZ7su"
      },
      "outputs": [],
      "source": [
        "def create_dataset(artm: artm.ARTM, bv: artm.BatchVectorizer, years: list):\n",
        "    values = np.array(artm.transform(bv).values).T\n",
        "    dataset = []\n",
        "\n",
        "    for i in range(len(values)):\n",
        "        year_onehot = np.zeros(len(all_years), dtype='float32')\n",
        "        year_onehot[bisect_left(all_years, years[i])] = 1.0\n",
        "        dataset.append((values[i], year_onehot))\n",
        "\n",
        "    return dataset"
      ]
    },
    {
      "cell_type": "code",
      "execution_count": 8,
      "metadata": {},
      "outputs": [],
      "source": [
        "def create_X_data(artm: artm.ARTM, bv: artm.BatchVectorizer):\n",
        "    return np.array(artm.transform(bv).values).T"
      ]
    },
    {
      "cell_type": "markdown",
      "metadata": {
        "id": "8YKY_leBk6pm"
      },
      "source": [
        "### Training code"
      ]
    },
    {
      "cell_type": "markdown",
      "metadata": {},
      "source": [
        "Используем `catboost` в качестве классификатора, печатаем качество классификации для каждой модели."
      ]
    },
    {
      "cell_type": "code",
      "execution_count": 9,
      "metadata": {
        "colab": {
          "base_uri": "https://localhost:8080/"
        },
        "id": "hgrnFy2rueOD",
        "outputId": "e366e3cf-3eee-4511-9754-5183a6ceb18f"
      },
      "outputs": [
        {
          "name": "stderr",
          "output_type": "stream",
          "text": [
            "E0502 18:10:34.074806  9424 perplexity.cc:52] Perplexity was configured to use UnigramCollectionModel with dictionary 71bec208-36b8-426d-b238-cae5cb5a767c. This dictionary can't be found.\n",
            "E0502 18:10:34.075001  9424 perplexity.cc:52] Perplexity was configured to use UnigramCollectionModel with dictionary 71bec208-36b8-426d-b238-cae5cb5a767c. This dictionary can't be found.\n",
            "E0502 18:10:34.075016  9424 perplexity.cc:52] Perplexity was configured to use UnigramCollectionModel with dictionary 71bec208-36b8-426d-b238-cae5cb5a767c. This dictionary can't be found.\n",
            "E0502 18:10:34.075019  9424 perplexity.cc:52] Perplexity was configured to use UnigramCollectionModel with dictionary 71bec208-36b8-426d-b238-cae5cb5a767c. This dictionary can't be found.\n",
            "E0502 18:10:34.075023  9424 perplexity.cc:52] Perplexity was configured to use UnigramCollectionModel with dictionary 71bec208-36b8-426d-b238-cae5cb5a767c. This dictionary can't be found.\n",
            "E0502 18:10:34.075026  9424 perplexity.cc:52] Perplexity was configured to use UnigramCollectionModel with dictionary 71bec208-36b8-426d-b238-cae5cb5a767c. This dictionary can't be found.\n",
            "E0502 18:10:34.075029  9424 perplexity.cc:52] Perplexity was configured to use UnigramCollectionModel with dictionary 71bec208-36b8-426d-b238-cae5cb5a767c. This dictionary can't be found.\n",
            "E0502 18:10:34.075032  9424 perplexity.cc:52] Perplexity was configured to use UnigramCollectionModel with dictionary 71bec208-36b8-426d-b238-cae5cb5a767c. This dictionary can't be found.\n",
            "E0502 18:10:34.075034  9424 perplexity.cc:52] Perplexity was configured to use UnigramCollectionModel with dictionary 71bec208-36b8-426d-b238-cae5cb5a767c. This dictionary can't be found.\n",
            "E0502 18:10:34.075037  9424 perplexity.cc:52] Perplexity was configured to use UnigramCollectionModel with dictionary 71bec208-36b8-426d-b238-cae5cb5a767c. This dictionary can't be found.\n",
            "E0502 18:10:34.075040  9424 perplexity.cc:52] Perplexity was configured to use UnigramCollectionModel with dictionary 71bec208-36b8-426d-b238-cae5cb5a767c. This dictionary can't be found.\n",
            "E0502 18:10:34.075049  9424 perplexity.cc:52] Perplexity was configured to use UnigramCollectionModel with dictionary 71bec208-36b8-426d-b238-cae5cb5a767c. This dictionary can't be found.\n",
            "E0502 18:10:34.075052  9424 perplexity.cc:52] Perplexity was configured to use UnigramCollectionModel with dictionary 71bec208-36b8-426d-b238-cae5cb5a767c. This dictionary can't be found.\n",
            "E0502 18:10:34.075054  9424 perplexity.cc:52] Perplexity was configured to use UnigramCollectionModel with dictionary 71bec208-36b8-426d-b238-cae5cb5a767c. This dictionary can't be found.\n",
            "E0502 18:10:34.075057  9424 perplexity.cc:52] Perplexity was configured to use UnigramCollectionModel with dictionary 71bec208-36b8-426d-b238-cae5cb5a767c. This dictionary can't be found.\n",
            "E0502 18:10:34.075060  9424 perplexity.cc:52] Perplexity was configured to use UnigramCollectionModel with dictionary 71bec208-36b8-426d-b238-cae5cb5a767c. This dictionary can't be found.\n",
            "E0502 18:10:34.075063  9424 perplexity.cc:52] Perplexity was configured to use UnigramCollectionModel with dictionary 71bec208-36b8-426d-b238-cae5cb5a767c. This dictionary can't be found.\n",
            "E0502 18:10:34.075066  9424 perplexity.cc:52] Perplexity was configured to use UnigramCollectionModel with dictionary 71bec208-36b8-426d-b238-cae5cb5a767c. This dictionary can't be found.\n",
            "E0502 18:10:34.075069  9424 perplexity.cc:52] Perplexity was configured to use UnigramCollectionModel with dictionary 71bec208-36b8-426d-b238-cae5cb5a767c. This dictionary can't be found.\n",
            "E0502 18:10:34.075073  9424 perplexity.cc:52] Perplexity was configured to use UnigramCollectionModel with dictionary 71bec208-36b8-426d-b238-cae5cb5a767c. This dictionary can't be found.\n",
            "E0502 18:10:34.075074  9424 perplexity.cc:52] Perplexity was configured to use UnigramCollectionModel with dictionary 71bec208-36b8-426d-b238-cae5cb5a767c. This dictionary can't be found.\n",
            "E0502 18:10:34.075078  9424 perplexity.cc:52] Perplexity was configured to use UnigramCollectionModel with dictionary 71bec208-36b8-426d-b238-cae5cb5a767c. This dictionary can't be found.\n",
            "E0502 18:10:34.075254  9424 perplexity.cc:52] Perplexity was configured to use UnigramCollectionModel with dictionary 71bec208-36b8-426d-b238-cae5cb5a767c. This dictionary can't be found.\n",
            "E0502 18:10:34.075281  9424 perplexity.cc:52] Perplexity was configured to use UnigramCollectionModel with dictionary 71bec208-36b8-426d-b238-cae5cb5a767c. This dictionary can't be found.\n",
            "E0502 18:10:34.075287  9424 perplexity.cc:52] Perplexity was configured to use UnigramCollectionModel with dictionary 71bec208-36b8-426d-b238-cae5cb5a767c. This dictionary can't be found.\n",
            "E0502 18:10:34.075291  9424 perplexity.cc:52] Perplexity was configured to use UnigramCollectionModel with dictionary 71bec208-36b8-426d-b238-cae5cb5a767c. This dictionary can't be found.\n",
            "E0502 18:10:34.075294  9424 perplexity.cc:52] Perplexity was configured to use UnigramCollectionModel with dictionary 71bec208-36b8-426d-b238-cae5cb5a767c. This dictionary can't be found.\n",
            "E0502 18:10:34.075297  9424 perplexity.cc:52] Perplexity was configured to use UnigramCollectionModel with dictionary 71bec208-36b8-426d-b238-cae5cb5a767c. This dictionary can't be found.\n",
            "E0502 18:10:34.075300  9424 perplexity.cc:52] Perplexity was configured to use UnigramCollectionModel with dictionary 71bec208-36b8-426d-b238-cae5cb5a767c. This dictionary can't be found.\n",
            "E0502 18:10:34.075304  9424 perplexity.cc:52] Perplexity was configured to use UnigramCollectionModel with dictionary 71bec208-36b8-426d-b238-cae5cb5a767c. This dictionary can't be found.\n",
            "E0502 18:10:34.075307  9424 perplexity.cc:52] Perplexity was configured to use UnigramCollectionModel with dictionary 71bec208-36b8-426d-b238-cae5cb5a767c. This dictionary can't be found.\n",
            "E0502 18:10:34.075310  9424 perplexity.cc:52] Perplexity was configured to use UnigramCollectionModel with dictionary 71bec208-36b8-426d-b238-cae5cb5a767c. This dictionary can't be found.\n",
            "E0502 18:10:34.075318  9424 perplexity.cc:52] Perplexity was configured to use UnigramCollectionModel with dictionary 71bec208-36b8-426d-b238-cae5cb5a767c. This dictionary can't be found.\n",
            "E0502 18:10:34.075322  9424 perplexity.cc:52] Perplexity was configured to use UnigramCollectionModel with dictionary 71bec208-36b8-426d-b238-cae5cb5a767c. This dictionary can't be found.\n",
            "E0502 18:10:34.075325  9424 perplexity.cc:52] Perplexity was configured to use UnigramCollectionModel with dictionary 71bec208-36b8-426d-b238-cae5cb5a767c. This dictionary can't be found.\n",
            "E0502 18:10:34.075328  9424 perplexity.cc:52] Perplexity was configured to use UnigramCollectionModel with dictionary 71bec208-36b8-426d-b238-cae5cb5a767c. This dictionary can't be found.\n",
            "E0502 18:10:34.075331  9424 perplexity.cc:52] Perplexity was configured to use UnigramCollectionModel with dictionary 71bec208-36b8-426d-b238-cae5cb5a767c. This dictionary can't be found.\n",
            "E0502 18:10:34.075335  9424 perplexity.cc:52] Perplexity was configured to use UnigramCollectionModel with dictionary 71bec208-36b8-426d-b238-cae5cb5a767c. This dictionary can't be found.\n",
            "E0502 18:10:34.075338  9424 perplexity.cc:52] Perplexity was configured to use UnigramCollectionModel with dictionary 71bec208-36b8-426d-b238-cae5cb5a767c. This dictionary can't be found.\n",
            "E0502 18:10:34.075342  9424 perplexity.cc:52] Perplexity was configured to use UnigramCollectionModel with dictionary 71bec208-36b8-426d-b238-cae5cb5a767c. This dictionary can't be found.\n",
            "E0502 18:10:34.075345  9424 perplexity.cc:52] Perplexity was configured to use UnigramCollectionModel with dictionary 71bec208-36b8-426d-b238-cae5cb5a767c. This dictionary can't be found.\n",
            "E0502 18:10:34.075348  9424 perplexity.cc:52] Perplexity was configured to use UnigramCollectionModel with dictionary 71bec208-36b8-426d-b238-cae5cb5a767c. This dictionary can't be found.\n",
            "E0502 18:10:34.075352  9424 perplexity.cc:52] Perplexity was configured to use UnigramCollectionModel with dictionary 71bec208-36b8-426d-b238-cae5cb5a767c. This dictionary can't be found.\n",
            "E0502 18:10:34.075492  9424 perplexity.cc:52] Perplexity was configured to use UnigramCollectionModel with dictionary 71bec208-36b8-426d-b238-cae5cb5a767c. This dictionary can't be found.\n",
            "E0502 18:10:34.075512  9424 perplexity.cc:52] Perplexity was configured to use UnigramCollectionModel with dictionary 71bec208-36b8-426d-b238-cae5cb5a767c. This dictionary can't be found.\n",
            "E0502 18:10:34.075517  9424 perplexity.cc:52] Perplexity was configured to use UnigramCollectionModel with dictionary 71bec208-36b8-426d-b238-cae5cb5a767c. This dictionary can't be found.\n",
            "E0502 18:10:34.075520  9424 perplexity.cc:52] Perplexity was configured to use UnigramCollectionModel with dictionary 71bec208-36b8-426d-b238-cae5cb5a767c. This dictionary can't be found.\n",
            "E0502 18:10:34.075523  9424 perplexity.cc:52] Perplexity was configured to use UnigramCollectionModel with dictionary 71bec208-36b8-426d-b238-cae5cb5a767c. This dictionary can't be found.\n",
            "E0502 18:10:34.075527  9424 perplexity.cc:52] Perplexity was configured to use UnigramCollectionModel with dictionary 71bec208-36b8-426d-b238-cae5cb5a767c. This dictionary can't be found.\n",
            "E0502 18:10:34.075531  9424 perplexity.cc:52] Perplexity was configured to use UnigramCollectionModel with dictionary 71bec208-36b8-426d-b238-cae5cb5a767c. This dictionary can't be found.\n",
            "E0502 18:10:34.075533  9424 perplexity.cc:52] Perplexity was configured to use UnigramCollectionModel with dictionary 71bec208-36b8-426d-b238-cae5cb5a767c. This dictionary can't be found.\n",
            "E0502 18:10:34.075537  9424 perplexity.cc:52] Perplexity was configured to use UnigramCollectionModel with dictionary 71bec208-36b8-426d-b238-cae5cb5a767c. This dictionary can't be found.\n",
            "E0502 18:10:34.075541  9424 perplexity.cc:52] Perplexity was configured to use UnigramCollectionModel with dictionary 71bec208-36b8-426d-b238-cae5cb5a767c. This dictionary can't be found.\n",
            "E0502 18:10:34.075543  9424 perplexity.cc:52] Perplexity was configured to use UnigramCollectionModel with dictionary 71bec208-36b8-426d-b238-cae5cb5a767c. This dictionary can't be found.\n",
            "E0502 18:10:34.075551  9424 perplexity.cc:52] Perplexity was configured to use UnigramCollectionModel with dictionary 71bec208-36b8-426d-b238-cae5cb5a767c. This dictionary can't be found.\n",
            "E0502 18:10:34.075554  9424 perplexity.cc:52] Perplexity was configured to use UnigramCollectionModel with dictionary 71bec208-36b8-426d-b238-cae5cb5a767c. This dictionary can't be found.\n",
            "E0502 18:10:34.075557  9424 perplexity.cc:52] Perplexity was configured to use UnigramCollectionModel with dictionary 71bec208-36b8-426d-b238-cae5cb5a767c. This dictionary can't be found.\n",
            "E0502 18:10:34.075560  9424 perplexity.cc:52] Perplexity was configured to use UnigramCollectionModel with dictionary 71bec208-36b8-426d-b238-cae5cb5a767c. This dictionary can't be found.\n",
            "E0502 18:10:34.075563  9424 perplexity.cc:52] Perplexity was configured to use UnigramCollectionModel with dictionary 71bec208-36b8-426d-b238-cae5cb5a767c. This dictionary can't be found.\n",
            "E0502 18:10:34.075567  9424 perplexity.cc:52] Perplexity was configured to use UnigramCollectionModel with dictionary 71bec208-36b8-426d-b238-cae5cb5a767c. This dictionary can't be found.\n",
            "E0502 18:10:34.075569  9424 perplexity.cc:52] Perplexity was configured to use UnigramCollectionModel with dictionary 71bec208-36b8-426d-b238-cae5cb5a767c. This dictionary can't be found.\n",
            "E0502 18:10:34.075572  9424 perplexity.cc:52] Perplexity was configured to use UnigramCollectionModel with dictionary 71bec208-36b8-426d-b238-cae5cb5a767c. This dictionary can't be found.\n",
            "E0502 18:10:34.075577  9424 perplexity.cc:52] Perplexity was configured to use UnigramCollectionModel with dictionary 71bec208-36b8-426d-b238-cae5cb5a767c. This dictionary can't be found.\n",
            "E0502 18:10:34.075579  9424 perplexity.cc:52] Perplexity was configured to use UnigramCollectionModel with dictionary 71bec208-36b8-426d-b238-cae5cb5a767c. This dictionary can't be found.\n",
            "E0502 18:10:34.075582  9424 perplexity.cc:52] Perplexity was configured to use UnigramCollectionModel with dictionary 71bec208-36b8-426d-b238-cae5cb5a767c. This dictionary can't be found.\n",
            "E0502 18:10:34.075614  9424 perplexity.cc:52] Perplexity was configured to use UnigramCollectionModel with dictionary 71bec208-36b8-426d-b238-cae5cb5a767c. This dictionary can't be found.\n",
            "E0502 18:10:34.075619  9424 perplexity.cc:52] Perplexity was configured to use UnigramCollectionModel with dictionary 71bec208-36b8-426d-b238-cae5cb5a767c. This dictionary can't be found.\n",
            "E0502 18:10:34.075623  9424 perplexity.cc:52] Perplexity was configured to use UnigramCollectionModel with dictionary 71bec208-36b8-426d-b238-cae5cb5a767c. This dictionary can't be found.\n",
            "E0502 18:10:34.075626  9424 perplexity.cc:52] Perplexity was configured to use UnigramCollectionModel with dictionary 71bec208-36b8-426d-b238-cae5cb5a767c. This dictionary can't be found.\n",
            "E0502 18:10:34.075630  9424 perplexity.cc:52] Perplexity was configured to use UnigramCollectionModel with dictionary 71bec208-36b8-426d-b238-cae5cb5a767c. This dictionary can't be found.\n",
            "E0502 18:10:34.075634  9424 perplexity.cc:52] Perplexity was configured to use UnigramCollectionModel with dictionary 71bec208-36b8-426d-b238-cae5cb5a767c. This dictionary can't be found.\n",
            "E0502 18:10:34.075636  9424 perplexity.cc:52] Perplexity was configured to use UnigramCollectionModel with dictionary 71bec208-36b8-426d-b238-cae5cb5a767c. This dictionary can't be found.\n",
            "E0502 18:10:34.075640  9424 perplexity.cc:52] Perplexity was configured to use UnigramCollectionModel with dictionary 71bec208-36b8-426d-b238-cae5cb5a767c. This dictionary can't be found.\n",
            "E0502 18:10:34.075644  9424 perplexity.cc:52] Perplexity was configured to use UnigramCollectionModel with dictionary 71bec208-36b8-426d-b238-cae5cb5a767c. This dictionary can't be found.\n",
            "E0502 18:10:34.075647  9424 perplexity.cc:52] Perplexity was configured to use UnigramCollectionModel with dictionary 71bec208-36b8-426d-b238-cae5cb5a767c. This dictionary can't be found.\n",
            "E0502 18:10:34.075650  9424 perplexity.cc:52] Perplexity was configured to use UnigramCollectionModel with dictionary 71bec208-36b8-426d-b238-cae5cb5a767c. This dictionary can't be found.\n",
            "E0502 18:10:34.075655  9424 perplexity.cc:52] Perplexity was configured to use UnigramCollectionModel with dictionary 71bec208-36b8-426d-b238-cae5cb5a767c. This dictionary can't be found.\n",
            "E0502 18:10:34.075659  9424 perplexity.cc:52] Perplexity was configured to use UnigramCollectionModel with dictionary 71bec208-36b8-426d-b238-cae5cb5a767c. This dictionary can't be found.\n",
            "E0502 18:10:34.075662  9424 perplexity.cc:52] Perplexity was configured to use UnigramCollectionModel with dictionary 71bec208-36b8-426d-b238-cae5cb5a767c. This dictionary can't be found.\n",
            "E0502 18:10:34.075665  9424 perplexity.cc:52] Perplexity was configured to use UnigramCollectionModel with dictionary 71bec208-36b8-426d-b238-cae5cb5a767c. This dictionary can't be found.\n",
            "E0502 18:10:34.075668  9424 perplexity.cc:52] Perplexity was configured to use UnigramCollectionModel with dictionary 71bec208-36b8-426d-b238-cae5cb5a767c. This dictionary can't be found.\n",
            "E0502 18:10:34.075671  9424 perplexity.cc:52] Perplexity was configured to use UnigramCollectionModel with dictionary 71bec208-36b8-426d-b238-cae5cb5a767c. This dictionary can't be found.\n",
            "E0502 18:10:34.075675  9424 perplexity.cc:52] Perplexity was configured to use UnigramCollectionModel with dictionary 71bec208-36b8-426d-b238-cae5cb5a767c. This dictionary can't be found.\n",
            "E0502 18:10:34.075677  9424 perplexity.cc:52] Perplexity was configured to use UnigramCollectionModel with dictionary 71bec208-36b8-426d-b238-cae5cb5a767c. This dictionary can't be found.\n",
            "E0502 18:10:34.075681  9424 perplexity.cc:52] Perplexity was configured to use UnigramCollectionModel with dictionary 71bec208-36b8-426d-b238-cae5cb5a767c. This dictionary can't be found.\n",
            "E0502 18:10:34.075685  9424 perplexity.cc:52] Perplexity was configured to use UnigramCollectionModel with dictionary 71bec208-36b8-426d-b238-cae5cb5a767c. This dictionary can't be found.\n",
            "E0502 18:10:34.075687  9424 perplexity.cc:52] Perplexity was configured to use UnigramCollectionModel with dictionary 71bec208-36b8-426d-b238-cae5cb5a767c. This dictionary can't be found.\n",
            "E0502 18:10:34.075706  9424 perplexity.cc:52] Perplexity was configured to use UnigramCollectionModel with dictionary 71bec208-36b8-426d-b238-cae5cb5a767c. This dictionary can't be found.\n",
            "E0502 18:10:34.075709  9424 perplexity.cc:52] Perplexity was configured to use UnigramCollectionModel with dictionary 71bec208-36b8-426d-b238-cae5cb5a767c. This dictionary can't be found.\n",
            "E0502 18:10:34.075712  9424 perplexity.cc:52] Perplexity was configured to use UnigramCollectionModel with dictionary 71bec208-36b8-426d-b238-cae5cb5a767c. This dictionary can't be found.\n",
            "E0502 18:10:34.075716  9424 perplexity.cc:52] Perplexity was configured to use UnigramCollectionModel with dictionary 71bec208-36b8-426d-b238-cae5cb5a767c. This dictionary can't be found.\n",
            "E0502 18:10:34.075718  9424 perplexity.cc:52] Perplexity was configured to use UnigramCollectionModel with dictionary 71bec208-36b8-426d-b238-cae5cb5a767c. This dictionary can't be found.\n",
            "E0502 18:10:34.075722  9424 perplexity.cc:52] Perplexity was configured to use UnigramCollectionModel with dictionary 71bec208-36b8-426d-b238-cae5cb5a767c. This dictionary can't be found.\n",
            "E0502 18:10:34.075726  9424 perplexity.cc:52] Perplexity was configured to use UnigramCollectionModel with dictionary 71bec208-36b8-426d-b238-cae5cb5a767c. This dictionary can't be found.\n",
            "E0502 18:10:34.075728  9424 perplexity.cc:52] Perplexity was configured to use UnigramCollectionModel with dictionary 71bec208-36b8-426d-b238-cae5cb5a767c. This dictionary can't be found.\n",
            "E0502 18:10:34.075731  9424 perplexity.cc:52] Perplexity was configured to use UnigramCollectionModel with dictionary 71bec208-36b8-426d-b238-cae5cb5a767c. This dictionary can't be found.\n",
            "E0502 18:10:34.075734  9424 perplexity.cc:52] Perplexity was configured to use UnigramCollectionModel with dictionary 71bec208-36b8-426d-b238-cae5cb5a767c. This dictionary can't be found.\n",
            "E0502 18:10:34.075738  9424 perplexity.cc:52] Perplexity was configured to use UnigramCollectionModel with dictionary 71bec208-36b8-426d-b238-cae5cb5a767c. This dictionary can't be found.\n",
            "E0502 18:10:34.075742  9424 perplexity.cc:52] Perplexity was configured to use UnigramCollectionModel with dictionary 71bec208-36b8-426d-b238-cae5cb5a767c. This dictionary can't be found.\n",
            "E0502 18:10:34.075747  9424 perplexity.cc:52] Perplexity was configured to use UnigramCollectionModel with dictionary 71bec208-36b8-426d-b238-cae5cb5a767c. This dictionary can't be found.\n"
          ]
        },
        {
          "name": "stdout",
          "output_type": "stream",
          "text": [
            "Train data length: 622314 (622314, 178)\n",
            "Test data length: 109888\n",
            "nomod_noreg\n",
            "              precision    recall  f1-score   support\n",
            "\n",
            "        1999       0.00      0.00      0.00       348\n",
            "        2000       0.00      0.00      0.00      1331\n",
            "        2001       0.00      0.00      0.00      1841\n",
            "        2002       0.00      0.00      0.00      2273\n",
            "        2003       0.00      0.00      0.00      2416\n",
            "        2004       0.00      0.00      0.00      2905\n",
            "        2005       0.00      0.00      0.00      3830\n",
            "        2006       0.00      0.00      0.00      4341\n",
            "        2007       0.00      0.00      0.00      4037\n",
            "        2008       0.02      0.06      0.03      5889\n",
            "        2009       0.06      0.08      0.07      6761\n",
            "        2010       0.00      0.00      0.00      6155\n",
            "        2011       0.03      0.00      0.01      6240\n",
            "        2012       0.05      0.07      0.06      6499\n",
            "        2013       0.00      0.00      0.00      6263\n",
            "        2014       0.00      0.00      0.00      5091\n",
            "        2015       0.03      0.05      0.04      6382\n",
            "        2016       0.08      0.25      0.12      8216\n",
            "        2017       0.03      0.00      0.00      7322\n",
            "        2018       0.04      0.06      0.05      5711\n",
            "        2019       0.11      0.14      0.12      8285\n",
            "        2020       0.11      0.34      0.16      7752\n",
            "\n",
            "    accuracy                           0.07    109888\n",
            "   macro avg       0.03      0.05      0.03    109888\n",
            "weighted avg       0.04      0.07      0.04    109888\n",
            "\n",
            "Train data length: 622314 (622314, 178)\n",
            "Test data length: 109888\n",
            "nomod_decor_phi\n",
            "              precision    recall  f1-score   support\n",
            "\n",
            "        1999       0.00      0.00      0.00       348\n",
            "        2000       0.00      0.00      0.00      1331\n",
            "        2001       0.00      0.00      0.00      1841\n",
            "        2002       0.00      0.00      0.00      2273\n",
            "        2003       0.00      0.00      0.00      2416\n",
            "        2004       0.00      0.00      0.00      2905\n",
            "        2005       0.00      0.00      0.00      3830\n",
            "        2006       0.00      0.00      0.00      4341\n",
            "        2007       0.00      0.00      0.00      4037\n",
            "        2008       0.04      0.02      0.02      5889\n",
            "        2009       0.05      0.13      0.08      6761\n",
            "        2010       0.00      0.00      0.00      6155\n",
            "        2011       0.01      0.00      0.00      6240\n",
            "        2012       0.05      0.03      0.04      6499\n",
            "        2013       0.00      0.00      0.00      6263\n",
            "        2014       0.05      0.01      0.02      5091\n",
            "        2015       0.04      0.03      0.03      6382\n",
            "        2016       0.09      0.30      0.13      8216\n",
            "        2017       0.05      0.07      0.06      7322\n",
            "        2018       0.04      0.07      0.05      5711\n",
            "        2019       0.13      0.13      0.13      8285\n",
            "        2020       0.13      0.36      0.19      7752\n",
            "\n",
            "    accuracy                           0.08    109888\n",
            "   macro avg       0.03      0.05      0.03    109888\n",
            "weighted avg       0.04      0.08      0.05    109888\n",
            "\n",
            "Train data length: 622314 (622314, 178)\n",
            "Test data length: 109888\n",
            "nomod_sm_sp_phi\n",
            "              precision    recall  f1-score   support\n",
            "\n",
            "        1999       0.00      0.00      0.00       348\n",
            "        2000       0.00      0.00      0.00      1331\n",
            "        2001       0.00      0.00      0.00      1841\n",
            "        2002       0.00      0.00      0.00      2273\n",
            "        2003       0.00      0.00      0.00      2416\n",
            "        2004       0.00      0.00      0.00      2905\n",
            "        2005       0.00      0.00      0.00      3830\n",
            "        2006       0.00      0.00      0.00      4341\n",
            "        2007       0.00      0.00      0.00      4037\n",
            "        2008       0.00      0.00      0.00      5889\n",
            "        2009       0.00      0.00      0.00      6761\n",
            "        2010       0.00      0.00      0.00      6155\n",
            "        2011       0.00      0.00      0.00      6240\n",
            "        2012       0.00      0.00      0.00      6499\n",
            "        2013       0.00      0.00      0.00      6263\n",
            "        2014       0.00      0.00      0.00      5091\n",
            "        2015       0.04      0.04      0.04      6382\n",
            "        2016       0.08      0.72      0.14      8216\n",
            "        2017       0.00      0.00      0.00      7322\n",
            "        2018       0.00      0.00      0.00      5711\n",
            "        2019       0.06      0.20      0.09      8285\n",
            "        2020       0.00      0.00      0.00      7752\n",
            "\n",
            "    accuracy                           0.07    109888\n",
            "   macro avg       0.01      0.04      0.01    109888\n",
            "weighted avg       0.01      0.07      0.02    109888\n",
            "\n",
            "Train data length: 622314 (622314, 178)\n",
            "Test data length: 109888\n",
            "nomod_impr_coh_phi\n",
            "              precision    recall  f1-score   support\n",
            "\n",
            "        1999       0.00      0.00      0.00       348\n",
            "        2000       0.00      0.00      0.00      1331\n",
            "        2001       0.00      0.00      0.00      1841\n",
            "        2002       0.00      0.00      0.00      2273\n",
            "        2003       0.00      0.00      0.00      2416\n",
            "        2004       0.00      0.00      0.00      2905\n",
            "        2005       0.00      0.00      0.00      3830\n",
            "        2006       0.00      0.00      0.00      4341\n",
            "        2007       0.00      0.00      0.00      4037\n",
            "        2008       0.02      0.06      0.03      5889\n",
            "        2009       0.06      0.08      0.07      6761\n",
            "        2010       0.00      0.00      0.00      6155\n",
            "        2011       0.03      0.00      0.01      6240\n",
            "        2012       0.05      0.07      0.06      6499\n",
            "        2013       0.00      0.00      0.00      6263\n",
            "        2014       0.00      0.00      0.00      5091\n",
            "        2015       0.03      0.05      0.04      6382\n",
            "        2016       0.08      0.25      0.12      8216\n",
            "        2017       0.03      0.00      0.00      7322\n",
            "        2018       0.04      0.06      0.05      5711\n",
            "        2019       0.11      0.14      0.12      8285\n",
            "        2020       0.11      0.34      0.16      7752\n",
            "\n",
            "    accuracy                           0.07    109888\n",
            "   macro avg       0.03      0.05      0.03    109888\n",
            "weighted avg       0.04      0.07      0.04    109888\n",
            "\n",
            "Train data length: 622314 (622314, 178)\n",
            "Test data length: 109888\n",
            "year_noreg\n",
            "              precision    recall  f1-score   support\n",
            "\n",
            "        1999       0.00      0.00      0.00       348\n",
            "        2000       0.00      0.00      0.00      1331\n",
            "        2001       0.00      0.00      0.00      1841\n",
            "        2002       0.00      0.00      0.00      2273\n",
            "        2003       0.00      0.00      0.00      2416\n",
            "        2004       0.00      0.00      0.00      2905\n",
            "        2005       0.00      0.00      0.00      3830\n",
            "        2006       0.00      0.00      0.00      4341\n",
            "        2007       0.00      0.00      0.00      4037\n",
            "        2008       0.00      0.00      0.00      5889\n",
            "        2009       0.00      0.00      0.00      6761\n",
            "        2010       0.00      0.00      0.00      6155\n",
            "        2011       0.00      0.00      0.00      6240\n",
            "        2012       0.00      0.00      0.00      6499\n",
            "        2013       0.00      0.00      0.00      6263\n",
            "        2014       0.00      0.00      0.00      5091\n",
            "        2015       0.00      0.00      0.00      6382\n",
            "        2016       0.08      0.99      0.15      8216\n",
            "        2017       0.00      0.00      0.00      7322\n",
            "        2018       0.00      0.00      0.00      5711\n",
            "        2019       0.00      0.00      0.00      8285\n",
            "        2020       0.00      0.00      0.00      7752\n",
            "\n",
            "    accuracy                           0.07    109888\n",
            "   macro avg       0.00      0.05      0.01    109888\n",
            "weighted avg       0.01      0.07      0.01    109888\n",
            "\n",
            "Train data length: 622314 (622314, 178)\n",
            "Test data length: 109888\n",
            "year_decor_phi\n",
            "              precision    recall  f1-score   support\n",
            "\n",
            "        1999       0.00      0.00      0.00       348\n",
            "        2000       0.00      0.00      0.00      1331\n",
            "        2001       0.00      0.00      0.00      1841\n",
            "        2002       0.00      0.00      0.00      2273\n",
            "        2003       0.00      0.00      0.00      2416\n",
            "        2004       0.00      0.00      0.00      2905\n",
            "        2005       0.00      0.00      0.00      3830\n",
            "        2006       0.01      0.00      0.00      4341\n",
            "        2007       0.00      0.00      0.00      4037\n",
            "        2008       0.00      0.00      0.00      5889\n",
            "        2009       0.06      0.15      0.09      6761\n",
            "        2010       0.00      0.00      0.00      6155\n",
            "        2011       0.01      0.00      0.00      6240\n",
            "        2012       0.00      0.00      0.00      6499\n",
            "        2013       0.00      0.00      0.00      6263\n",
            "        2014       0.03      0.03      0.03      5091\n",
            "        2015       0.00      0.00      0.00      6382\n",
            "        2016       0.07      0.31      0.12      8216\n",
            "        2017       0.00      0.00      0.00      7322\n",
            "        2018       0.04      0.16      0.07      5711\n",
            "        2019       0.08      0.15      0.10      8285\n",
            "        2020       0.03      0.05      0.03      7752\n",
            "\n",
            "    accuracy                           0.06    109888\n",
            "   macro avg       0.01      0.04      0.02    109888\n",
            "weighted avg       0.02      0.06      0.03    109888\n",
            "\n",
            "Train data length: 622314 (622314, 178)\n",
            "Test data length: 109888\n",
            "year_sm_sp_phi\n",
            "              precision    recall  f1-score   support\n",
            "\n",
            "        1999       0.00      0.00      0.00       348\n",
            "        2000       0.00      0.00      0.00      1331\n",
            "        2001       0.00      0.00      0.00      1841\n",
            "        2002       0.00      0.00      0.00      2273\n",
            "        2003       0.00      0.00      0.00      2416\n",
            "        2004       0.00      0.00      0.00      2905\n",
            "        2005       0.00      0.00      0.00      3830\n",
            "        2006       0.00      0.00      0.00      4341\n",
            "        2007       0.00      0.00      0.00      4037\n",
            "        2008       0.00      0.00      0.00      5889\n",
            "        2009       0.00      0.00      0.00      6761\n",
            "        2010       0.00      0.00      0.00      6155\n",
            "        2011       0.00      0.00      0.00      6240\n",
            "        2012       0.00      0.00      0.00      6499\n",
            "        2013       0.00      0.00      0.00      6263\n",
            "        2014       0.00      0.00      0.00      5091\n",
            "        2015       0.00      0.00      0.00      6382\n",
            "        2016       0.00      0.00      0.00      8216\n",
            "        2017       0.00      0.00      0.00      7322\n",
            "        2018       0.00      0.00      0.00      5711\n",
            "        2019       0.10      1.00      0.18      8285\n",
            "        2020       0.00      0.00      0.00      7752\n",
            "\n",
            "    accuracy                           0.08    109888\n",
            "   macro avg       0.00      0.05      0.01    109888\n",
            "weighted avg       0.01      0.08      0.01    109888\n",
            "\n",
            "Train data length: 622314 (622314, 178)\n",
            "Test data length: 109888\n",
            "year_impr_coh_phi\n",
            "              precision    recall  f1-score   support\n",
            "\n",
            "        1999       0.00      0.00      0.00       348\n",
            "        2000       0.00      0.00      0.00      1331\n",
            "        2001       0.00      0.00      0.00      1841\n",
            "        2002       0.00      0.00      0.00      2273\n",
            "        2003       0.00      0.00      0.00      2416\n",
            "        2004       0.00      0.00      0.00      2905\n",
            "        2005       0.00      0.00      0.00      3830\n",
            "        2006       0.00      0.00      0.00      4341\n",
            "        2007       0.00      0.00      0.00      4037\n",
            "        2008       0.00      0.00      0.00      5889\n",
            "        2009       0.00      0.00      0.00      6761\n",
            "        2010       0.00      0.00      0.00      6155\n",
            "        2011       0.00      0.00      0.00      6240\n",
            "        2012       0.00      0.00      0.00      6499\n",
            "        2013       0.00      0.00      0.00      6263\n",
            "        2014       0.00      0.00      0.00      5091\n",
            "        2015       0.00      0.00      0.00      6382\n",
            "        2016       0.08      0.99      0.15      8216\n",
            "        2017       0.00      0.00      0.00      7322\n",
            "        2018       0.00      0.00      0.00      5711\n",
            "        2019       0.00      0.00      0.00      8285\n",
            "        2020       0.00      0.00      0.00      7752\n",
            "\n",
            "    accuracy                           0.07    109888\n",
            "   macro avg       0.00      0.05      0.01    109888\n",
            "weighted avg       0.01      0.07      0.01    109888\n",
            "\n",
            "Train data length: 622314 (622314, 178)\n",
            "Test data length: 109888\n",
            "tags_noreg\n",
            "              precision    recall  f1-score   support\n",
            "\n",
            "        1999       0.00      0.00      0.00       348\n",
            "        2000       0.00      0.00      0.00      1331\n",
            "        2001       0.00      0.00      0.00      1841\n",
            "        2002       0.00      0.00      0.00      2273\n",
            "        2003       0.00      0.00      0.00      2416\n",
            "        2004       0.01      0.00      0.00      2905\n",
            "        2005       0.00      0.00      0.00      3830\n",
            "        2006       0.00      0.00      0.00      4341\n",
            "        2007       0.03      0.03      0.03      4037\n",
            "        2008       0.06      0.00      0.01      5889\n",
            "        2009       0.13      0.07      0.09      6761\n",
            "        2010       0.07      0.05      0.06      6155\n",
            "        2011       0.00      0.01      0.00      6240\n",
            "        2012       0.03      0.00      0.00      6499\n",
            "        2013       0.00      0.00      0.00      6263\n",
            "        2014       0.08      0.05      0.06      5091\n",
            "        2015       0.07      0.36      0.12      6382\n",
            "        2016       0.07      0.20      0.11      8216\n",
            "        2017       0.01      0.00      0.00      7322\n",
            "        2018       0.00      0.00      0.00      5711\n",
            "        2019       0.19      0.11      0.14      8285\n",
            "        2020       0.05      0.04      0.04      7752\n",
            "\n",
            "    accuracy                           0.06    109888\n",
            "   macro avg       0.04      0.04      0.03    109888\n",
            "weighted avg       0.05      0.06      0.04    109888\n",
            "\n",
            "Train data length: 622314 (622314, 178)\n",
            "Test data length: 109888\n",
            "tags_decor_phi\n",
            "              precision    recall  f1-score   support\n",
            "\n",
            "        1999       0.00      0.00      0.00       348\n",
            "        2000       0.00      0.00      0.00      1331\n",
            "        2001       0.02      0.00      0.00      1841\n",
            "        2002       0.00      0.00      0.00      2273\n",
            "        2003       0.00      0.00      0.00      2416\n",
            "        2004       0.00      0.00      0.00      2905\n",
            "        2005       0.00      0.00      0.00      3830\n",
            "        2006       0.02      0.03      0.03      4341\n",
            "        2007       0.02      0.01      0.01      4037\n",
            "        2008       0.02      0.00      0.00      5889\n",
            "        2009       0.00      0.00      0.00      6761\n",
            "        2010       0.15      0.05      0.08      6155\n",
            "        2011       0.02      0.02      0.02      6240\n",
            "        2012       0.00      0.00      0.00      6499\n",
            "        2013       0.02      0.00      0.00      6263\n",
            "        2014       0.00      0.00      0.00      5091\n",
            "        2015       0.06      0.07      0.07      6382\n",
            "        2016       0.10      0.11      0.10      8216\n",
            "        2017       0.06      0.01      0.02      7322\n",
            "        2018       0.00      0.00      0.00      5711\n",
            "        2019       0.07      0.34      0.11      8285\n",
            "        2020       0.06      0.25      0.09      7752\n",
            "\n",
            "    accuracy                           0.06    109888\n",
            "   macro avg       0.03      0.04      0.02    109888\n",
            "weighted avg       0.04      0.06      0.03    109888\n",
            "\n",
            "Train data length: 622314 (622314, 178)\n",
            "Test data length: 109888\n",
            "tags_sm_sp_phi\n",
            "              precision    recall  f1-score   support\n",
            "\n",
            "        1999       0.00      0.00      0.00       348\n",
            "        2000       0.00      0.00      0.00      1331\n",
            "        2001       0.00      0.00      0.00      1841\n",
            "        2002       0.00      0.00      0.00      2273\n",
            "        2003       0.00      0.00      0.00      2416\n",
            "        2004       0.00      0.00      0.00      2905\n",
            "        2005       0.00      0.00      0.00      3830\n",
            "        2006       0.00      0.00      0.00      4341\n",
            "        2007       0.06      0.04      0.05      4037\n",
            "        2008       0.10      0.01      0.01      5889\n",
            "        2009       0.00      0.00      0.00      6761\n",
            "        2010       0.08      0.08      0.08      6155\n",
            "        2011       0.00      0.01      0.00      6240\n",
            "        2012       0.02      0.01      0.01      6499\n",
            "        2013       0.00      0.00      0.00      6263\n",
            "        2014       0.01      0.00      0.00      5091\n",
            "        2015       0.07      0.40      0.12      6382\n",
            "        2016       0.06      0.03      0.04      8216\n",
            "        2017       0.00      0.00      0.00      7322\n",
            "        2018       0.00      0.00      0.00      5711\n",
            "        2019       0.00      0.00      0.00      8285\n",
            "        2020       0.00      0.00      0.00      7752\n",
            "\n",
            "    accuracy                           0.03    109888\n",
            "   macro avg       0.02      0.03      0.01    109888\n",
            "weighted avg       0.02      0.03      0.02    109888\n",
            "\n",
            "Train data length: 622314 (622314, 178)\n",
            "Test data length: 109888\n",
            "tags_impr_coh_phi\n",
            "              precision    recall  f1-score   support\n",
            "\n",
            "        1999       0.00      0.00      0.00       348\n",
            "        2000       0.00      0.00      0.00      1331\n",
            "        2001       0.00      0.00      0.00      1841\n",
            "        2002       0.00      0.00      0.00      2273\n",
            "        2003       0.00      0.00      0.00      2416\n",
            "        2004       0.00      0.00      0.00      2905\n",
            "        2005       0.00      0.00      0.00      3830\n",
            "        2006       0.00      0.00      0.00      4341\n",
            "        2007       0.04      0.03      0.03      4037\n",
            "        2008       0.04      0.00      0.01      5889\n",
            "        2009       0.08      0.00      0.00      6761\n",
            "        2010       0.07      0.06      0.06      6155\n",
            "        2011       0.00      0.01      0.00      6240\n",
            "        2012       0.00      0.00      0.00      6499\n",
            "        2013       0.00      0.00      0.00      6263\n",
            "        2014       0.08      0.05      0.06      5091\n",
            "        2015       0.07      0.36      0.12      6382\n",
            "        2016       0.08      0.09      0.09      8216\n",
            "        2017       0.01      0.00      0.00      7322\n",
            "        2018       0.00      0.00      0.00      5711\n",
            "        2019       0.14      0.11      0.12      8285\n",
            "        2020       0.07      0.08      0.07      7752\n",
            "\n",
            "    accuracy                           0.05    109888\n",
            "   macro avg       0.03      0.04      0.03    109888\n",
            "weighted avg       0.04      0.05      0.04    109888\n",
            "\n"
          ]
        }
      ],
      "source": [
        "for mod in modalities_list:\n",
        "    if mod == None:\n",
        "        mod_name = \"nomod\"\n",
        "    else:\n",
        "        mod_name = mod\n",
        "\n",
        "    bv_train = artm.BatchVectorizer(data_path='topicmodeling/batches_train_' + mod_name,\n",
        "                                    data_format='batches')\n",
        "    bv_test = artm.BatchVectorizer(data_path='topicmodeling/batches_test_' + mod_name,\n",
        "                                   data_format='batches')\n",
        "\n",
        "    for reg in regul_list:\n",
        "        model_name = f'{mod_name}_{reg[1]}'\n",
        "        model = artm.load_artm_model(f'topicmodeling/model/{model_name}')\n",
        "\n",
        "        train_X_dataset = create_X_data(model, bv_train)\n",
        "        test_X_dataset = create_X_data(model, bv_test)\n",
        "\n",
        "        train_y_dataset = np.copy(year_train)\n",
        "\n",
        "        train_X_dataset, train_y_dataset = shuffle(train_X_dataset, train_y_dataset, random_state=34)\n",
        "\n",
        "        print(\"Train data length:\", len(train_X_dataset), train_X_dataset.shape)\n",
        "        print(\"Test data length:\", len(test_X_dataset))\n",
        "\n",
        "        clf = CatBoostClassifier(\n",
        "            iterations=10,\n",
        "            learning_rate=1,\n",
        "            depth=2,\n",
        "            loss_function='MultiClass'\n",
        "        )\n",
        "\n",
        "        clf.fit(train_X_dataset, train_y_dataset,\n",
        "                verbose=False\n",
        "        )\n",
        "\n",
        "        #print(year_test[:100], clf.predict(test_X_dataset)[:100])\n",
        "\n",
        "        report = classification_report(year_test, list(chain.from_iterable(clf.predict(test_X_dataset))), zero_division=0, target_names=all_years_lables)\n",
        "        print(model_name)\n",
        "        print(report)"
      ]
    },
    {
      "cell_type": "markdown",
      "metadata": {},
      "source": [
        "### Conlusions"
      ]
    },
    {
      "cell_type": "markdown",
      "metadata": {},
      "source": [
        "Был проводён ряд экспериментов:\n",
        "  * Без модальности и с модальностями в виде года и тега (тематики) статьи.\n",
        "  * Без регуляризаторов и с 3-мя: `DecorrelatorPhiRegularizer`, `SmoothSparsePhiRegularizer`, `ImproveCoherencePhiRegularizer`.\n",
        "\n",
        "Выводы:\n",
        "  * Встроенными методами `bigartm` получено, что при добавлении модельности года его sparsity (разреженность матрицы $\\phi$) увеличивается и достагает значений >0.5, что означает хорошее предсказывание слов при заданной теме.\n",
        "  * Регуляризаторы могут как улучшить, так и ухудшить сходимость моделей.\n",
        "    * Из всех регуляризаторов худшим показал себя `SmoothSparsePhiRegularizer`, который занижает perplexity и не даёт расти sparsity, возможно выбран неверный параметр $\\tau$.\n",
        "    * Лучшим регуляризатором является `DecorrelatorPhiRegularizer`, который ускоряет возрастание sparsity с тем же порядком preplexity.\n",
        "  * Ожидалось, что добавление модальностей существенным образом повлияет на качество конечной классификации, однако это не так. Качество классификации в среднем лучше, чем если бы года выбирались случайным образом, но одновременно остаётся ниже, чем ожидалось. Возможные причины такого поведения:\n",
        "    * Слабая корреляция тем топиков и года их публикации, вес модальности года при обучении возможно следовало ставить больше, чтобы темы больше разбивались по годам.\n",
        "    * Плохой метод классификации, но вместе с `catboost` были использованы ещё несколько других методов, в том числе нейронная сеть (подобие 3 семинара), все дают примерно схожий результат.\n",
        "\n",
        "Все модели (12 штук) обучались 2 раза (на всякий случай), 1 раз локально (3 часа) и 1 раз на google collab (13 часов), все данные и батчи 10 раз проверены, ошибок быть не должно."
      ]
    }
  ],
  "metadata": {
    "colab": {
      "provenance": []
    },
    "kernelspec": {
      "display_name": "Python 3",
      "name": "python3"
    },
    "language_info": {
      "codemirror_mode": {
        "name": "ipython",
        "version": 3
      },
      "file_extension": ".py",
      "mimetype": "text/x-python",
      "name": "python",
      "nbconvert_exporter": "python",
      "pygments_lexer": "ipython3",
      "version": "3.8.10"
    }
  },
  "nbformat": 4,
  "nbformat_minor": 0
}
