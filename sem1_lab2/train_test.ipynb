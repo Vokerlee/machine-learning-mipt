{
 "cells": [
  {
   "cell_type": "code",
   "execution_count": 297,
   "metadata": {},
   "outputs": [],
   "source": [
    "import numpy as np\n",
    "import seaborn as sns\n",
    "import pandas as pd\n",
    "import matplotlib\n",
    "import matplotlib.pyplot as plt\n",
    "\n",
    "from sklearn.decomposition import PCA\n",
    "from sklearn.model_selection import train_test_split\n",
    "from sklearn.linear_model import LinearRegression, Lasso, BayesianRidge\n",
    "from sklearn.naive_bayes import GaussianNB\n",
    "from sklearn.tree import DecisionTreeRegressor\n",
    "from sklearn.ensemble import RandomForestRegressor"
   ]
  },
  {
   "cell_type": "code",
   "execution_count": 298,
   "metadata": {},
   "outputs": [],
   "source": [
    "def mean_squared_error(y_true, y_pred):\n",
    "    y_true = np.array(y_true)\n",
    "    y_pred = np.array(y_pred)\n",
    "\n",
    "    if y_true.shape != y_pred.shape:\n",
    "        raise ValueError(\"Input shapes do not match.\")\n",
    "\n",
    "    return np.mean((y_true - y_pred) ** 2)"
   ]
  },
  {
   "cell_type": "markdown",
   "metadata": {},
   "source": [
    "## Dataset extraction"
   ]
  },
  {
   "cell_type": "code",
   "execution_count": 299,
   "metadata": {},
   "outputs": [
    {
     "name": "stdout",
     "output_type": "stream",
     "text": [
      "Shape of X_train: (9000, 100)\n",
      "Shape of X_test: (1000, 100)\n"
     ]
    }
   ],
   "source": [
    "train_file_path = 'train.csv'\n",
    "test_file_path  = 'test.csv'\n",
    "test_target_file_path = \"sample2.csv\"\n",
    "\n",
    "train_data = np.loadtxt(train_file_path, delimiter=',', skiprows=1)\n",
    "test_data  = np.loadtxt(test_file_path,  delimiter=',', skiprows=1)\n",
    "\n",
    "y_train = train_data[:, 1]\n",
    "\n",
    "X_train = train_data[:, 2:]\n",
    "X_test  = test_data [:, 1:]\n",
    "\n",
    "# Display the shape of the target variable and features\n",
    "print(\"Shape of X_train:\", X_train.shape)\n",
    "print(\"Shape of X_test:\",  X_test.shape)"
   ]
  },
  {
   "cell_type": "markdown",
   "metadata": {},
   "source": [
    "## Dataset analysis"
   ]
  },
  {
   "cell_type": "code",
   "execution_count": 300,
   "metadata": {},
   "outputs": [],
   "source": [
    "# for f in range(1, len(X_train[0])):\n",
    "#     plt.figure(figsize=(4, 3))\n",
    "#     plt.hist(X_train[:, f], bins=50)"
   ]
  },
  {
   "cell_type": "markdown",
   "metadata": {},
   "source": [
    "Из графиков видно, что каждый признак имеет одинаковую плотность вероятности, совпадающую с нормальным распределением.\n",
    "\n",
    "Значит нет смысла использовать разные алгоритмы на различных участках данных, можно использовать один алгоритм \"на всём\".\n",
    "\n",
    "Причём так как зависимостей между признаками нет (PCA не работает в данном случае), то можно воспользоваться байесовской линейной регрессией."
   ]
  },
  {
   "cell_type": "markdown",
   "metadata": {},
   "source": [
    "$$\n",
    "y | X, \\beta \\sim \\mathcal{N}(X \\beta, \\sigma^2 I),\n",
    "$$\n",
    "\n",
    "где вектор $\\beta$ это вектор, который требуется оценить.\n",
    "\n",
    "$$\n",
    "p(\\beta | y, X) \\propto p(\\beta) \\cdot p(y | X, \\beta) \\propto \\exp{\\left(-\\frac{1}{2} (\\beta - 0)^T \\frac{1}{\\tau^2} I (\\beta - 0) \\right)} \n",
    "\\cdot \\exp{\\left(-\\frac{1}{2} (y - X \\beta)^T \\frac{1}{\\sigma^2} (y - X \\beta) \\right)} = \n",
    "$$\n",
    "\n",
    "$$\n",
    "\\exp{\\left( -\\frac{1}{2\\sigma^2}  (y - X \\beta)^T (y - X \\beta) - \\frac{1}{2\\tau^2} \\|\\beta\\|^2_2 \\right)} \\rightarrow max\n",
    "$$\n",
    "\n",
    "$$\n",
    "\\beta^* = argmin_{\\beta} \\left( (y - X \\beta)^T (y - X \\beta) + \\frac{\\sigma^2}{\\tau^2} \\|\\beta\\|^2_2 \\right)\n",
    "$$"
   ]
  },
  {
   "cell_type": "markdown",
   "metadata": {},
   "source": [
    "## Training algorithms"
   ]
  },
  {
   "cell_type": "code",
   "execution_count": 301,
   "metadata": {},
   "outputs": [],
   "source": [
    "alpha_1  = [1e-7, 5 * 1e-7, 1e-6, 4 * 1e-6, 1e-5]\n",
    "alpha_2  = [1e-7, 5 * 1e-7, 1e-6, 4 * 1e-6, 1e-5]\n",
    "lambda_1 = [1e-7, 5 * 1e-7, 1e-6, 4 * 1e-6, 1e-5]\n",
    "lambda_2 = [1e-7, 5 * 1e-7, 1e-6, 4 * 1e-6, 1e-5]\n",
    "\n",
    "min_mse = 1e20\n",
    "\n",
    "# for a1 in alpha_1:\n",
    "#     for a2 in alpha_2:\n",
    "#         for l1 in lambda_1:\n",
    "#             for l2 in lambda_2:\n",
    "#                 model = BayesianRidge(alpha_1=a1, alpha_2=a2, lambda_1=l1, lambda_2=l2)\n",
    "#                 model.fit(X_train, y_train.ravel())\n",
    "#                 y_train_pred = model.predict(X_train)\n",
    "#                 y_test_pred  = model.predict(X_test)\n",
    "\n",
    "#                 mse_value = mean_squared_error(y_train, y_train_pred)\n",
    "#                 if mse_value < min_mse:\n",
    "#                     print(\"Parameters:\", a1, a2, l1, l2)\n",
    "#                     print(\"MSE:\", mse_value)\n",
    "\n",
    "#                     min_mse = mse_value"
   ]
  },
  {
   "cell_type": "markdown",
   "metadata": {},
   "source": [
    "В целом, подбор гиперпараметров вообще ни на что не повлиял."
   ]
  },
  {
   "cell_type": "markdown",
   "metadata": {},
   "source": [
    "## Generating output file in valid form"
   ]
  },
  {
   "cell_type": "code",
   "execution_count": 302,
   "metadata": {},
   "outputs": [
    {
     "name": "stdout",
     "output_type": "stream",
     "text": [
      "CSV file 'sample2.csv' created successfully.\n"
     ]
    }
   ],
   "source": [
    "model = BayesianRidge(alpha_1=1e-5, alpha_2=1e-7, lambda_1=1e-7, lambda_2=1e-5)\n",
    "model.fit(X_train, y_train.ravel())\n",
    "y_train_pred = model.predict(X_train)\n",
    "y_test_pred  = model.predict(X_test)\n",
    "\n",
    "ids = np.array(list(range(len(y_test_pred))))\n",
    "df_out = pd.DataFrame({'Id': ids, 'Category': y_test_pred})\n",
    "\n",
    "df_out.to_csv(test_target_file_path, index=False)\n",
    "\n",
    "print(f\"CSV file '{test_target_file_path}' created successfully.\")"
   ]
  }
 ],
 "metadata": {
  "kernelspec": {
   "display_name": "Python 3",
   "language": "python",
   "name": "python3"
  },
  "language_info": {
   "codemirror_mode": {
    "name": "ipython",
    "version": 3
   },
   "file_extension": ".py",
   "mimetype": "text/x-python",
   "name": "python",
   "nbconvert_exporter": "python",
   "pygments_lexer": "ipython3",
   "version": "3.11.6"
  }
 },
 "nbformat": 4,
 "nbformat_minor": 2
}
